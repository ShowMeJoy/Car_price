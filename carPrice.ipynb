{
  "cells": [
    {
      "cell_type": "markdown",
      "metadata": {
        "id": "3oUJZJjRa-7u"
      },
      "source": [
        "# Определение стоимости автомобилей"
      ]
    },
    {
      "cell_type": "markdown",
      "metadata": {
        "id": "qavfqp_ga-7u"
      },
      "source": [
        "Заказчику важны:\n",
        "\n",
        "- качество предсказания;\n",
        "- скорость предсказания;\n",
        "- время обучения."
      ]
    },
    {
      "cell_type": "markdown",
      "metadata": {
        "id": "ojP8iZWOa-7v"
      },
      "source": [
        "## Подготовка данных"
      ]
    },
    {
      "cell_type": "code",
      "execution_count": 66,
      "metadata": {
        "id": "yUDj1APha-7w"
      },
      "outputs": [],
      "source": [
        "import pandas as pd\n",
        "import numpy as np\n",
        "from math import sqrt\n",
        "\n",
        "from sklearn.preprocessing import OrdinalEncoder\n",
        "from sklearn.model_selection import train_test_split\n",
        "from sklearn.preprocessing import StandardScaler\n",
        "from sklearn.metrics import mean_squared_error\n",
        "from sklearn.linear_model import LinearRegression\n",
        "from sklearn.tree import DecisionTreeRegressor\n",
        "from sklearn.ensemble import RandomForestRegressor\n",
        "from sklearn.model_selection import GridSearchCV\n",
        "\n",
        "from catboost import CatBoostRegressor, Pool\n",
        "from lightgbm import LGBMRegressor\n",
        "\n",
        "\n",
        "import matplotlib.pyplot as plt\n",
        "plt.rcParams[\"figure.figsize\"] = (10,8)\n",
        "\n",
        "import warnings\n",
        "warnings.simplefilter(action='ignore')"
      ]
    },
    {
      "cell_type": "code",
      "execution_count": 2,
      "metadata": {
        "id": "J4MZ4pOUa-7y"
      },
      "outputs": [],
      "source": [
        "df = pd.read_csv('https://code.s3.yandex.net/datasets/autos.csv')"
      ]
    },
    {
      "cell_type": "code",
      "execution_count": 3,
      "metadata": {
        "id": "Zd-aPjQQa-71"
      },
      "outputs": [],
      "source": [
        "df.loc[(df['Power'] > 1000) | (df['Power'] <= 50), 'Power'] = None\n",
        "df['Power'] = df['Power'].fillna(df.groupby('Model')['Power'].transform('median'))\n",
        "df = df.loc[~df['Power'].isna()]\n",
        "df['Power'] = df['Power'].astype('int64')"
      ]
    },
    {
      "cell_type": "code",
      "execution_count": 4,
      "metadata": {
        "id": "6nkVDB6ea-72",
        "outputId": "e65a38bb-b23a-4a97-f33e-3de0c8f46db9",
        "colab": {
          "base_uri": "https://localhost:8080/",
          "height": 143
        }
      },
      "outputs": [
        {
          "output_type": "execute_result",
          "data": {
            "text/plain": [
              "           DateCrawled  Price VehicleType  RegistrationYear Gearbox  Power  \\\n",
              "0  2016-03-24 11:52:17    480         NaN              1993  manual    101   \n",
              "1  2016-03-24 10:58:45  18300       coupe              2011  manual    190   \n",
              "2  2016-03-14 12:52:21   9800         suv              2004    auto    163   \n",
              "\n",
              "   Model  Kilometer  RegistrationMonth  FuelType       Brand Repaired  \\\n",
              "0   golf     150000                  0    petrol  volkswagen      NaN   \n",
              "1    NaN     125000                  5  gasoline        audi      yes   \n",
              "2  grand     125000                  8  gasoline        jeep      NaN   \n",
              "\n",
              "           DateCreated  NumberOfPictures  PostalCode             LastSeen  \n",
              "0  2016-03-24 00:00:00                 0       70435  2016-04-07 03:16:57  \n",
              "1  2016-03-24 00:00:00                 0       66954  2016-04-07 01:46:50  \n",
              "2  2016-03-14 00:00:00                 0       90480  2016-04-05 12:47:46  "
            ],
            "text/html": [
              "\n",
              "  <div id=\"df-94ab6576-1973-4551-be39-c98e2cb42fd9\">\n",
              "    <div class=\"colab-df-container\">\n",
              "      <div>\n",
              "<style scoped>\n",
              "    .dataframe tbody tr th:only-of-type {\n",
              "        vertical-align: middle;\n",
              "    }\n",
              "\n",
              "    .dataframe tbody tr th {\n",
              "        vertical-align: top;\n",
              "    }\n",
              "\n",
              "    .dataframe thead th {\n",
              "        text-align: right;\n",
              "    }\n",
              "</style>\n",
              "<table border=\"1\" class=\"dataframe\">\n",
              "  <thead>\n",
              "    <tr style=\"text-align: right;\">\n",
              "      <th></th>\n",
              "      <th>DateCrawled</th>\n",
              "      <th>Price</th>\n",
              "      <th>VehicleType</th>\n",
              "      <th>RegistrationYear</th>\n",
              "      <th>Gearbox</th>\n",
              "      <th>Power</th>\n",
              "      <th>Model</th>\n",
              "      <th>Kilometer</th>\n",
              "      <th>RegistrationMonth</th>\n",
              "      <th>FuelType</th>\n",
              "      <th>Brand</th>\n",
              "      <th>Repaired</th>\n",
              "      <th>DateCreated</th>\n",
              "      <th>NumberOfPictures</th>\n",
              "      <th>PostalCode</th>\n",
              "      <th>LastSeen</th>\n",
              "    </tr>\n",
              "  </thead>\n",
              "  <tbody>\n",
              "    <tr>\n",
              "      <th>0</th>\n",
              "      <td>2016-03-24 11:52:17</td>\n",
              "      <td>480</td>\n",
              "      <td>NaN</td>\n",
              "      <td>1993</td>\n",
              "      <td>manual</td>\n",
              "      <td>101</td>\n",
              "      <td>golf</td>\n",
              "      <td>150000</td>\n",
              "      <td>0</td>\n",
              "      <td>petrol</td>\n",
              "      <td>volkswagen</td>\n",
              "      <td>NaN</td>\n",
              "      <td>2016-03-24 00:00:00</td>\n",
              "      <td>0</td>\n",
              "      <td>70435</td>\n",
              "      <td>2016-04-07 03:16:57</td>\n",
              "    </tr>\n",
              "    <tr>\n",
              "      <th>1</th>\n",
              "      <td>2016-03-24 10:58:45</td>\n",
              "      <td>18300</td>\n",
              "      <td>coupe</td>\n",
              "      <td>2011</td>\n",
              "      <td>manual</td>\n",
              "      <td>190</td>\n",
              "      <td>NaN</td>\n",
              "      <td>125000</td>\n",
              "      <td>5</td>\n",
              "      <td>gasoline</td>\n",
              "      <td>audi</td>\n",
              "      <td>yes</td>\n",
              "      <td>2016-03-24 00:00:00</td>\n",
              "      <td>0</td>\n",
              "      <td>66954</td>\n",
              "      <td>2016-04-07 01:46:50</td>\n",
              "    </tr>\n",
              "    <tr>\n",
              "      <th>2</th>\n",
              "      <td>2016-03-14 12:52:21</td>\n",
              "      <td>9800</td>\n",
              "      <td>suv</td>\n",
              "      <td>2004</td>\n",
              "      <td>auto</td>\n",
              "      <td>163</td>\n",
              "      <td>grand</td>\n",
              "      <td>125000</td>\n",
              "      <td>8</td>\n",
              "      <td>gasoline</td>\n",
              "      <td>jeep</td>\n",
              "      <td>NaN</td>\n",
              "      <td>2016-03-14 00:00:00</td>\n",
              "      <td>0</td>\n",
              "      <td>90480</td>\n",
              "      <td>2016-04-05 12:47:46</td>\n",
              "    </tr>\n",
              "  </tbody>\n",
              "</table>\n",
              "</div>\n",
              "      <button class=\"colab-df-convert\" onclick=\"convertToInteractive('df-94ab6576-1973-4551-be39-c98e2cb42fd9')\"\n",
              "              title=\"Convert this dataframe to an interactive table.\"\n",
              "              style=\"display:none;\">\n",
              "        \n",
              "  <svg xmlns=\"http://www.w3.org/2000/svg\" height=\"24px\"viewBox=\"0 0 24 24\"\n",
              "       width=\"24px\">\n",
              "    <path d=\"M0 0h24v24H0V0z\" fill=\"none\"/>\n",
              "    <path d=\"M18.56 5.44l.94 2.06.94-2.06 2.06-.94-2.06-.94-.94-2.06-.94 2.06-2.06.94zm-11 1L8.5 8.5l.94-2.06 2.06-.94-2.06-.94L8.5 2.5l-.94 2.06-2.06.94zm10 10l.94 2.06.94-2.06 2.06-.94-2.06-.94-.94-2.06-.94 2.06-2.06.94z\"/><path d=\"M17.41 7.96l-1.37-1.37c-.4-.4-.92-.59-1.43-.59-.52 0-1.04.2-1.43.59L10.3 9.45l-7.72 7.72c-.78.78-.78 2.05 0 2.83L4 21.41c.39.39.9.59 1.41.59.51 0 1.02-.2 1.41-.59l7.78-7.78 2.81-2.81c.8-.78.8-2.07 0-2.86zM5.41 20L4 18.59l7.72-7.72 1.47 1.35L5.41 20z\"/>\n",
              "  </svg>\n",
              "      </button>\n",
              "      \n",
              "  <style>\n",
              "    .colab-df-container {\n",
              "      display:flex;\n",
              "      flex-wrap:wrap;\n",
              "      gap: 12px;\n",
              "    }\n",
              "\n",
              "    .colab-df-convert {\n",
              "      background-color: #E8F0FE;\n",
              "      border: none;\n",
              "      border-radius: 50%;\n",
              "      cursor: pointer;\n",
              "      display: none;\n",
              "      fill: #1967D2;\n",
              "      height: 32px;\n",
              "      padding: 0 0 0 0;\n",
              "      width: 32px;\n",
              "    }\n",
              "\n",
              "    .colab-df-convert:hover {\n",
              "      background-color: #E2EBFA;\n",
              "      box-shadow: 0px 1px 2px rgba(60, 64, 67, 0.3), 0px 1px 3px 1px rgba(60, 64, 67, 0.15);\n",
              "      fill: #174EA6;\n",
              "    }\n",
              "\n",
              "    [theme=dark] .colab-df-convert {\n",
              "      background-color: #3B4455;\n",
              "      fill: #D2E3FC;\n",
              "    }\n",
              "\n",
              "    [theme=dark] .colab-df-convert:hover {\n",
              "      background-color: #434B5C;\n",
              "      box-shadow: 0px 1px 3px 1px rgba(0, 0, 0, 0.15);\n",
              "      filter: drop-shadow(0px 1px 2px rgba(0, 0, 0, 0.3));\n",
              "      fill: #FFFFFF;\n",
              "    }\n",
              "  </style>\n",
              "\n",
              "      <script>\n",
              "        const buttonEl =\n",
              "          document.querySelector('#df-94ab6576-1973-4551-be39-c98e2cb42fd9 button.colab-df-convert');\n",
              "        buttonEl.style.display =\n",
              "          google.colab.kernel.accessAllowed ? 'block' : 'none';\n",
              "\n",
              "        async function convertToInteractive(key) {\n",
              "          const element = document.querySelector('#df-94ab6576-1973-4551-be39-c98e2cb42fd9');\n",
              "          const dataTable =\n",
              "            await google.colab.kernel.invokeFunction('convertToInteractive',\n",
              "                                                     [key], {});\n",
              "          if (!dataTable) return;\n",
              "\n",
              "          const docLinkHtml = 'Like what you see? Visit the ' +\n",
              "            '<a target=\"_blank\" href=https://colab.research.google.com/notebooks/data_table.ipynb>data table notebook</a>'\n",
              "            + ' to learn more about interactive tables.';\n",
              "          element.innerHTML = '';\n",
              "          dataTable['output_type'] = 'display_data';\n",
              "          await google.colab.output.renderOutput(dataTable, element);\n",
              "          const docLink = document.createElement('div');\n",
              "          docLink.innerHTML = docLinkHtml;\n",
              "          element.appendChild(docLink);\n",
              "        }\n",
              "      </script>\n",
              "    </div>\n",
              "  </div>\n",
              "  "
            ]
          },
          "metadata": {},
          "execution_count": 4
        }
      ],
      "source": [
        "df.head(3)"
      ]
    },
    {
      "cell_type": "code",
      "execution_count": 5,
      "metadata": {
        "id": "OIyc86vJa-72",
        "outputId": "df42e5f5-c3e8-417c-dd1f-dd618a983f29",
        "colab": {
          "base_uri": "https://localhost:8080/"
        }
      },
      "outputs": [
        {
          "output_type": "stream",
          "name": "stdout",
          "text": [
            "<class 'pandas.core.frame.DataFrame'>\n",
            "Int64Index: 346710 entries, 0 to 354368\n",
            "Data columns (total 16 columns):\n",
            " #   Column             Non-Null Count   Dtype \n",
            "---  ------             --------------   ----- \n",
            " 0   DateCrawled        346710 non-null  object\n",
            " 1   Price              346710 non-null  int64 \n",
            " 2   VehicleType        313194 non-null  object\n",
            " 3   RegistrationYear   346710 non-null  int64 \n",
            " 4   Gearbox            330292 non-null  object\n",
            " 5   Power              346710 non-null  int64 \n",
            " 6   Model              334243 non-null  object\n",
            " 7   Kilometer          346710 non-null  int64 \n",
            " 8   RegistrationMonth  346710 non-null  int64 \n",
            " 9   FuelType           317634 non-null  object\n",
            " 10  Brand              346710 non-null  object\n",
            " 11  Repaired           280398 non-null  object\n",
            " 12  DateCreated        346710 non-null  object\n",
            " 13  NumberOfPictures   346710 non-null  int64 \n",
            " 14  PostalCode         346710 non-null  int64 \n",
            " 15  LastSeen           346710 non-null  object\n",
            "dtypes: int64(7), object(9)\n",
            "memory usage: 45.0+ MB\n"
          ]
        }
      ],
      "source": [
        "df.info()"
      ]
    },
    {
      "cell_type": "markdown",
      "metadata": {
        "id": "ZX8dhHK0a-72"
      },
      "source": [
        "* DateCrawled — дата скачивания анкеты из базы\n",
        "* VehicleType — тип автомобильного кузова\n",
        "* RegistrationYear — год регистрации автомобиля\n",
        "* Gearbox — тип коробки передач\n",
        "* Power — мощность (л. с.)\n",
        "* Model — модель автомобиля\n",
        "* Kilometer — пробег (км)\n",
        "* RegistrationMonth — месяц регистрации автомобиля\n",
        "* FuelType — тип топлива\n",
        "* Brand — марка автомобиля\n",
        "* Repaired — была машина в ремонте или нет\n",
        "* DateCreated — дата создания анкеты\n",
        "* NumberOfPictures — количество фотографий автомобиля\n",
        "* PostalCode — почтовый индекс владельца анкеты (пользователя)\n",
        "* LastSeen — дата последней активности пользователя\n",
        "\n",
        "* Price — цена (евро) — целевой признак"
      ]
    },
    {
      "cell_type": "code",
      "execution_count": 6,
      "metadata": {
        "id": "sdJhTnqoa-72",
        "outputId": "b3f2aa63-7afd-44fd-8e35-4fd14d7c8ab3",
        "colab": {
          "base_uri": "https://localhost:8080/",
          "height": 300
        }
      },
      "outputs": [
        {
          "output_type": "execute_result",
          "data": {
            "text/plain": [
              "               Price  RegistrationYear          Power      Kilometer  \\\n",
              "count  346710.000000     346710.000000  346710.000000  346710.000000   \n",
              "mean     4473.681656       2003.962776     120.150457  128725.678521   \n",
              "std      4525.807399         70.902869      52.907342   37161.146701   \n",
              "min         0.000000       1000.000000      51.000000    5000.000000   \n",
              "25%      1100.000000       1999.000000      75.000000  125000.000000   \n",
              "50%      2800.000000       2003.000000     110.000000  150000.000000   \n",
              "75%      6499.000000       2008.000000     145.000000  150000.000000   \n",
              "max     20000.000000       9999.000000    1000.000000  150000.000000   \n",
              "\n",
              "       RegistrationMonth  NumberOfPictures     PostalCode  \n",
              "count      346710.000000          346710.0  346710.000000  \n",
              "mean            5.778743               0.0   50638.224623  \n",
              "std             3.698917               0.0   25753.098720  \n",
              "min             0.000000               0.0    1067.000000  \n",
              "25%             3.000000               0.0   30419.000000  \n",
              "50%             6.000000               0.0   49497.000000  \n",
              "75%             9.000000               0.0   71144.000000  \n",
              "max            12.000000               0.0   99998.000000  "
            ],
            "text/html": [
              "\n",
              "  <div id=\"df-7a8bdad0-8b02-4cc5-97d0-23fec453583f\">\n",
              "    <div class=\"colab-df-container\">\n",
              "      <div>\n",
              "<style scoped>\n",
              "    .dataframe tbody tr th:only-of-type {\n",
              "        vertical-align: middle;\n",
              "    }\n",
              "\n",
              "    .dataframe tbody tr th {\n",
              "        vertical-align: top;\n",
              "    }\n",
              "\n",
              "    .dataframe thead th {\n",
              "        text-align: right;\n",
              "    }\n",
              "</style>\n",
              "<table border=\"1\" class=\"dataframe\">\n",
              "  <thead>\n",
              "    <tr style=\"text-align: right;\">\n",
              "      <th></th>\n",
              "      <th>Price</th>\n",
              "      <th>RegistrationYear</th>\n",
              "      <th>Power</th>\n",
              "      <th>Kilometer</th>\n",
              "      <th>RegistrationMonth</th>\n",
              "      <th>NumberOfPictures</th>\n",
              "      <th>PostalCode</th>\n",
              "    </tr>\n",
              "  </thead>\n",
              "  <tbody>\n",
              "    <tr>\n",
              "      <th>count</th>\n",
              "      <td>346710.000000</td>\n",
              "      <td>346710.000000</td>\n",
              "      <td>346710.000000</td>\n",
              "      <td>346710.000000</td>\n",
              "      <td>346710.000000</td>\n",
              "      <td>346710.0</td>\n",
              "      <td>346710.000000</td>\n",
              "    </tr>\n",
              "    <tr>\n",
              "      <th>mean</th>\n",
              "      <td>4473.681656</td>\n",
              "      <td>2003.962776</td>\n",
              "      <td>120.150457</td>\n",
              "      <td>128725.678521</td>\n",
              "      <td>5.778743</td>\n",
              "      <td>0.0</td>\n",
              "      <td>50638.224623</td>\n",
              "    </tr>\n",
              "    <tr>\n",
              "      <th>std</th>\n",
              "      <td>4525.807399</td>\n",
              "      <td>70.902869</td>\n",
              "      <td>52.907342</td>\n",
              "      <td>37161.146701</td>\n",
              "      <td>3.698917</td>\n",
              "      <td>0.0</td>\n",
              "      <td>25753.098720</td>\n",
              "    </tr>\n",
              "    <tr>\n",
              "      <th>min</th>\n",
              "      <td>0.000000</td>\n",
              "      <td>1000.000000</td>\n",
              "      <td>51.000000</td>\n",
              "      <td>5000.000000</td>\n",
              "      <td>0.000000</td>\n",
              "      <td>0.0</td>\n",
              "      <td>1067.000000</td>\n",
              "    </tr>\n",
              "    <tr>\n",
              "      <th>25%</th>\n",
              "      <td>1100.000000</td>\n",
              "      <td>1999.000000</td>\n",
              "      <td>75.000000</td>\n",
              "      <td>125000.000000</td>\n",
              "      <td>3.000000</td>\n",
              "      <td>0.0</td>\n",
              "      <td>30419.000000</td>\n",
              "    </tr>\n",
              "    <tr>\n",
              "      <th>50%</th>\n",
              "      <td>2800.000000</td>\n",
              "      <td>2003.000000</td>\n",
              "      <td>110.000000</td>\n",
              "      <td>150000.000000</td>\n",
              "      <td>6.000000</td>\n",
              "      <td>0.0</td>\n",
              "      <td>49497.000000</td>\n",
              "    </tr>\n",
              "    <tr>\n",
              "      <th>75%</th>\n",
              "      <td>6499.000000</td>\n",
              "      <td>2008.000000</td>\n",
              "      <td>145.000000</td>\n",
              "      <td>150000.000000</td>\n",
              "      <td>9.000000</td>\n",
              "      <td>0.0</td>\n",
              "      <td>71144.000000</td>\n",
              "    </tr>\n",
              "    <tr>\n",
              "      <th>max</th>\n",
              "      <td>20000.000000</td>\n",
              "      <td>9999.000000</td>\n",
              "      <td>1000.000000</td>\n",
              "      <td>150000.000000</td>\n",
              "      <td>12.000000</td>\n",
              "      <td>0.0</td>\n",
              "      <td>99998.000000</td>\n",
              "    </tr>\n",
              "  </tbody>\n",
              "</table>\n",
              "</div>\n",
              "      <button class=\"colab-df-convert\" onclick=\"convertToInteractive('df-7a8bdad0-8b02-4cc5-97d0-23fec453583f')\"\n",
              "              title=\"Convert this dataframe to an interactive table.\"\n",
              "              style=\"display:none;\">\n",
              "        \n",
              "  <svg xmlns=\"http://www.w3.org/2000/svg\" height=\"24px\"viewBox=\"0 0 24 24\"\n",
              "       width=\"24px\">\n",
              "    <path d=\"M0 0h24v24H0V0z\" fill=\"none\"/>\n",
              "    <path d=\"M18.56 5.44l.94 2.06.94-2.06 2.06-.94-2.06-.94-.94-2.06-.94 2.06-2.06.94zm-11 1L8.5 8.5l.94-2.06 2.06-.94-2.06-.94L8.5 2.5l-.94 2.06-2.06.94zm10 10l.94 2.06.94-2.06 2.06-.94-2.06-.94-.94-2.06-.94 2.06-2.06.94z\"/><path d=\"M17.41 7.96l-1.37-1.37c-.4-.4-.92-.59-1.43-.59-.52 0-1.04.2-1.43.59L10.3 9.45l-7.72 7.72c-.78.78-.78 2.05 0 2.83L4 21.41c.39.39.9.59 1.41.59.51 0 1.02-.2 1.41-.59l7.78-7.78 2.81-2.81c.8-.78.8-2.07 0-2.86zM5.41 20L4 18.59l7.72-7.72 1.47 1.35L5.41 20z\"/>\n",
              "  </svg>\n",
              "      </button>\n",
              "      \n",
              "  <style>\n",
              "    .colab-df-container {\n",
              "      display:flex;\n",
              "      flex-wrap:wrap;\n",
              "      gap: 12px;\n",
              "    }\n",
              "\n",
              "    .colab-df-convert {\n",
              "      background-color: #E8F0FE;\n",
              "      border: none;\n",
              "      border-radius: 50%;\n",
              "      cursor: pointer;\n",
              "      display: none;\n",
              "      fill: #1967D2;\n",
              "      height: 32px;\n",
              "      padding: 0 0 0 0;\n",
              "      width: 32px;\n",
              "    }\n",
              "\n",
              "    .colab-df-convert:hover {\n",
              "      background-color: #E2EBFA;\n",
              "      box-shadow: 0px 1px 2px rgba(60, 64, 67, 0.3), 0px 1px 3px 1px rgba(60, 64, 67, 0.15);\n",
              "      fill: #174EA6;\n",
              "    }\n",
              "\n",
              "    [theme=dark] .colab-df-convert {\n",
              "      background-color: #3B4455;\n",
              "      fill: #D2E3FC;\n",
              "    }\n",
              "\n",
              "    [theme=dark] .colab-df-convert:hover {\n",
              "      background-color: #434B5C;\n",
              "      box-shadow: 0px 1px 3px 1px rgba(0, 0, 0, 0.15);\n",
              "      filter: drop-shadow(0px 1px 2px rgba(0, 0, 0, 0.3));\n",
              "      fill: #FFFFFF;\n",
              "    }\n",
              "  </style>\n",
              "\n",
              "      <script>\n",
              "        const buttonEl =\n",
              "          document.querySelector('#df-7a8bdad0-8b02-4cc5-97d0-23fec453583f button.colab-df-convert');\n",
              "        buttonEl.style.display =\n",
              "          google.colab.kernel.accessAllowed ? 'block' : 'none';\n",
              "\n",
              "        async function convertToInteractive(key) {\n",
              "          const element = document.querySelector('#df-7a8bdad0-8b02-4cc5-97d0-23fec453583f');\n",
              "          const dataTable =\n",
              "            await google.colab.kernel.invokeFunction('convertToInteractive',\n",
              "                                                     [key], {});\n",
              "          if (!dataTable) return;\n",
              "\n",
              "          const docLinkHtml = 'Like what you see? Visit the ' +\n",
              "            '<a target=\"_blank\" href=https://colab.research.google.com/notebooks/data_table.ipynb>data table notebook</a>'\n",
              "            + ' to learn more about interactive tables.';\n",
              "          element.innerHTML = '';\n",
              "          dataTable['output_type'] = 'display_data';\n",
              "          await google.colab.output.renderOutput(dataTable, element);\n",
              "          const docLink = document.createElement('div');\n",
              "          docLink.innerHTML = docLinkHtml;\n",
              "          element.appendChild(docLink);\n",
              "        }\n",
              "      </script>\n",
              "    </div>\n",
              "  </div>\n",
              "  "
            ]
          },
          "metadata": {},
          "execution_count": 6
        }
      ],
      "source": [
        "df.describe()"
      ]
    },
    {
      "cell_type": "markdown",
      "metadata": {
        "id": "37cCwVcJa-72"
      },
      "source": [
        "### Предобработка данных"
      ]
    },
    {
      "cell_type": "markdown",
      "metadata": {
        "id": "E_1jxZfla-73"
      },
      "source": [
        "Для задачи предсказания цены не обязательно держать в датасете некоторые столбцы:\n",
        "\n",
        "* NumberOfPictures\n",
        "* PostalCode\n",
        "* DateCrawled\n",
        "* LastSeen"
      ]
    },
    {
      "cell_type": "markdown",
      "metadata": {
        "id": "WGpoeBhra-73"
      },
      "source": [
        "Сразу удалю дубликаты и неинформативные столбцы."
      ]
    },
    {
      "cell_type": "code",
      "execution_count": 7,
      "metadata": {
        "id": "rOueIYY0a-73"
      },
      "outputs": [],
      "source": [
        "df = df.drop_duplicates().drop(['NumberOfPictures', 'DateCrawled', 'LastSeen', 'RegistrationMonth', 'PostalCode'], axis=1).reset_index(drop=True)"
      ]
    },
    {
      "cell_type": "code",
      "execution_count": 8,
      "metadata": {
        "id": "z2PmfEFWa-73",
        "outputId": "625bd0c2-63b6-4017-a977-86ab67121e14",
        "colab": {
          "base_uri": "https://localhost:8080/"
        }
      },
      "outputs": [
        {
          "output_type": "stream",
          "name": "stdout",
          "text": [
            "<class 'pandas.core.frame.DataFrame'>\n",
            "RangeIndex: 346706 entries, 0 to 346705\n",
            "Data columns (total 11 columns):\n",
            " #   Column            Non-Null Count   Dtype \n",
            "---  ------            --------------   ----- \n",
            " 0   Price             346706 non-null  int64 \n",
            " 1   VehicleType       313190 non-null  object\n",
            " 2   RegistrationYear  346706 non-null  int64 \n",
            " 3   Gearbox           330288 non-null  object\n",
            " 4   Power             346706 non-null  int64 \n",
            " 5   Model             334239 non-null  object\n",
            " 6   Kilometer         346706 non-null  int64 \n",
            " 7   FuelType          317630 non-null  object\n",
            " 8   Brand             346706 non-null  object\n",
            " 9   Repaired          280394 non-null  object\n",
            " 10  DateCreated       346706 non-null  object\n",
            "dtypes: int64(4), object(7)\n",
            "memory usage: 29.1+ MB\n"
          ]
        }
      ],
      "source": [
        "df.info()"
      ]
    },
    {
      "cell_type": "markdown",
      "metadata": {
        "id": "9tFHQ6bxa-7_"
      },
      "source": [
        "#### DateCreated"
      ]
    },
    {
      "cell_type": "markdown",
      "metadata": {
        "id": "ZadWi9_5a-7_"
      },
      "source": [
        "Удалю строки, в которых дата создания объявления меньше даты регистрации авто."
      ]
    },
    {
      "cell_type": "code",
      "execution_count": 9,
      "metadata": {
        "id": "yyZJjR_Ka-7_"
      },
      "outputs": [],
      "source": [
        "df['DateCreated'] = pd.to_datetime(df['DateCreated'])\n",
        "df['DateCreated'] = pd.DataFrame(pd.DatetimeIndex(df['DateCreated']).year)\n",
        "df['DateCreated'] = df['DateCreated'].astype('int64')"
      ]
    },
    {
      "cell_type": "code",
      "execution_count": 10,
      "metadata": {
        "id": "Sn2f9X05a-8A",
        "outputId": "c8313925-bc6f-43e3-cd9f-74b41502068b",
        "colab": {
          "base_uri": "https://localhost:8080/",
          "height": 424
        }
      },
      "outputs": [
        {
          "output_type": "execute_result",
          "data": {
            "text/plain": [
              "        Price VehicleType  RegistrationYear Gearbox  Power    Model  \\\n",
              "22       2900         NaN              2018  manual     90   meriva   \n",
              "26       5555         NaN              2017  manual    125       c4   \n",
              "48       7750         NaN              2017  manual     80     golf   \n",
              "51       2000         NaN              2017  manual     90    punto   \n",
              "57       2399         NaN              2018  manual     64    other   \n",
              "...       ...         ...               ...     ...    ...      ...   \n",
              "346452   3600         NaN              2017  manual     86  transit   \n",
              "346480   1000         NaN              2017  manual    101       a4   \n",
              "346542   2140         NaN              2018  manual     80   fiesta   \n",
              "346592   1250         NaN              2018     NaN     61    corsa   \n",
              "346628   5000         NaN              2017  manual    120    other   \n",
              "\n",
              "        Kilometer  FuelType       Brand Repaired  DateCreated  \n",
              "22         150000    petrol        opel       no         2016  \n",
              "26         125000       NaN     citroen       no         2016  \n",
              "48         100000    petrol  volkswagen      NaN         2016  \n",
              "51         150000  gasoline        fiat      yes         2016  \n",
              "57         125000       NaN        seat       no         2016  \n",
              "...           ...       ...         ...      ...          ...  \n",
              "346452     150000  gasoline        ford      NaN         2016  \n",
              "346480     150000       NaN        audi      NaN         2016  \n",
              "346542     150000       NaN        ford       no         2016  \n",
              "346592     150000    petrol        opel      NaN         2016  \n",
              "346628     150000       NaN     citroen      yes         2016  \n",
              "\n",
              "[13755 rows x 11 columns]"
            ],
            "text/html": [
              "\n",
              "  <div id=\"df-97b2374e-e928-4493-bca1-d3b4af345c5a\">\n",
              "    <div class=\"colab-df-container\">\n",
              "      <div>\n",
              "<style scoped>\n",
              "    .dataframe tbody tr th:only-of-type {\n",
              "        vertical-align: middle;\n",
              "    }\n",
              "\n",
              "    .dataframe tbody tr th {\n",
              "        vertical-align: top;\n",
              "    }\n",
              "\n",
              "    .dataframe thead th {\n",
              "        text-align: right;\n",
              "    }\n",
              "</style>\n",
              "<table border=\"1\" class=\"dataframe\">\n",
              "  <thead>\n",
              "    <tr style=\"text-align: right;\">\n",
              "      <th></th>\n",
              "      <th>Price</th>\n",
              "      <th>VehicleType</th>\n",
              "      <th>RegistrationYear</th>\n",
              "      <th>Gearbox</th>\n",
              "      <th>Power</th>\n",
              "      <th>Model</th>\n",
              "      <th>Kilometer</th>\n",
              "      <th>FuelType</th>\n",
              "      <th>Brand</th>\n",
              "      <th>Repaired</th>\n",
              "      <th>DateCreated</th>\n",
              "    </tr>\n",
              "  </thead>\n",
              "  <tbody>\n",
              "    <tr>\n",
              "      <th>22</th>\n",
              "      <td>2900</td>\n",
              "      <td>NaN</td>\n",
              "      <td>2018</td>\n",
              "      <td>manual</td>\n",
              "      <td>90</td>\n",
              "      <td>meriva</td>\n",
              "      <td>150000</td>\n",
              "      <td>petrol</td>\n",
              "      <td>opel</td>\n",
              "      <td>no</td>\n",
              "      <td>2016</td>\n",
              "    </tr>\n",
              "    <tr>\n",
              "      <th>26</th>\n",
              "      <td>5555</td>\n",
              "      <td>NaN</td>\n",
              "      <td>2017</td>\n",
              "      <td>manual</td>\n",
              "      <td>125</td>\n",
              "      <td>c4</td>\n",
              "      <td>125000</td>\n",
              "      <td>NaN</td>\n",
              "      <td>citroen</td>\n",
              "      <td>no</td>\n",
              "      <td>2016</td>\n",
              "    </tr>\n",
              "    <tr>\n",
              "      <th>48</th>\n",
              "      <td>7750</td>\n",
              "      <td>NaN</td>\n",
              "      <td>2017</td>\n",
              "      <td>manual</td>\n",
              "      <td>80</td>\n",
              "      <td>golf</td>\n",
              "      <td>100000</td>\n",
              "      <td>petrol</td>\n",
              "      <td>volkswagen</td>\n",
              "      <td>NaN</td>\n",
              "      <td>2016</td>\n",
              "    </tr>\n",
              "    <tr>\n",
              "      <th>51</th>\n",
              "      <td>2000</td>\n",
              "      <td>NaN</td>\n",
              "      <td>2017</td>\n",
              "      <td>manual</td>\n",
              "      <td>90</td>\n",
              "      <td>punto</td>\n",
              "      <td>150000</td>\n",
              "      <td>gasoline</td>\n",
              "      <td>fiat</td>\n",
              "      <td>yes</td>\n",
              "      <td>2016</td>\n",
              "    </tr>\n",
              "    <tr>\n",
              "      <th>57</th>\n",
              "      <td>2399</td>\n",
              "      <td>NaN</td>\n",
              "      <td>2018</td>\n",
              "      <td>manual</td>\n",
              "      <td>64</td>\n",
              "      <td>other</td>\n",
              "      <td>125000</td>\n",
              "      <td>NaN</td>\n",
              "      <td>seat</td>\n",
              "      <td>no</td>\n",
              "      <td>2016</td>\n",
              "    </tr>\n",
              "    <tr>\n",
              "      <th>...</th>\n",
              "      <td>...</td>\n",
              "      <td>...</td>\n",
              "      <td>...</td>\n",
              "      <td>...</td>\n",
              "      <td>...</td>\n",
              "      <td>...</td>\n",
              "      <td>...</td>\n",
              "      <td>...</td>\n",
              "      <td>...</td>\n",
              "      <td>...</td>\n",
              "      <td>...</td>\n",
              "    </tr>\n",
              "    <tr>\n",
              "      <th>346452</th>\n",
              "      <td>3600</td>\n",
              "      <td>NaN</td>\n",
              "      <td>2017</td>\n",
              "      <td>manual</td>\n",
              "      <td>86</td>\n",
              "      <td>transit</td>\n",
              "      <td>150000</td>\n",
              "      <td>gasoline</td>\n",
              "      <td>ford</td>\n",
              "      <td>NaN</td>\n",
              "      <td>2016</td>\n",
              "    </tr>\n",
              "    <tr>\n",
              "      <th>346480</th>\n",
              "      <td>1000</td>\n",
              "      <td>NaN</td>\n",
              "      <td>2017</td>\n",
              "      <td>manual</td>\n",
              "      <td>101</td>\n",
              "      <td>a4</td>\n",
              "      <td>150000</td>\n",
              "      <td>NaN</td>\n",
              "      <td>audi</td>\n",
              "      <td>NaN</td>\n",
              "      <td>2016</td>\n",
              "    </tr>\n",
              "    <tr>\n",
              "      <th>346542</th>\n",
              "      <td>2140</td>\n",
              "      <td>NaN</td>\n",
              "      <td>2018</td>\n",
              "      <td>manual</td>\n",
              "      <td>80</td>\n",
              "      <td>fiesta</td>\n",
              "      <td>150000</td>\n",
              "      <td>NaN</td>\n",
              "      <td>ford</td>\n",
              "      <td>no</td>\n",
              "      <td>2016</td>\n",
              "    </tr>\n",
              "    <tr>\n",
              "      <th>346592</th>\n",
              "      <td>1250</td>\n",
              "      <td>NaN</td>\n",
              "      <td>2018</td>\n",
              "      <td>NaN</td>\n",
              "      <td>61</td>\n",
              "      <td>corsa</td>\n",
              "      <td>150000</td>\n",
              "      <td>petrol</td>\n",
              "      <td>opel</td>\n",
              "      <td>NaN</td>\n",
              "      <td>2016</td>\n",
              "    </tr>\n",
              "    <tr>\n",
              "      <th>346628</th>\n",
              "      <td>5000</td>\n",
              "      <td>NaN</td>\n",
              "      <td>2017</td>\n",
              "      <td>manual</td>\n",
              "      <td>120</td>\n",
              "      <td>other</td>\n",
              "      <td>150000</td>\n",
              "      <td>NaN</td>\n",
              "      <td>citroen</td>\n",
              "      <td>yes</td>\n",
              "      <td>2016</td>\n",
              "    </tr>\n",
              "  </tbody>\n",
              "</table>\n",
              "<p>13755 rows × 11 columns</p>\n",
              "</div>\n",
              "      <button class=\"colab-df-convert\" onclick=\"convertToInteractive('df-97b2374e-e928-4493-bca1-d3b4af345c5a')\"\n",
              "              title=\"Convert this dataframe to an interactive table.\"\n",
              "              style=\"display:none;\">\n",
              "        \n",
              "  <svg xmlns=\"http://www.w3.org/2000/svg\" height=\"24px\"viewBox=\"0 0 24 24\"\n",
              "       width=\"24px\">\n",
              "    <path d=\"M0 0h24v24H0V0z\" fill=\"none\"/>\n",
              "    <path d=\"M18.56 5.44l.94 2.06.94-2.06 2.06-.94-2.06-.94-.94-2.06-.94 2.06-2.06.94zm-11 1L8.5 8.5l.94-2.06 2.06-.94-2.06-.94L8.5 2.5l-.94 2.06-2.06.94zm10 10l.94 2.06.94-2.06 2.06-.94-2.06-.94-.94-2.06-.94 2.06-2.06.94z\"/><path d=\"M17.41 7.96l-1.37-1.37c-.4-.4-.92-.59-1.43-.59-.52 0-1.04.2-1.43.59L10.3 9.45l-7.72 7.72c-.78.78-.78 2.05 0 2.83L4 21.41c.39.39.9.59 1.41.59.51 0 1.02-.2 1.41-.59l7.78-7.78 2.81-2.81c.8-.78.8-2.07 0-2.86zM5.41 20L4 18.59l7.72-7.72 1.47 1.35L5.41 20z\"/>\n",
              "  </svg>\n",
              "      </button>\n",
              "      \n",
              "  <style>\n",
              "    .colab-df-container {\n",
              "      display:flex;\n",
              "      flex-wrap:wrap;\n",
              "      gap: 12px;\n",
              "    }\n",
              "\n",
              "    .colab-df-convert {\n",
              "      background-color: #E8F0FE;\n",
              "      border: none;\n",
              "      border-radius: 50%;\n",
              "      cursor: pointer;\n",
              "      display: none;\n",
              "      fill: #1967D2;\n",
              "      height: 32px;\n",
              "      padding: 0 0 0 0;\n",
              "      width: 32px;\n",
              "    }\n",
              "\n",
              "    .colab-df-convert:hover {\n",
              "      background-color: #E2EBFA;\n",
              "      box-shadow: 0px 1px 2px rgba(60, 64, 67, 0.3), 0px 1px 3px 1px rgba(60, 64, 67, 0.15);\n",
              "      fill: #174EA6;\n",
              "    }\n",
              "\n",
              "    [theme=dark] .colab-df-convert {\n",
              "      background-color: #3B4455;\n",
              "      fill: #D2E3FC;\n",
              "    }\n",
              "\n",
              "    [theme=dark] .colab-df-convert:hover {\n",
              "      background-color: #434B5C;\n",
              "      box-shadow: 0px 1px 3px 1px rgba(0, 0, 0, 0.15);\n",
              "      filter: drop-shadow(0px 1px 2px rgba(0, 0, 0, 0.3));\n",
              "      fill: #FFFFFF;\n",
              "    }\n",
              "  </style>\n",
              "\n",
              "      <script>\n",
              "        const buttonEl =\n",
              "          document.querySelector('#df-97b2374e-e928-4493-bca1-d3b4af345c5a button.colab-df-convert');\n",
              "        buttonEl.style.display =\n",
              "          google.colab.kernel.accessAllowed ? 'block' : 'none';\n",
              "\n",
              "        async function convertToInteractive(key) {\n",
              "          const element = document.querySelector('#df-97b2374e-e928-4493-bca1-d3b4af345c5a');\n",
              "          const dataTable =\n",
              "            await google.colab.kernel.invokeFunction('convertToInteractive',\n",
              "                                                     [key], {});\n",
              "          if (!dataTable) return;\n",
              "\n",
              "          const docLinkHtml = 'Like what you see? Visit the ' +\n",
              "            '<a target=\"_blank\" href=https://colab.research.google.com/notebooks/data_table.ipynb>data table notebook</a>'\n",
              "            + ' to learn more about interactive tables.';\n",
              "          element.innerHTML = '';\n",
              "          dataTable['output_type'] = 'display_data';\n",
              "          await google.colab.output.renderOutput(dataTable, element);\n",
              "          const docLink = document.createElement('div');\n",
              "          docLink.innerHTML = docLinkHtml;\n",
              "          element.appendChild(docLink);\n",
              "        }\n",
              "      </script>\n",
              "    </div>\n",
              "  </div>\n",
              "  "
            ]
          },
          "metadata": {},
          "execution_count": 10
        }
      ],
      "source": [
        "df.query('RegistrationYear > DateCreated')"
      ]
    },
    {
      "cell_type": "code",
      "execution_count": 11,
      "metadata": {
        "id": "lnKnNJtDa-8A"
      },
      "outputs": [],
      "source": [
        "df = df.query('~(RegistrationYear > DateCreated)')"
      ]
    },
    {
      "cell_type": "markdown",
      "metadata": {
        "id": "YvoNz9x8a-8C"
      },
      "source": [
        "Теперь удалю столбец DateCreated как неинформативный."
      ]
    },
    {
      "cell_type": "code",
      "execution_count": 12,
      "metadata": {
        "id": "wFqiapxea-8C"
      },
      "outputs": [],
      "source": [
        "df = df.drop(['DateCreated'], axis=1).reset_index(drop=True)"
      ]
    },
    {
      "cell_type": "markdown",
      "metadata": {
        "id": "fPkwXLXKa-8C"
      },
      "source": [
        "#### Price"
      ]
    },
    {
      "cell_type": "markdown",
      "metadata": {
        "id": "Qr46xre3a-8C"
      },
      "source": [
        "В столбце Price есть некорректные значения — когда цена равна нулю. Т.к. это целевой признак, будет неправильно заполнять это значение чем-то."
      ]
    },
    {
      "cell_type": "code",
      "execution_count": 13,
      "metadata": {
        "id": "n3R3QR2aa-8C",
        "outputId": "7663810f-371b-44ef-fd22-59b4b41328ff",
        "colab": {
          "base_uri": "https://localhost:8080/"
        }
      },
      "outputs": [
        {
          "output_type": "stream",
          "name": "stdout",
          "text": [
            "Количество нулевых значений равно 8733.\n"
          ]
        }
      ],
      "source": [
        "print(f'Количество нулевых значений равно {(df[\"Price\"][df[\"Price\"] == 0].count())}.')"
      ]
    },
    {
      "cell_type": "code",
      "execution_count": 14,
      "metadata": {
        "id": "lPX1epgwa-8C",
        "outputId": "039f5c2f-7583-4529-cf22-d82d1fe78bef",
        "colab": {
          "base_uri": "https://localhost:8080/"
        }
      },
      "outputs": [
        {
          "output_type": "stream",
          "name": "stdout",
          "text": [
            "Это примерно 2.623% от общего количества. Я удалю эти значения.\n"
          ]
        }
      ],
      "source": [
        "print(f'Это примерно {(df[\"Price\"][df[\"Price\"] == 0].count() / len(df) * 100).round(3)}% от общего количества. Я удалю эти значения.')"
      ]
    },
    {
      "cell_type": "code",
      "execution_count": 15,
      "metadata": {
        "id": "vnJeU4J8a-8D"
      },
      "outputs": [],
      "source": [
        "df = df.loc[df['Price'] != 0]"
      ]
    },
    {
      "cell_type": "code",
      "execution_count": 16,
      "metadata": {
        "id": "sHcT9zAua-8D",
        "outputId": "56d987a3-f291-4540-e76c-9f730a2bedab",
        "colab": {
          "base_uri": "https://localhost:8080/",
          "height": 424
        }
      },
      "outputs": [
        {
          "output_type": "execute_result",
          "data": {
            "text/plain": [
              "        Price  VehicleType  RegistrationYear Gearbox  Power        Model  \\\n",
              "0         480          NaN              1993  manual    101         golf   \n",
              "1       18300        coupe              2011  manual    190          NaN   \n",
              "2        9800          suv              2004    auto    163        grand   \n",
              "3        1500        small              2001  manual     75         golf   \n",
              "4        3600        small              2008  manual     69        fabia   \n",
              "...       ...          ...               ...     ...    ...          ...   \n",
              "332945   3200        sedan              2004  manual    225         leon   \n",
              "332946   1150          bus              2000  manual    125       zafira   \n",
              "332948   1199  convertible              2000    auto    101       fortwo   \n",
              "332949   9200          bus              1996  manual    102  transporter   \n",
              "332950   3400        wagon              2002  manual    100         golf   \n",
              "\n",
              "        Kilometer  FuelType       Brand Repaired  \n",
              "0          150000    petrol  volkswagen      NaN  \n",
              "1          125000  gasoline        audi      yes  \n",
              "2          125000  gasoline        jeep      NaN  \n",
              "3          150000    petrol  volkswagen       no  \n",
              "4           90000  gasoline       skoda       no  \n",
              "...           ...       ...         ...      ...  \n",
              "332945     150000    petrol        seat      yes  \n",
              "332946     150000    petrol        opel       no  \n",
              "332948     125000    petrol       smart       no  \n",
              "332949     150000  gasoline  volkswagen       no  \n",
              "332950     150000  gasoline  volkswagen      NaN  \n",
              "\n",
              "[324218 rows x 10 columns]"
            ],
            "text/html": [
              "\n",
              "  <div id=\"df-f44b8881-3c65-4617-b849-cd577ee2107c\">\n",
              "    <div class=\"colab-df-container\">\n",
              "      <div>\n",
              "<style scoped>\n",
              "    .dataframe tbody tr th:only-of-type {\n",
              "        vertical-align: middle;\n",
              "    }\n",
              "\n",
              "    .dataframe tbody tr th {\n",
              "        vertical-align: top;\n",
              "    }\n",
              "\n",
              "    .dataframe thead th {\n",
              "        text-align: right;\n",
              "    }\n",
              "</style>\n",
              "<table border=\"1\" class=\"dataframe\">\n",
              "  <thead>\n",
              "    <tr style=\"text-align: right;\">\n",
              "      <th></th>\n",
              "      <th>Price</th>\n",
              "      <th>VehicleType</th>\n",
              "      <th>RegistrationYear</th>\n",
              "      <th>Gearbox</th>\n",
              "      <th>Power</th>\n",
              "      <th>Model</th>\n",
              "      <th>Kilometer</th>\n",
              "      <th>FuelType</th>\n",
              "      <th>Brand</th>\n",
              "      <th>Repaired</th>\n",
              "    </tr>\n",
              "  </thead>\n",
              "  <tbody>\n",
              "    <tr>\n",
              "      <th>0</th>\n",
              "      <td>480</td>\n",
              "      <td>NaN</td>\n",
              "      <td>1993</td>\n",
              "      <td>manual</td>\n",
              "      <td>101</td>\n",
              "      <td>golf</td>\n",
              "      <td>150000</td>\n",
              "      <td>petrol</td>\n",
              "      <td>volkswagen</td>\n",
              "      <td>NaN</td>\n",
              "    </tr>\n",
              "    <tr>\n",
              "      <th>1</th>\n",
              "      <td>18300</td>\n",
              "      <td>coupe</td>\n",
              "      <td>2011</td>\n",
              "      <td>manual</td>\n",
              "      <td>190</td>\n",
              "      <td>NaN</td>\n",
              "      <td>125000</td>\n",
              "      <td>gasoline</td>\n",
              "      <td>audi</td>\n",
              "      <td>yes</td>\n",
              "    </tr>\n",
              "    <tr>\n",
              "      <th>2</th>\n",
              "      <td>9800</td>\n",
              "      <td>suv</td>\n",
              "      <td>2004</td>\n",
              "      <td>auto</td>\n",
              "      <td>163</td>\n",
              "      <td>grand</td>\n",
              "      <td>125000</td>\n",
              "      <td>gasoline</td>\n",
              "      <td>jeep</td>\n",
              "      <td>NaN</td>\n",
              "    </tr>\n",
              "    <tr>\n",
              "      <th>3</th>\n",
              "      <td>1500</td>\n",
              "      <td>small</td>\n",
              "      <td>2001</td>\n",
              "      <td>manual</td>\n",
              "      <td>75</td>\n",
              "      <td>golf</td>\n",
              "      <td>150000</td>\n",
              "      <td>petrol</td>\n",
              "      <td>volkswagen</td>\n",
              "      <td>no</td>\n",
              "    </tr>\n",
              "    <tr>\n",
              "      <th>4</th>\n",
              "      <td>3600</td>\n",
              "      <td>small</td>\n",
              "      <td>2008</td>\n",
              "      <td>manual</td>\n",
              "      <td>69</td>\n",
              "      <td>fabia</td>\n",
              "      <td>90000</td>\n",
              "      <td>gasoline</td>\n",
              "      <td>skoda</td>\n",
              "      <td>no</td>\n",
              "    </tr>\n",
              "    <tr>\n",
              "      <th>...</th>\n",
              "      <td>...</td>\n",
              "      <td>...</td>\n",
              "      <td>...</td>\n",
              "      <td>...</td>\n",
              "      <td>...</td>\n",
              "      <td>...</td>\n",
              "      <td>...</td>\n",
              "      <td>...</td>\n",
              "      <td>...</td>\n",
              "      <td>...</td>\n",
              "    </tr>\n",
              "    <tr>\n",
              "      <th>332945</th>\n",
              "      <td>3200</td>\n",
              "      <td>sedan</td>\n",
              "      <td>2004</td>\n",
              "      <td>manual</td>\n",
              "      <td>225</td>\n",
              "      <td>leon</td>\n",
              "      <td>150000</td>\n",
              "      <td>petrol</td>\n",
              "      <td>seat</td>\n",
              "      <td>yes</td>\n",
              "    </tr>\n",
              "    <tr>\n",
              "      <th>332946</th>\n",
              "      <td>1150</td>\n",
              "      <td>bus</td>\n",
              "      <td>2000</td>\n",
              "      <td>manual</td>\n",
              "      <td>125</td>\n",
              "      <td>zafira</td>\n",
              "      <td>150000</td>\n",
              "      <td>petrol</td>\n",
              "      <td>opel</td>\n",
              "      <td>no</td>\n",
              "    </tr>\n",
              "    <tr>\n",
              "      <th>332948</th>\n",
              "      <td>1199</td>\n",
              "      <td>convertible</td>\n",
              "      <td>2000</td>\n",
              "      <td>auto</td>\n",
              "      <td>101</td>\n",
              "      <td>fortwo</td>\n",
              "      <td>125000</td>\n",
              "      <td>petrol</td>\n",
              "      <td>smart</td>\n",
              "      <td>no</td>\n",
              "    </tr>\n",
              "    <tr>\n",
              "      <th>332949</th>\n",
              "      <td>9200</td>\n",
              "      <td>bus</td>\n",
              "      <td>1996</td>\n",
              "      <td>manual</td>\n",
              "      <td>102</td>\n",
              "      <td>transporter</td>\n",
              "      <td>150000</td>\n",
              "      <td>gasoline</td>\n",
              "      <td>volkswagen</td>\n",
              "      <td>no</td>\n",
              "    </tr>\n",
              "    <tr>\n",
              "      <th>332950</th>\n",
              "      <td>3400</td>\n",
              "      <td>wagon</td>\n",
              "      <td>2002</td>\n",
              "      <td>manual</td>\n",
              "      <td>100</td>\n",
              "      <td>golf</td>\n",
              "      <td>150000</td>\n",
              "      <td>gasoline</td>\n",
              "      <td>volkswagen</td>\n",
              "      <td>NaN</td>\n",
              "    </tr>\n",
              "  </tbody>\n",
              "</table>\n",
              "<p>324218 rows × 10 columns</p>\n",
              "</div>\n",
              "      <button class=\"colab-df-convert\" onclick=\"convertToInteractive('df-f44b8881-3c65-4617-b849-cd577ee2107c')\"\n",
              "              title=\"Convert this dataframe to an interactive table.\"\n",
              "              style=\"display:none;\">\n",
              "        \n",
              "  <svg xmlns=\"http://www.w3.org/2000/svg\" height=\"24px\"viewBox=\"0 0 24 24\"\n",
              "       width=\"24px\">\n",
              "    <path d=\"M0 0h24v24H0V0z\" fill=\"none\"/>\n",
              "    <path d=\"M18.56 5.44l.94 2.06.94-2.06 2.06-.94-2.06-.94-.94-2.06-.94 2.06-2.06.94zm-11 1L8.5 8.5l.94-2.06 2.06-.94-2.06-.94L8.5 2.5l-.94 2.06-2.06.94zm10 10l.94 2.06.94-2.06 2.06-.94-2.06-.94-.94-2.06-.94 2.06-2.06.94z\"/><path d=\"M17.41 7.96l-1.37-1.37c-.4-.4-.92-.59-1.43-.59-.52 0-1.04.2-1.43.59L10.3 9.45l-7.72 7.72c-.78.78-.78 2.05 0 2.83L4 21.41c.39.39.9.59 1.41.59.51 0 1.02-.2 1.41-.59l7.78-7.78 2.81-2.81c.8-.78.8-2.07 0-2.86zM5.41 20L4 18.59l7.72-7.72 1.47 1.35L5.41 20z\"/>\n",
              "  </svg>\n",
              "      </button>\n",
              "      \n",
              "  <style>\n",
              "    .colab-df-container {\n",
              "      display:flex;\n",
              "      flex-wrap:wrap;\n",
              "      gap: 12px;\n",
              "    }\n",
              "\n",
              "    .colab-df-convert {\n",
              "      background-color: #E8F0FE;\n",
              "      border: none;\n",
              "      border-radius: 50%;\n",
              "      cursor: pointer;\n",
              "      display: none;\n",
              "      fill: #1967D2;\n",
              "      height: 32px;\n",
              "      padding: 0 0 0 0;\n",
              "      width: 32px;\n",
              "    }\n",
              "\n",
              "    .colab-df-convert:hover {\n",
              "      background-color: #E2EBFA;\n",
              "      box-shadow: 0px 1px 2px rgba(60, 64, 67, 0.3), 0px 1px 3px 1px rgba(60, 64, 67, 0.15);\n",
              "      fill: #174EA6;\n",
              "    }\n",
              "\n",
              "    [theme=dark] .colab-df-convert {\n",
              "      background-color: #3B4455;\n",
              "      fill: #D2E3FC;\n",
              "    }\n",
              "\n",
              "    [theme=dark] .colab-df-convert:hover {\n",
              "      background-color: #434B5C;\n",
              "      box-shadow: 0px 1px 3px 1px rgba(0, 0, 0, 0.15);\n",
              "      filter: drop-shadow(0px 1px 2px rgba(0, 0, 0, 0.3));\n",
              "      fill: #FFFFFF;\n",
              "    }\n",
              "  </style>\n",
              "\n",
              "      <script>\n",
              "        const buttonEl =\n",
              "          document.querySelector('#df-f44b8881-3c65-4617-b849-cd577ee2107c button.colab-df-convert');\n",
              "        buttonEl.style.display =\n",
              "          google.colab.kernel.accessAllowed ? 'block' : 'none';\n",
              "\n",
              "        async function convertToInteractive(key) {\n",
              "          const element = document.querySelector('#df-f44b8881-3c65-4617-b849-cd577ee2107c');\n",
              "          const dataTable =\n",
              "            await google.colab.kernel.invokeFunction('convertToInteractive',\n",
              "                                                     [key], {});\n",
              "          if (!dataTable) return;\n",
              "\n",
              "          const docLinkHtml = 'Like what you see? Visit the ' +\n",
              "            '<a target=\"_blank\" href=https://colab.research.google.com/notebooks/data_table.ipynb>data table notebook</a>'\n",
              "            + ' to learn more about interactive tables.';\n",
              "          element.innerHTML = '';\n",
              "          dataTable['output_type'] = 'display_data';\n",
              "          await google.colab.output.renderOutput(dataTable, element);\n",
              "          const docLink = document.createElement('div');\n",
              "          docLink.innerHTML = docLinkHtml;\n",
              "          element.appendChild(docLink);\n",
              "        }\n",
              "      </script>\n",
              "    </div>\n",
              "  </div>\n",
              "  "
            ]
          },
          "metadata": {},
          "execution_count": 16
        }
      ],
      "source": [
        "df"
      ]
    },
    {
      "cell_type": "markdown",
      "metadata": {
        "id": "QNLAR8o9a-8D"
      },
      "source": [
        "#### VehicleType"
      ]
    },
    {
      "cell_type": "markdown",
      "metadata": {
        "id": "ceBi6rmEa-8D"
      },
      "source": [
        "В столбце большой процент пропусков, удалять их опасно. Заменю заглушкой."
      ]
    },
    {
      "cell_type": "code",
      "execution_count": 17,
      "metadata": {
        "id": "5Jm7p1kja-8D",
        "outputId": "c6991275-7d70-405f-bf10-7960940c71bc",
        "colab": {
          "base_uri": "https://localhost:8080/"
        }
      },
      "outputs": [
        {
          "output_type": "stream",
          "name": "stdout",
          "text": [
            "Количество пропусков — 5.452%\n"
          ]
        },
        {
          "output_type": "execute_result",
          "data": {
            "text/plain": [
              "17676"
            ]
          },
          "metadata": {},
          "execution_count": 17
        }
      ],
      "source": [
        "print(f'Количество пропусков — {(df[\"VehicleType\"].isna().sum() / len(df) * 100).round(3)}%')\n",
        "df['VehicleType'].isna().sum()"
      ]
    },
    {
      "cell_type": "code",
      "execution_count": 18,
      "metadata": {
        "id": "NHWiSESGa-8E"
      },
      "outputs": [],
      "source": [
        "df['VehicleType'] = df['VehicleType'].fillna('unknown')"
      ]
    },
    {
      "cell_type": "markdown",
      "metadata": {
        "id": "1ogfQZ8Wa-8E"
      },
      "source": [
        "#### RegistrationYear"
      ]
    },
    {
      "cell_type": "markdown",
      "metadata": {
        "id": "hjdVPEF1a-8E"
      },
      "source": [
        "В этом столбце есть очень странные года!"
      ]
    },
    {
      "cell_type": "code",
      "execution_count": 19,
      "metadata": {
        "id": "z9RHlEara-8E",
        "outputId": "cbcc447b-d777-43f8-df3c-31de2cc352d6",
        "colab": {
          "base_uri": "https://localhost:8080/"
        }
      },
      "outputs": [
        {
          "output_type": "execute_result",
          "data": {
            "text/plain": [
              "count    324218.000000\n",
              "mean       2002.620046\n",
              "std          10.409568\n",
              "min        1000.000000\n",
              "25%        1999.000000\n",
              "50%        2003.000000\n",
              "75%        2007.000000\n",
              "max        2016.000000\n",
              "Name: RegistrationYear, dtype: float64"
            ]
          },
          "metadata": {},
          "execution_count": 19
        }
      ],
      "source": [
        "df['RegistrationYear'].describe()"
      ]
    },
    {
      "cell_type": "code",
      "execution_count": 20,
      "metadata": {
        "id": "L1wqJtURa-8E",
        "outputId": "84d8dda6-7fb9-45e4-fd2f-55b7625e1112",
        "colab": {
          "base_uri": "https://localhost:8080/",
          "height": 693
        }
      },
      "outputs": [
        {
          "output_type": "execute_result",
          "data": {
            "text/plain": [
              "<Axes: >"
            ]
          },
          "metadata": {},
          "execution_count": 20
        },
        {
          "output_type": "display_data",
          "data": {
            "text/plain": [
              "<Figure size 1000x800 with 1 Axes>"
            ],
            "image/png": "[encoded data removed]"
          },
          "metadata": {}
        }
      ],
      "source": [
        "df['RegistrationYear'].value_counts().hist()"
      ]
    },
    {
      "cell_type": "code",
      "execution_count": 21,
      "metadata": {
        "id": "0RPtppcJa-8F",
        "outputId": "b7061301-ae7b-4580-eb6f-103b34997dd3",
        "colab": {
          "base_uri": "https://localhost:8080/"
        }
      },
      "outputs": [
        {
          "output_type": "stream",
          "name": "stdout",
          "text": [
            "Количество некорректных данных — 0.016999999999995907%\n"
          ]
        }
      ],
      "source": [
        "print(f'Количество некорректных данных — {100 - (df[\"RegistrationYear\"][df[\"RegistrationYear\"] <= 2020][df[\"RegistrationYear\"] >= 1920].count() / len(df) * 100).round(3)}%')"
      ]
    },
    {
      "cell_type": "code",
      "execution_count": 22,
      "metadata": {
        "id": "VvikQOlDa-8F"
      },
      "outputs": [],
      "source": [
        "df = df.loc[df['RegistrationYear'].isin(df['RegistrationYear'][df[\"RegistrationYear\"] <= 2020][df[\"RegistrationYear\"] >= 1920])]"
      ]
    },
    {
      "cell_type": "markdown",
      "metadata": {
        "id": "vnGQ2rkXa-8F"
      },
      "source": [
        "#### Gearbox"
      ]
    },
    {
      "cell_type": "markdown",
      "metadata": {
        "id": "4uAjGNY4a-8G"
      },
      "source": [
        "Это значение восстановить не получится."
      ]
    },
    {
      "cell_type": "code",
      "execution_count": 23,
      "metadata": {
        "id": "tmKmdSTOa-8G",
        "outputId": "b6ccf9ef-e52a-42cb-c285-7bf32fb6f21f",
        "colab": {
          "base_uri": "https://localhost:8080/"
        }
      },
      "outputs": [
        {
          "output_type": "stream",
          "name": "stdout",
          "text": [
            "Количество пропусков — 4.133%\n"
          ]
        },
        {
          "output_type": "execute_result",
          "data": {
            "text/plain": [
              "13399"
            ]
          },
          "metadata": {},
          "execution_count": 23
        }
      ],
      "source": [
        "print(f'Количество пропусков — {(df[\"Gearbox\"].isna().sum() / len(df) * 100).round(3)}%')\n",
        "df['Gearbox'].isna().sum()"
      ]
    },
    {
      "cell_type": "code",
      "execution_count": 24,
      "metadata": {
        "id": "jNA85CNha-8G"
      },
      "outputs": [],
      "source": [
        "df = df.loc[~df['Gearbox'].isna()]"
      ]
    },
    {
      "cell_type": "markdown",
      "metadata": {
        "id": "aXNGyEwKa-8G"
      },
      "source": [
        "#### Model"
      ]
    },
    {
      "cell_type": "markdown",
      "metadata": {
        "id": "Hyms0lKFa-8G"
      },
      "source": [
        "Это значение восстановить не получится."
      ]
    },
    {
      "cell_type": "code",
      "execution_count": 25,
      "metadata": {
        "id": "UvHmYMHva-8G",
        "outputId": "f6564cf9-6443-42e2-88de-926fee94d42f",
        "colab": {
          "base_uri": "https://localhost:8080/"
        }
      },
      "outputs": [
        {
          "output_type": "stream",
          "name": "stdout",
          "text": [
            "Количество пропусков — 3.152%\n"
          ]
        },
        {
          "output_type": "execute_result",
          "data": {
            "text/plain": [
              "9796"
            ]
          },
          "metadata": {},
          "execution_count": 25
        }
      ],
      "source": [
        "print(f'Количество пропусков — {(df[\"Model\"].isna().sum() / len(df) * 100).round(3)}%')\n",
        "df['Model'].isna().sum()"
      ]
    },
    {
      "cell_type": "code",
      "execution_count": 26,
      "metadata": {
        "id": "SnBXLpNKa-8G"
      },
      "outputs": [],
      "source": [
        "df = df.loc[~df['Model'].isna()]"
      ]
    },
    {
      "cell_type": "markdown",
      "metadata": {
        "id": "L-y3zDzxa-8H"
      },
      "source": [
        "#### FuelType"
      ]
    },
    {
      "cell_type": "code",
      "execution_count": 27,
      "metadata": {
        "id": "hOp-5SPha-8H",
        "outputId": "d493aa62-f28f-4ffd-8627-7f211883fe15",
        "colab": {
          "base_uri": "https://localhost:8080/"
        }
      },
      "outputs": [
        {
          "output_type": "stream",
          "name": "stdout",
          "text": [
            "Количество пропусков — 4.877%\n"
          ]
        },
        {
          "output_type": "execute_result",
          "data": {
            "text/plain": [
              "14678"
            ]
          },
          "metadata": {},
          "execution_count": 27
        }
      ],
      "source": [
        "print(f'Количество пропусков — {(df[\"FuelType\"].isna().sum() / len(df) * 100).round(3)}%')\n",
        "df['FuelType'].isna().sum()"
      ]
    },
    {
      "cell_type": "code",
      "execution_count": 28,
      "metadata": {
        "id": "CZIcmGDna-8H"
      },
      "outputs": [],
      "source": [
        "df['FuelType'] = df['FuelType'].fillna(df.groupby('Model')['FuelType'].transform(lambda x: x.value_counts().idxmax()))"
      ]
    },
    {
      "cell_type": "markdown",
      "metadata": {
        "id": "r2cyf0Aia-8H"
      },
      "source": [
        "#### Repaired"
      ]
    },
    {
      "cell_type": "markdown",
      "metadata": {
        "id": "xKFoLzLZa-8H"
      },
      "source": [
        "Вероятнее всего пропущены значения \"no\"."
      ]
    },
    {
      "cell_type": "code",
      "execution_count": 29,
      "metadata": {
        "id": "jGVhqzoRa-8H",
        "outputId": "2e23e2cf-755e-424d-8217-a25379657e02",
        "colab": {
          "base_uri": "https://localhost:8080/"
        }
      },
      "outputs": [
        {
          "output_type": "execute_result",
          "data": {
            "text/plain": [
              "no     225204\n",
              "yes     29911\n",
              "Name: Repaired, dtype: int64"
            ]
          },
          "metadata": {},
          "execution_count": 29
        }
      ],
      "source": [
        "df['Repaired'].value_counts()"
      ]
    },
    {
      "cell_type": "code",
      "execution_count": 30,
      "metadata": {
        "id": "dED4byqra-8I",
        "outputId": "4be7a89a-611c-4505-b780-fd2ad62243c0",
        "colab": {
          "base_uri": "https://localhost:8080/"
        }
      },
      "outputs": [
        {
          "output_type": "stream",
          "name": "stdout",
          "text": [
            "Количество пропусков — 15.235%\n"
          ]
        },
        {
          "output_type": "execute_result",
          "data": {
            "text/plain": [
              "45853"
            ]
          },
          "metadata": {},
          "execution_count": 30
        }
      ],
      "source": [
        "print(f'Количество пропусков — {(df[\"Repaired\"].isna().sum() / len(df) * 100).round(3)}%')\n",
        "df['Repaired'].isna().sum()"
      ]
    },
    {
      "cell_type": "code",
      "execution_count": 31,
      "metadata": {
        "id": "ctSU__zna-8I"
      },
      "outputs": [],
      "source": [
        "df[\"Repaired\"].fillna(\"no\", inplace=True)"
      ]
    },
    {
      "cell_type": "markdown",
      "metadata": {
        "id": "LRlArzPla-8I"
      },
      "source": [
        "#### Power"
      ]
    },
    {
      "cell_type": "markdown",
      "metadata": {
        "id": "zczMJpMda-8I"
      },
      "source": [
        "Много нулевых и околонулевых значений. Заполню их медианой."
      ]
    },
    {
      "cell_type": "code",
      "execution_count": 32,
      "metadata": {
        "id": "ty7VxReFa-8I",
        "outputId": "8a8d3228-c0e1-43d4-b91f-756c7b3aa722",
        "colab": {
          "base_uri": "https://localhost:8080/"
        }
      },
      "outputs": [
        {
          "output_type": "stream",
          "name": "stdout",
          "text": [
            "Количество некорректных данных — 0.0%\n"
          ]
        },
        {
          "output_type": "execute_result",
          "data": {
            "text/plain": [
              "0"
            ]
          },
          "metadata": {},
          "execution_count": 32
        }
      ],
      "source": [
        "print(f'Количество некорректных данных — {(df[\"Power\"][df[\"Power\"] <= 50].count() / len(df) * 100).round(3)}%')\n",
        "df['Power'][df[\"Power\"] == 0].count()"
      ]
    },
    {
      "cell_type": "code",
      "execution_count": 33,
      "metadata": {
        "id": "AXb6FQcCa-8I",
        "outputId": "04394504-8876-4b14-f13c-e1e504394a3d",
        "colab": {
          "base_uri": "https://localhost:8080/"
        }
      },
      "outputs": [
        {
          "output_type": "execute_result",
          "data": {
            "text/plain": [
              "count    300968.000000\n",
              "mean        121.041440\n",
              "std          52.649472\n",
              "min          51.000000\n",
              "25%          79.000000\n",
              "50%         113.000000\n",
              "75%         150.000000\n",
              "max        1000.000000\n",
              "Name: Power, dtype: float64"
            ]
          },
          "metadata": {},
          "execution_count": 33
        }
      ],
      "source": [
        "df['Power'].describe()"
      ]
    },
    {
      "cell_type": "code",
      "execution_count": 34,
      "metadata": {
        "id": "GhZPKcKca-8J"
      },
      "outputs": [],
      "source": [
        "df.loc[(df['Power'] > 1000) | (df['Power'] <= 50), 'Power'] = None\n",
        "df['Power'] = df['Power'].fillna(df.groupby('Model')['Power'].transform('median'))\n",
        "df = df.loc[~df['Power'].isna()]\n",
        "df['Power'] = df['Power'].astype('int64')"
      ]
    },
    {
      "cell_type": "code",
      "execution_count": 35,
      "metadata": {
        "id": "rpR-k4ega-8J"
      },
      "outputs": [],
      "source": [
        "df = df.reset_index()\n",
        "del df['index']"
      ]
    },
    {
      "cell_type": "markdown",
      "metadata": {
        "id": "uk08SXkCa-8J"
      },
      "source": [
        "#### Посмотрим на корреляцию численных признаков."
      ]
    },
    {
      "cell_type": "code",
      "execution_count": 36,
      "metadata": {
        "id": "Gm9qMarqa-8K",
        "outputId": "b68746f4-198c-49a0-a592-6f47f8e7cb94",
        "colab": {
          "base_uri": "https://localhost:8080/",
          "height": 143
        }
      },
      "outputs": [
        {
          "output_type": "execute_result",
          "data": {
            "text/plain": [
              "   Price VehicleType  RegistrationYear Gearbox  Power  Model  Kilometer  \\\n",
              "0    480     unknown              1993  manual    101   golf     150000   \n",
              "1   9800         suv              2004    auto    163  grand     125000   \n",
              "2   1500       small              2001  manual     75   golf     150000   \n",
              "\n",
              "   FuelType       Brand Repaired  \n",
              "0    petrol  volkswagen       no  \n",
              "1  gasoline        jeep       no  \n",
              "2    petrol  volkswagen       no  "
            ],
            "text/html": [
              "\n",
              "  <div id=\"df-8348be08-52ff-4886-bbee-b6bd3ffe5934\">\n",
              "    <div class=\"colab-df-container\">\n",
              "      <div>\n",
              "<style scoped>\n",
              "    .dataframe tbody tr th:only-of-type {\n",
              "        vertical-align: middle;\n",
              "    }\n",
              "\n",
              "    .dataframe tbody tr th {\n",
              "        vertical-align: top;\n",
              "    }\n",
              "\n",
              "    .dataframe thead th {\n",
              "        text-align: right;\n",
              "    }\n",
              "</style>\n",
              "<table border=\"1\" class=\"dataframe\">\n",
              "  <thead>\n",
              "    <tr style=\"text-align: right;\">\n",
              "      <th></th>\n",
              "      <th>Price</th>\n",
              "      <th>VehicleType</th>\n",
              "      <th>RegistrationYear</th>\n",
              "      <th>Gearbox</th>\n",
              "      <th>Power</th>\n",
              "      <th>Model</th>\n",
              "      <th>Kilometer</th>\n",
              "      <th>FuelType</th>\n",
              "      <th>Brand</th>\n",
              "      <th>Repaired</th>\n",
              "    </tr>\n",
              "  </thead>\n",
              "  <tbody>\n",
              "    <tr>\n",
              "      <th>0</th>\n",
              "      <td>480</td>\n",
              "      <td>unknown</td>\n",
              "      <td>1993</td>\n",
              "      <td>manual</td>\n",
              "      <td>101</td>\n",
              "      <td>golf</td>\n",
              "      <td>150000</td>\n",
              "      <td>petrol</td>\n",
              "      <td>volkswagen</td>\n",
              "      <td>no</td>\n",
              "    </tr>\n",
              "    <tr>\n",
              "      <th>1</th>\n",
              "      <td>9800</td>\n",
              "      <td>suv</td>\n",
              "      <td>2004</td>\n",
              "      <td>auto</td>\n",
              "      <td>163</td>\n",
              "      <td>grand</td>\n",
              "      <td>125000</td>\n",
              "      <td>gasoline</td>\n",
              "      <td>jeep</td>\n",
              "      <td>no</td>\n",
              "    </tr>\n",
              "    <tr>\n",
              "      <th>2</th>\n",
              "      <td>1500</td>\n",
              "      <td>small</td>\n",
              "      <td>2001</td>\n",
              "      <td>manual</td>\n",
              "      <td>75</td>\n",
              "      <td>golf</td>\n",
              "      <td>150000</td>\n",
              "      <td>petrol</td>\n",
              "      <td>volkswagen</td>\n",
              "      <td>no</td>\n",
              "    </tr>\n",
              "  </tbody>\n",
              "</table>\n",
              "</div>\n",
              "      <button class=\"colab-df-convert\" onclick=\"convertToInteractive('df-8348be08-52ff-4886-bbee-b6bd3ffe5934')\"\n",
              "              title=\"Convert this dataframe to an interactive table.\"\n",
              "              style=\"display:none;\">\n",
              "        \n",
              "  <svg xmlns=\"http://www.w3.org/2000/svg\" height=\"24px\"viewBox=\"0 0 24 24\"\n",
              "       width=\"24px\">\n",
              "    <path d=\"M0 0h24v24H0V0z\" fill=\"none\"/>\n",
              "    <path d=\"M18.56 5.44l.94 2.06.94-2.06 2.06-.94-2.06-.94-.94-2.06-.94 2.06-2.06.94zm-11 1L8.5 8.5l.94-2.06 2.06-.94-2.06-.94L8.5 2.5l-.94 2.06-2.06.94zm10 10l.94 2.06.94-2.06 2.06-.94-2.06-.94-.94-2.06-.94 2.06-2.06.94z\"/><path d=\"M17.41 7.96l-1.37-1.37c-.4-.4-.92-.59-1.43-.59-.52 0-1.04.2-1.43.59L10.3 9.45l-7.72 7.72c-.78.78-.78 2.05 0 2.83L4 21.41c.39.39.9.59 1.41.59.51 0 1.02-.2 1.41-.59l7.78-7.78 2.81-2.81c.8-.78.8-2.07 0-2.86zM5.41 20L4 18.59l7.72-7.72 1.47 1.35L5.41 20z\"/>\n",
              "  </svg>\n",
              "      </button>\n",
              "      \n",
              "  <style>\n",
              "    .colab-df-container {\n",
              "      display:flex;\n",
              "      flex-wrap:wrap;\n",
              "      gap: 12px;\n",
              "    }\n",
              "\n",
              "    .colab-df-convert {\n",
              "      background-color: #E8F0FE;\n",
              "      border: none;\n",
              "      border-radius: 50%;\n",
              "      cursor: pointer;\n",
              "      display: none;\n",
              "      fill: #1967D2;\n",
              "      height: 32px;\n",
              "      padding: 0 0 0 0;\n",
              "      width: 32px;\n",
              "    }\n",
              "\n",
              "    .colab-df-convert:hover {\n",
              "      background-color: #E2EBFA;\n",
              "      box-shadow: 0px 1px 2px rgba(60, 64, 67, 0.3), 0px 1px 3px 1px rgba(60, 64, 67, 0.15);\n",
              "      fill: #174EA6;\n",
              "    }\n",
              "\n",
              "    [theme=dark] .colab-df-convert {\n",
              "      background-color: #3B4455;\n",
              "      fill: #D2E3FC;\n",
              "    }\n",
              "\n",
              "    [theme=dark] .colab-df-convert:hover {\n",
              "      background-color: #434B5C;\n",
              "      box-shadow: 0px 1px 3px 1px rgba(0, 0, 0, 0.15);\n",
              "      filter: drop-shadow(0px 1px 2px rgba(0, 0, 0, 0.3));\n",
              "      fill: #FFFFFF;\n",
              "    }\n",
              "  </style>\n",
              "\n",
              "      <script>\n",
              "        const buttonEl =\n",
              "          document.querySelector('#df-8348be08-52ff-4886-bbee-b6bd3ffe5934 button.colab-df-convert');\n",
              "        buttonEl.style.display =\n",
              "          google.colab.kernel.accessAllowed ? 'block' : 'none';\n",
              "\n",
              "        async function convertToInteractive(key) {\n",
              "          const element = document.querySelector('#df-8348be08-52ff-4886-bbee-b6bd3ffe5934');\n",
              "          const dataTable =\n",
              "            await google.colab.kernel.invokeFunction('convertToInteractive',\n",
              "                                                     [key], {});\n",
              "          if (!dataTable) return;\n",
              "\n",
              "          const docLinkHtml = 'Like what you see? Visit the ' +\n",
              "            '<a target=\"_blank\" href=https://colab.research.google.com/notebooks/data_table.ipynb>data table notebook</a>'\n",
              "            + ' to learn more about interactive tables.';\n",
              "          element.innerHTML = '';\n",
              "          dataTable['output_type'] = 'display_data';\n",
              "          await google.colab.output.renderOutput(dataTable, element);\n",
              "          const docLink = document.createElement('div');\n",
              "          docLink.innerHTML = docLinkHtml;\n",
              "          element.appendChild(docLink);\n",
              "        }\n",
              "      </script>\n",
              "    </div>\n",
              "  </div>\n",
              "  "
            ]
          },
          "metadata": {},
          "execution_count": 36
        }
      ],
      "source": [
        "df.head(3)"
      ]
    },
    {
      "cell_type": "code",
      "execution_count": 37,
      "metadata": {
        "id": "gQy-WK9ia-8K",
        "outputId": "344b0fac-8301-4cd3-a9ca-1b82b9d92c9f",
        "colab": {
          "base_uri": "https://localhost:8080/",
          "height": 699
        }
      },
      "outputs": [
        {
          "output_type": "display_data",
          "data": {
            "text/plain": [
              "<Figure size 1000x800 with 4 Axes>"
            ],
            "image/png": "[encoded data removed]"
          },
          "metadata": {}
        }
      ],
      "source": [
        "df[['Price', 'RegistrationYear', 'Power', 'Kilometer']].hist()\n",
        "plt.show()"
      ]
    },
    {
      "cell_type": "code",
      "execution_count": 38,
      "metadata": {
        "id": "4hiQ3ElEa-8K",
        "outputId": "0b21b94f-50d6-4342-b66d-e7a424cb6ec3",
        "colab": {
          "base_uri": "https://localhost:8080/",
          "height": 175
        }
      },
      "outputs": [
        {
          "output_type": "execute_result",
          "data": {
            "text/plain": [
              "                     Price  RegistrationYear     Power  Kilometer\n",
              "Price             1.000000          0.494320  0.497043  -0.386078\n",
              "RegistrationYear  0.494320          1.000000  0.112589  -0.299452\n",
              "Power             0.497043          0.112589  1.000000   0.094922\n",
              "Kilometer        -0.386078         -0.299452  0.094922   1.000000"
            ],
            "text/html": [
              "\n",
              "  <div id=\"df-75d50c63-33f5-4e33-b7c4-d474f9d4c51d\">\n",
              "    <div class=\"colab-df-container\">\n",
              "      <div>\n",
              "<style scoped>\n",
              "    .dataframe tbody tr th:only-of-type {\n",
              "        vertical-align: middle;\n",
              "    }\n",
              "\n",
              "    .dataframe tbody tr th {\n",
              "        vertical-align: top;\n",
              "    }\n",
              "\n",
              "    .dataframe thead th {\n",
              "        text-align: right;\n",
              "    }\n",
              "</style>\n",
              "<table border=\"1\" class=\"dataframe\">\n",
              "  <thead>\n",
              "    <tr style=\"text-align: right;\">\n",
              "      <th></th>\n",
              "      <th>Price</th>\n",
              "      <th>RegistrationYear</th>\n",
              "      <th>Power</th>\n",
              "      <th>Kilometer</th>\n",
              "    </tr>\n",
              "  </thead>\n",
              "  <tbody>\n",
              "    <tr>\n",
              "      <th>Price</th>\n",
              "      <td>1.000000</td>\n",
              "      <td>0.494320</td>\n",
              "      <td>0.497043</td>\n",
              "      <td>-0.386078</td>\n",
              "    </tr>\n",
              "    <tr>\n",
              "      <th>RegistrationYear</th>\n",
              "      <td>0.494320</td>\n",
              "      <td>1.000000</td>\n",
              "      <td>0.112589</td>\n",
              "      <td>-0.299452</td>\n",
              "    </tr>\n",
              "    <tr>\n",
              "      <th>Power</th>\n",
              "      <td>0.497043</td>\n",
              "      <td>0.112589</td>\n",
              "      <td>1.000000</td>\n",
              "      <td>0.094922</td>\n",
              "    </tr>\n",
              "    <tr>\n",
              "      <th>Kilometer</th>\n",
              "      <td>-0.386078</td>\n",
              "      <td>-0.299452</td>\n",
              "      <td>0.094922</td>\n",
              "      <td>1.000000</td>\n",
              "    </tr>\n",
              "  </tbody>\n",
              "</table>\n",
              "</div>\n",
              "      <button class=\"colab-df-convert\" onclick=\"convertToInteractive('df-75d50c63-33f5-4e33-b7c4-d474f9d4c51d')\"\n",
              "              title=\"Convert this dataframe to an interactive table.\"\n",
              "              style=\"display:none;\">\n",
              "        \n",
              "  <svg xmlns=\"http://www.w3.org/2000/svg\" height=\"24px\"viewBox=\"0 0 24 24\"\n",
              "       width=\"24px\">\n",
              "    <path d=\"M0 0h24v24H0V0z\" fill=\"none\"/>\n",
              "    <path d=\"M18.56 5.44l.94 2.06.94-2.06 2.06-.94-2.06-.94-.94-2.06-.94 2.06-2.06.94zm-11 1L8.5 8.5l.94-2.06 2.06-.94-2.06-.94L8.5 2.5l-.94 2.06-2.06.94zm10 10l.94 2.06.94-2.06 2.06-.94-2.06-.94-.94-2.06-.94 2.06-2.06.94z\"/><path d=\"M17.41 7.96l-1.37-1.37c-.4-.4-.92-.59-1.43-.59-.52 0-1.04.2-1.43.59L10.3 9.45l-7.72 7.72c-.78.78-.78 2.05 0 2.83L4 21.41c.39.39.9.59 1.41.59.51 0 1.02-.2 1.41-.59l7.78-7.78 2.81-2.81c.8-.78.8-2.07 0-2.86zM5.41 20L4 18.59l7.72-7.72 1.47 1.35L5.41 20z\"/>\n",
              "  </svg>\n",
              "      </button>\n",
              "      \n",
              "  <style>\n",
              "    .colab-df-container {\n",
              "      display:flex;\n",
              "      flex-wrap:wrap;\n",
              "      gap: 12px;\n",
              "    }\n",
              "\n",
              "    .colab-df-convert {\n",
              "      background-color: #E8F0FE;\n",
              "      border: none;\n",
              "      border-radius: 50%;\n",
              "      cursor: pointer;\n",
              "      display: none;\n",
              "      fill: #1967D2;\n",
              "      height: 32px;\n",
              "      padding: 0 0 0 0;\n",
              "      width: 32px;\n",
              "    }\n",
              "\n",
              "    .colab-df-convert:hover {\n",
              "      background-color: #E2EBFA;\n",
              "      box-shadow: 0px 1px 2px rgba(60, 64, 67, 0.3), 0px 1px 3px 1px rgba(60, 64, 67, 0.15);\n",
              "      fill: #174EA6;\n",
              "    }\n",
              "\n",
              "    [theme=dark] .colab-df-convert {\n",
              "      background-color: #3B4455;\n",
              "      fill: #D2E3FC;\n",
              "    }\n",
              "\n",
              "    [theme=dark] .colab-df-convert:hover {\n",
              "      background-color: #434B5C;\n",
              "      box-shadow: 0px 1px 3px 1px rgba(0, 0, 0, 0.15);\n",
              "      filter: drop-shadow(0px 1px 2px rgba(0, 0, 0, 0.3));\n",
              "      fill: #FFFFFF;\n",
              "    }\n",
              "  </style>\n",
              "\n",
              "      <script>\n",
              "        const buttonEl =\n",
              "          document.querySelector('#df-75d50c63-33f5-4e33-b7c4-d474f9d4c51d button.colab-df-convert');\n",
              "        buttonEl.style.display =\n",
              "          google.colab.kernel.accessAllowed ? 'block' : 'none';\n",
              "\n",
              "        async function convertToInteractive(key) {\n",
              "          const element = document.querySelector('#df-75d50c63-33f5-4e33-b7c4-d474f9d4c51d');\n",
              "          const dataTable =\n",
              "            await google.colab.kernel.invokeFunction('convertToInteractive',\n",
              "                                                     [key], {});\n",
              "          if (!dataTable) return;\n",
              "\n",
              "          const docLinkHtml = 'Like what you see? Visit the ' +\n",
              "            '<a target=\"_blank\" href=https://colab.research.google.com/notebooks/data_table.ipynb>data table notebook</a>'\n",
              "            + ' to learn more about interactive tables.';\n",
              "          element.innerHTML = '';\n",
              "          dataTable['output_type'] = 'display_data';\n",
              "          await google.colab.output.renderOutput(dataTable, element);\n",
              "          const docLink = document.createElement('div');\n",
              "          docLink.innerHTML = docLinkHtml;\n",
              "          element.appendChild(docLink);\n",
              "        }\n",
              "      </script>\n",
              "    </div>\n",
              "  </div>\n",
              "  "
            ]
          },
          "metadata": {},
          "execution_count": 38
        }
      ],
      "source": [
        "df[['Price', 'RegistrationYear', 'Power', 'Kilometer']].corr()"
      ]
    },
    {
      "cell_type": "code",
      "execution_count": 39,
      "metadata": {
        "id": "bFBqYc8wa-8K",
        "outputId": "d46dbb6d-38dd-4ba0-8657-0c70085e8895",
        "colab": {
          "base_uri": "https://localhost:8080/",
          "height": 696
        }
      },
      "outputs": [
        {
          "output_type": "display_data",
          "data": {
            "text/plain": [
              "<Figure size 1000x800 with 1 Axes>"
            ],
            "image/png": "[encoded data removed]"
          },
          "metadata": {}
        }
      ],
      "source": [
        "price_per_year = (\n",
        "    df.pivot_table(index='RegistrationYear',\n",
        "                   values='Price',\n",
        "                   aggfunc=('median')).sort_values(by='Price')\n",
        "    .plot(style='o', grid=True)\n",
        ")\n",
        "plt.show()"
      ]
    },
    {
      "cell_type": "code",
      "execution_count": 40,
      "metadata": {
        "id": "qcRCxHb6a-8K",
        "outputId": "d47efd68-04b9-420f-be72-23054858a02f",
        "colab": {
          "base_uri": "https://localhost:8080/",
          "height": 696
        }
      },
      "outputs": [
        {
          "output_type": "display_data",
          "data": {
            "text/plain": [
              "<Figure size 1000x800 with 1 Axes>"
            ],
            "image/png": "[encoded data removed]"
          },
          "metadata": {}
        }
      ],
      "source": [
        "price_per_power = (\n",
        "    df.pivot_table(index='Power',\n",
        "                   values='Price',\n",
        "                   aggfunc=('median')).sort_values(by='Price')\n",
        "    .plot(style='o', grid=True)\n",
        ")\n",
        "plt.show()"
      ]
    },
    {
      "cell_type": "code",
      "execution_count": 41,
      "metadata": {
        "id": "1ixr9bQMa-8L",
        "outputId": "7311ce48-a994-4a52-ec62-2035ee560db5",
        "colab": {
          "base_uri": "https://localhost:8080/",
          "height": 696
        }
      },
      "outputs": [
        {
          "output_type": "display_data",
          "data": {
            "text/plain": [
              "<Figure size 1000x800 with 1 Axes>"
            ],
            "image/png": "[encoded data removed]"
          },
          "metadata": {}
        }
      ],
      "source": [
        "price_per_kilometer = (\n",
        "    df.pivot_table(index='Kilometer',\n",
        "                   values='Price',\n",
        "                   aggfunc=('median')).sort_values(by='Price')\n",
        "    .plot(style='o', grid=True)\n",
        ")\n",
        "plt.show()"
      ]
    },
    {
      "cell_type": "markdown",
      "metadata": {
        "id": "iUtbxArma-8L"
      },
      "source": [
        "**Вывод:**\n",
        "* Автомобили, выпущенные в середине прошлого века, могут стоить как новые, их можно назвать антиквариатом. Старыми считаются автомобили выпущенные с 60 по 00 года, на них цена сильно ниже. Новые — выпщуенные после 00 годов, цена растет пропорционально новизне.\n",
        "* Цена растет по мере повышения мощности автомобиля, но на высоких значениях видно падение стоимости.\n",
        "* Чем выше пробег у автомобиля, тем меньше он будет стоить!"
      ]
    },
    {
      "cell_type": "markdown",
      "metadata": {
        "id": "fMtgKTS4a-8L"
      },
      "source": [
        "### Стратификация выборки."
      ]
    },
    {
      "cell_type": "code",
      "execution_count": 42,
      "metadata": {
        "id": "q0rnz4vfa-8L"
      },
      "outputs": [],
      "source": [
        "X_train, X_val, y_train, y_val = train_test_split(\n",
        "    df.drop('Price', axis=1), df['Price'], test_size=.4, random_state=666)\n",
        "\n",
        "X_val, X_test, y_val, y_test = train_test_split(\n",
        "    X_val, y_val, test_size=.5, random_state=666)"
      ]
    },
    {
      "cell_type": "markdown",
      "metadata": {
        "id": "DP2x29Wca-8L"
      },
      "source": [
        "### Кодирование категориальных признаков!"
      ]
    },
    {
      "cell_type": "code",
      "execution_count": 43,
      "metadata": {
        "id": "gCVu676wa-8L",
        "outputId": "89fc10fa-da8f-4196-8776-5953353ff9bf",
        "colab": {
          "base_uri": "https://localhost:8080/",
          "height": 75
        }
      },
      "outputs": [
        {
          "output_type": "execute_result",
          "data": {
            "text/plain": [
              "OrdinalEncoder(handle_unknown='use_encoded_value', unknown_value=-1)"
            ],
            "text/html": [
              "<style>#sk-container-id-1 {color: black;background-color: white;}#sk-container-id-1 pre{padding: 0;}#sk-container-id-1 div.sk-toggleable {background-color: white;}#sk-container-id-1 label.sk-toggleable__label {cursor: pointer;display: block;width: 100%;margin-bottom: 0;padding: 0.3em;box-sizing: border-box;text-align: center;}#sk-container-id-1 label.sk-toggleable__label-arrow:before {content: \"▸\";float: left;margin-right: 0.25em;color: #696969;}#sk-container-id-1 label.sk-toggleable__label-arrow:hover:before {color: black;}#sk-container-id-1 div.sk-estimator:hover label.sk-toggleable__label-arrow:before {color: black;}#sk-container-id-1 div.sk-toggleable__content {max-height: 0;max-width: 0;overflow: hidden;text-align: left;background-color: #f0f8ff;}#sk-container-id-1 div.sk-toggleable__content pre {margin: 0.2em;color: black;border-radius: 0.25em;background-color: #f0f8ff;}#sk-container-id-1 input.sk-toggleable__control:checked~div.sk-toggleable__content {max-height: 200px;max-width: 100%;overflow: auto;}#sk-container-id-1 input.sk-toggleable__control:checked~label.sk-toggleable__label-arrow:before {content: \"▾\";}#sk-container-id-1 div.sk-estimator input.sk-toggleable__control:checked~label.sk-toggleable__label {background-color: #d4ebff;}#sk-container-id-1 div.sk-label input.sk-toggleable__control:checked~label.sk-toggleable__label {background-color: #d4ebff;}#sk-container-id-1 input.sk-hidden--visually {border: 0;clip: rect(1px 1px 1px 1px);clip: rect(1px, 1px, 1px, 1px);height: 1px;margin: -1px;overflow: hidden;padding: 0;position: absolute;width: 1px;}#sk-container-id-1 div.sk-estimator {font-family: monospace;background-color: #f0f8ff;border: 1px dotted black;border-radius: 0.25em;box-sizing: border-box;margin-bottom: 0.5em;}#sk-container-id-1 div.sk-estimator:hover {background-color: #d4ebff;}#sk-container-id-1 div.sk-parallel-item::after {content: \"\";width: 100%;border-bottom: 1px solid gray;flex-grow: 1;}#sk-container-id-1 div.sk-label:hover label.sk-toggleable__label {background-color: #d4ebff;}#sk-container-id-1 div.sk-serial::before {content: \"\";position: absolute;border-left: 1px solid gray;box-sizing: border-box;top: 0;bottom: 0;left: 50%;z-index: 0;}#sk-container-id-1 div.sk-serial {display: flex;flex-direction: column;align-items: center;background-color: white;padding-right: 0.2em;padding-left: 0.2em;position: relative;}#sk-container-id-1 div.sk-item {position: relative;z-index: 1;}#sk-container-id-1 div.sk-parallel {display: flex;align-items: stretch;justify-content: center;background-color: white;position: relative;}#sk-container-id-1 div.sk-item::before, #sk-container-id-1 div.sk-parallel-item::before {content: \"\";position: absolute;border-left: 1px solid gray;box-sizing: border-box;top: 0;bottom: 0;left: 50%;z-index: -1;}#sk-container-id-1 div.sk-parallel-item {display: flex;flex-direction: column;z-index: 1;position: relative;background-color: white;}#sk-container-id-1 div.sk-parallel-item:first-child::after {align-self: flex-end;width: 50%;}#sk-container-id-1 div.sk-parallel-item:last-child::after {align-self: flex-start;width: 50%;}#sk-container-id-1 div.sk-parallel-item:only-child::after {width: 0;}#sk-container-id-1 div.sk-dashed-wrapped {border: 1px dashed gray;margin: 0 0.4em 0.5em 0.4em;box-sizing: border-box;padding-bottom: 0.4em;background-color: white;}#sk-container-id-1 div.sk-label label {font-family: monospace;font-weight: bold;display: inline-block;line-height: 1.2em;}#sk-container-id-1 div.sk-label-container {text-align: center;}#sk-container-id-1 div.sk-container {/* jupyter's `normalize.less` sets `[hidden] { display: none; }` but bootstrap.min.css set `[hidden] { display: none !important; }` so we also need the `!important` here to be able to override the default hidden behavior on the sphinx rendered scikit-learn.org. See: https://github.com/scikit-learn/scikit-learn/issues/21755 */display: inline-block !important;position: relative;}#sk-container-id-1 div.sk-text-repr-fallback {display: none;}</style><div id=\"sk-container-id-1\" class=\"sk-top-container\"><div class=\"sk-text-repr-fallback\"><pre>OrdinalEncoder(handle_unknown=&#x27;use_encoded_value&#x27;, unknown_value=-1)</pre><b>In a Jupyter environment, please rerun this cell to show the HTML representation or trust the notebook. <br />On GitHub, the HTML representation is unable to render, please try loading this page with nbviewer.org.</b></div><div class=\"sk-container\" hidden><div class=\"sk-item\"><div class=\"sk-estimator sk-toggleable\"><input class=\"sk-toggleable__control sk-hidden--visually\" id=\"sk-estimator-id-1\" type=\"checkbox\" checked><label for=\"sk-estimator-id-1\" class=\"sk-toggleable__label sk-toggleable__label-arrow\">OrdinalEncoder</label><div class=\"sk-toggleable__content\"><pre>OrdinalEncoder(handle_unknown=&#x27;use_encoded_value&#x27;, unknown_value=-1)</pre></div></div></div></div></div>"
            ]
          },
          "metadata": {},
          "execution_count": 43
        }
      ],
      "source": [
        "enc = OrdinalEncoder(handle_unknown='use_encoded_value', unknown_value=-1)\n",
        "enc.fit(X_train)"
      ]
    },
    {
      "cell_type": "code",
      "execution_count": 44,
      "metadata": {
        "id": "JFEQlmfta-8M"
      },
      "outputs": [],
      "source": [
        "data1 = pd.DataFrame(enc.transform(X_train), columns=X_train.columns)\n",
        "\n",
        "data1 = data1.reset_index()\n",
        "del data1['index']\n",
        "X_train = X_train.reset_index()\n",
        "del X_train['index']\n",
        "\n",
        "X_train[['VehicleType', 'Gearbox', 'Model', 'FuelType', 'Brand', 'Repaired']] = data1[['VehicleType', 'Gearbox', 'Model', 'FuelType', 'Brand', 'Repaired']].astype(int)"
      ]
    },
    {
      "cell_type": "code",
      "execution_count": 45,
      "metadata": {
        "id": "WdhkW2CEa-8M"
      },
      "outputs": [],
      "source": [
        "data2 = pd.DataFrame(enc.transform(X_val), columns=X_val.columns)\n",
        "\n",
        "data2 = data2.reset_index()\n",
        "del data2['index']\n",
        "X_val = X_val.reset_index()\n",
        "del X_val['index']\n",
        "\n",
        "X_val[['VehicleType', 'Gearbox', 'Model', 'FuelType', 'Brand', 'Repaired']] = data2[['VehicleType', 'Gearbox', 'Model', 'FuelType', 'Brand', 'Repaired']].astype(int)"
      ]
    },
    {
      "cell_type": "code",
      "execution_count": 46,
      "metadata": {
        "id": "AqnhfoIOa-8M"
      },
      "outputs": [],
      "source": [
        "data3 = pd.DataFrame(enc.transform(X_test), columns=X_test.columns)\n",
        "\n",
        "data3 = data3.reset_index()\n",
        "del data3['index']\n",
        "X_test = X_test.reset_index()\n",
        "del X_test['index']\n",
        "\n",
        "X_test[['VehicleType', 'Gearbox', 'Model', 'FuelType', 'Brand', 'Repaired']] = data3[['VehicleType', 'Gearbox', 'Model', 'FuelType', 'Brand', 'Repaired']].astype(int)"
      ]
    },
    {
      "cell_type": "code",
      "execution_count": 47,
      "metadata": {
        "id": "1pH8V8-aa-8M",
        "outputId": "2bba6d66-c364-41ba-8950-d79279ff0e70",
        "colab": {
          "base_uri": "https://localhost:8080/",
          "height": 206
        }
      },
      "outputs": [
        {
          "output_type": "execute_result",
          "data": {
            "text/plain": [
              "   VehicleType  RegistrationYear  Gearbox  Power  Model  Kilometer  FuelType  \\\n",
              "0            2              1998        1     90    165     150000         6   \n",
              "1            4              1997        1     55     82     150000         6   \n",
              "2            1              2010        1    122     79     100000         6   \n",
              "3            7              2000        1     73    142     150000         6   \n",
              "4            4              1992        1    109     94     150000         6   \n",
              "\n",
              "   Brand  Repaired  \n",
              "0     35         0  \n",
              "1     24         1  \n",
              "2     21         0  \n",
              "3     37         0  \n",
              "4     20         0  "
            ],
            "text/html": [
              "\n",
              "  <div id=\"df-43be035d-f970-47e4-ac7b-69c8b7e8e76a\">\n",
              "    <div class=\"colab-df-container\">\n",
              "      <div>\n",
              "<style scoped>\n",
              "    .dataframe tbody tr th:only-of-type {\n",
              "        vertical-align: middle;\n",
              "    }\n",
              "\n",
              "    .dataframe tbody tr th {\n",
              "        vertical-align: top;\n",
              "    }\n",
              "\n",
              "    .dataframe thead th {\n",
              "        text-align: right;\n",
              "    }\n",
              "</style>\n",
              "<table border=\"1\" class=\"dataframe\">\n",
              "  <thead>\n",
              "    <tr style=\"text-align: right;\">\n",
              "      <th></th>\n",
              "      <th>VehicleType</th>\n",
              "      <th>RegistrationYear</th>\n",
              "      <th>Gearbox</th>\n",
              "      <th>Power</th>\n",
              "      <th>Model</th>\n",
              "      <th>Kilometer</th>\n",
              "      <th>FuelType</th>\n",
              "      <th>Brand</th>\n",
              "      <th>Repaired</th>\n",
              "    </tr>\n",
              "  </thead>\n",
              "  <tbody>\n",
              "    <tr>\n",
              "      <th>0</th>\n",
              "      <td>2</td>\n",
              "      <td>1998</td>\n",
              "      <td>1</td>\n",
              "      <td>90</td>\n",
              "      <td>165</td>\n",
              "      <td>150000</td>\n",
              "      <td>6</td>\n",
              "      <td>35</td>\n",
              "      <td>0</td>\n",
              "    </tr>\n",
              "    <tr>\n",
              "      <th>1</th>\n",
              "      <td>4</td>\n",
              "      <td>1997</td>\n",
              "      <td>1</td>\n",
              "      <td>55</td>\n",
              "      <td>82</td>\n",
              "      <td>150000</td>\n",
              "      <td>6</td>\n",
              "      <td>24</td>\n",
              "      <td>1</td>\n",
              "    </tr>\n",
              "    <tr>\n",
              "      <th>2</th>\n",
              "      <td>1</td>\n",
              "      <td>2010</td>\n",
              "      <td>1</td>\n",
              "      <td>122</td>\n",
              "      <td>79</td>\n",
              "      <td>100000</td>\n",
              "      <td>6</td>\n",
              "      <td>21</td>\n",
              "      <td>0</td>\n",
              "    </tr>\n",
              "    <tr>\n",
              "      <th>3</th>\n",
              "      <td>7</td>\n",
              "      <td>2000</td>\n",
              "      <td>1</td>\n",
              "      <td>73</td>\n",
              "      <td>142</td>\n",
              "      <td>150000</td>\n",
              "      <td>6</td>\n",
              "      <td>37</td>\n",
              "      <td>0</td>\n",
              "    </tr>\n",
              "    <tr>\n",
              "      <th>4</th>\n",
              "      <td>4</td>\n",
              "      <td>1992</td>\n",
              "      <td>1</td>\n",
              "      <td>109</td>\n",
              "      <td>94</td>\n",
              "      <td>150000</td>\n",
              "      <td>6</td>\n",
              "      <td>20</td>\n",
              "      <td>0</td>\n",
              "    </tr>\n",
              "  </tbody>\n",
              "</table>\n",
              "</div>\n",
              "      <button class=\"colab-df-convert\" onclick=\"convertToInteractive('df-43be035d-f970-47e4-ac7b-69c8b7e8e76a')\"\n",
              "              title=\"Convert this dataframe to an interactive table.\"\n",
              "              style=\"display:none;\">\n",
              "        \n",
              "  <svg xmlns=\"http://www.w3.org/2000/svg\" height=\"24px\"viewBox=\"0 0 24 24\"\n",
              "       width=\"24px\">\n",
              "    <path d=\"M0 0h24v24H0V0z\" fill=\"none\"/>\n",
              "    <path d=\"M18.56 5.44l.94 2.06.94-2.06 2.06-.94-2.06-.94-.94-2.06-.94 2.06-2.06.94zm-11 1L8.5 8.5l.94-2.06 2.06-.94-2.06-.94L8.5 2.5l-.94 2.06-2.06.94zm10 10l.94 2.06.94-2.06 2.06-.94-2.06-.94-.94-2.06-.94 2.06-2.06.94z\"/><path d=\"M17.41 7.96l-1.37-1.37c-.4-.4-.92-.59-1.43-.59-.52 0-1.04.2-1.43.59L10.3 9.45l-7.72 7.72c-.78.78-.78 2.05 0 2.83L4 21.41c.39.39.9.59 1.41.59.51 0 1.02-.2 1.41-.59l7.78-7.78 2.81-2.81c.8-.78.8-2.07 0-2.86zM5.41 20L4 18.59l7.72-7.72 1.47 1.35L5.41 20z\"/>\n",
              "  </svg>\n",
              "      </button>\n",
              "      \n",
              "  <style>\n",
              "    .colab-df-container {\n",
              "      display:flex;\n",
              "      flex-wrap:wrap;\n",
              "      gap: 12px;\n",
              "    }\n",
              "\n",
              "    .colab-df-convert {\n",
              "      background-color: #E8F0FE;\n",
              "      border: none;\n",
              "      border-radius: 50%;\n",
              "      cursor: pointer;\n",
              "      display: none;\n",
              "      fill: #1967D2;\n",
              "      height: 32px;\n",
              "      padding: 0 0 0 0;\n",
              "      width: 32px;\n",
              "    }\n",
              "\n",
              "    .colab-df-convert:hover {\n",
              "      background-color: #E2EBFA;\n",
              "      box-shadow: 0px 1px 2px rgba(60, 64, 67, 0.3), 0px 1px 3px 1px rgba(60, 64, 67, 0.15);\n",
              "      fill: #174EA6;\n",
              "    }\n",
              "\n",
              "    [theme=dark] .colab-df-convert {\n",
              "      background-color: #3B4455;\n",
              "      fill: #D2E3FC;\n",
              "    }\n",
              "\n",
              "    [theme=dark] .colab-df-convert:hover {\n",
              "      background-color: #434B5C;\n",
              "      box-shadow: 0px 1px 3px 1px rgba(0, 0, 0, 0.15);\n",
              "      filter: drop-shadow(0px 1px 2px rgba(0, 0, 0, 0.3));\n",
              "      fill: #FFFFFF;\n",
              "    }\n",
              "  </style>\n",
              "\n",
              "      <script>\n",
              "        const buttonEl =\n",
              "          document.querySelector('#df-43be035d-f970-47e4-ac7b-69c8b7e8e76a button.colab-df-convert');\n",
              "        buttonEl.style.display =\n",
              "          google.colab.kernel.accessAllowed ? 'block' : 'none';\n",
              "\n",
              "        async function convertToInteractive(key) {\n",
              "          const element = document.querySelector('#df-43be035d-f970-47e4-ac7b-69c8b7e8e76a');\n",
              "          const dataTable =\n",
              "            await google.colab.kernel.invokeFunction('convertToInteractive',\n",
              "                                                     [key], {});\n",
              "          if (!dataTable) return;\n",
              "\n",
              "          const docLinkHtml = 'Like what you see? Visit the ' +\n",
              "            '<a target=\"_blank\" href=https://colab.research.google.com/notebooks/data_table.ipynb>data table notebook</a>'\n",
              "            + ' to learn more about interactive tables.';\n",
              "          element.innerHTML = '';\n",
              "          dataTable['output_type'] = 'display_data';\n",
              "          await google.colab.output.renderOutput(dataTable, element);\n",
              "          const docLink = document.createElement('div');\n",
              "          docLink.innerHTML = docLinkHtml;\n",
              "          element.appendChild(docLink);\n",
              "        }\n",
              "      </script>\n",
              "    </div>\n",
              "  </div>\n",
              "  "
            ]
          },
          "metadata": {},
          "execution_count": 47
        }
      ],
      "source": [
        "X_train.head(5)"
      ]
    },
    {
      "cell_type": "code",
      "execution_count": 48,
      "metadata": {
        "id": "FvV0aRt3a-8N",
        "outputId": "2a34cafe-a041-40e3-a886-eb79ef58136d",
        "colab": {
          "base_uri": "https://localhost:8080/",
          "height": 300
        }
      },
      "outputs": [
        {
          "output_type": "execute_result",
          "data": {
            "text/plain": [
              "               Price  RegistrationYear          Power      Kilometer\n",
              "count  300968.000000     300968.000000  300968.000000  300968.000000\n",
              "mean     4761.712046       2002.814309     121.041440  128678.597060\n",
              "std      4589.126054          6.432569      52.649472   36550.559539\n",
              "min         1.000000       1923.000000      51.000000    5000.000000\n",
              "25%      1299.000000       1999.000000      79.000000  125000.000000\n",
              "50%      3000.000000       2003.000000     113.000000  150000.000000\n",
              "75%      6900.000000       2007.000000     150.000000  150000.000000\n",
              "max     20000.000000       2016.000000    1000.000000  150000.000000"
            ],
            "text/html": [
              "\n",
              "  <div id=\"df-9c286a05-16ae-419c-ac96-7b1521e48716\">\n",
              "    <div class=\"colab-df-container\">\n",
              "      <div>\n",
              "<style scoped>\n",
              "    .dataframe tbody tr th:only-of-type {\n",
              "        vertical-align: middle;\n",
              "    }\n",
              "\n",
              "    .dataframe tbody tr th {\n",
              "        vertical-align: top;\n",
              "    }\n",
              "\n",
              "    .dataframe thead th {\n",
              "        text-align: right;\n",
              "    }\n",
              "</style>\n",
              "<table border=\"1\" class=\"dataframe\">\n",
              "  <thead>\n",
              "    <tr style=\"text-align: right;\">\n",
              "      <th></th>\n",
              "      <th>Price</th>\n",
              "      <th>RegistrationYear</th>\n",
              "      <th>Power</th>\n",
              "      <th>Kilometer</th>\n",
              "    </tr>\n",
              "  </thead>\n",
              "  <tbody>\n",
              "    <tr>\n",
              "      <th>count</th>\n",
              "      <td>300968.000000</td>\n",
              "      <td>300968.000000</td>\n",
              "      <td>300968.000000</td>\n",
              "      <td>300968.000000</td>\n",
              "    </tr>\n",
              "    <tr>\n",
              "      <th>mean</th>\n",
              "      <td>4761.712046</td>\n",
              "      <td>2002.814309</td>\n",
              "      <td>121.041440</td>\n",
              "      <td>128678.597060</td>\n",
              "    </tr>\n",
              "    <tr>\n",
              "      <th>std</th>\n",
              "      <td>4589.126054</td>\n",
              "      <td>6.432569</td>\n",
              "      <td>52.649472</td>\n",
              "      <td>36550.559539</td>\n",
              "    </tr>\n",
              "    <tr>\n",
              "      <th>min</th>\n",
              "      <td>1.000000</td>\n",
              "      <td>1923.000000</td>\n",
              "      <td>51.000000</td>\n",
              "      <td>5000.000000</td>\n",
              "    </tr>\n",
              "    <tr>\n",
              "      <th>25%</th>\n",
              "      <td>1299.000000</td>\n",
              "      <td>1999.000000</td>\n",
              "      <td>79.000000</td>\n",
              "      <td>125000.000000</td>\n",
              "    </tr>\n",
              "    <tr>\n",
              "      <th>50%</th>\n",
              "      <td>3000.000000</td>\n",
              "      <td>2003.000000</td>\n",
              "      <td>113.000000</td>\n",
              "      <td>150000.000000</td>\n",
              "    </tr>\n",
              "    <tr>\n",
              "      <th>75%</th>\n",
              "      <td>6900.000000</td>\n",
              "      <td>2007.000000</td>\n",
              "      <td>150.000000</td>\n",
              "      <td>150000.000000</td>\n",
              "    </tr>\n",
              "    <tr>\n",
              "      <th>max</th>\n",
              "      <td>20000.000000</td>\n",
              "      <td>2016.000000</td>\n",
              "      <td>1000.000000</td>\n",
              "      <td>150000.000000</td>\n",
              "    </tr>\n",
              "  </tbody>\n",
              "</table>\n",
              "</div>\n",
              "      <button class=\"colab-df-convert\" onclick=\"convertToInteractive('df-9c286a05-16ae-419c-ac96-7b1521e48716')\"\n",
              "              title=\"Convert this dataframe to an interactive table.\"\n",
              "              style=\"display:none;\">\n",
              "        \n",
              "  <svg xmlns=\"http://www.w3.org/2000/svg\" height=\"24px\"viewBox=\"0 0 24 24\"\n",
              "       width=\"24px\">\n",
              "    <path d=\"M0 0h24v24H0V0z\" fill=\"none\"/>\n",
              "    <path d=\"M18.56 5.44l.94 2.06.94-2.06 2.06-.94-2.06-.94-.94-2.06-.94 2.06-2.06.94zm-11 1L8.5 8.5l.94-2.06 2.06-.94-2.06-.94L8.5 2.5l-.94 2.06-2.06.94zm10 10l.94 2.06.94-2.06 2.06-.94-2.06-.94-.94-2.06-.94 2.06-2.06.94z\"/><path d=\"M17.41 7.96l-1.37-1.37c-.4-.4-.92-.59-1.43-.59-.52 0-1.04.2-1.43.59L10.3 9.45l-7.72 7.72c-.78.78-.78 2.05 0 2.83L4 21.41c.39.39.9.59 1.41.59.51 0 1.02-.2 1.41-.59l7.78-7.78 2.81-2.81c.8-.78.8-2.07 0-2.86zM5.41 20L4 18.59l7.72-7.72 1.47 1.35L5.41 20z\"/>\n",
              "  </svg>\n",
              "      </button>\n",
              "      \n",
              "  <style>\n",
              "    .colab-df-container {\n",
              "      display:flex;\n",
              "      flex-wrap:wrap;\n",
              "      gap: 12px;\n",
              "    }\n",
              "\n",
              "    .colab-df-convert {\n",
              "      background-color: #E8F0FE;\n",
              "      border: none;\n",
              "      border-radius: 50%;\n",
              "      cursor: pointer;\n",
              "      display: none;\n",
              "      fill: #1967D2;\n",
              "      height: 32px;\n",
              "      padding: 0 0 0 0;\n",
              "      width: 32px;\n",
              "    }\n",
              "\n",
              "    .colab-df-convert:hover {\n",
              "      background-color: #E2EBFA;\n",
              "      box-shadow: 0px 1px 2px rgba(60, 64, 67, 0.3), 0px 1px 3px 1px rgba(60, 64, 67, 0.15);\n",
              "      fill: #174EA6;\n",
              "    }\n",
              "\n",
              "    [theme=dark] .colab-df-convert {\n",
              "      background-color: #3B4455;\n",
              "      fill: #D2E3FC;\n",
              "    }\n",
              "\n",
              "    [theme=dark] .colab-df-convert:hover {\n",
              "      background-color: #434B5C;\n",
              "      box-shadow: 0px 1px 3px 1px rgba(0, 0, 0, 0.15);\n",
              "      filter: drop-shadow(0px 1px 2px rgba(0, 0, 0, 0.3));\n",
              "      fill: #FFFFFF;\n",
              "    }\n",
              "  </style>\n",
              "\n",
              "      <script>\n",
              "        const buttonEl =\n",
              "          document.querySelector('#df-9c286a05-16ae-419c-ac96-7b1521e48716 button.colab-df-convert');\n",
              "        buttonEl.style.display =\n",
              "          google.colab.kernel.accessAllowed ? 'block' : 'none';\n",
              "\n",
              "        async function convertToInteractive(key) {\n",
              "          const element = document.querySelector('#df-9c286a05-16ae-419c-ac96-7b1521e48716');\n",
              "          const dataTable =\n",
              "            await google.colab.kernel.invokeFunction('convertToInteractive',\n",
              "                                                     [key], {});\n",
              "          if (!dataTable) return;\n",
              "\n",
              "          const docLinkHtml = 'Like what you see? Visit the ' +\n",
              "            '<a target=\"_blank\" href=https://colab.research.google.com/notebooks/data_table.ipynb>data table notebook</a>'\n",
              "            + ' to learn more about interactive tables.';\n",
              "          element.innerHTML = '';\n",
              "          dataTable['output_type'] = 'display_data';\n",
              "          await google.colab.output.renderOutput(dataTable, element);\n",
              "          const docLink = document.createElement('div');\n",
              "          docLink.innerHTML = docLinkHtml;\n",
              "          element.appendChild(docLink);\n",
              "        }\n",
              "      </script>\n",
              "    </div>\n",
              "  </div>\n",
              "  "
            ]
          },
          "metadata": {},
          "execution_count": 48
        }
      ],
      "source": [
        "df.describe()"
      ]
    },
    {
      "cell_type": "markdown",
      "metadata": {
        "id": "c-J2eb4Za-8N"
      },
      "source": [
        "### Стандартизиция  признаков."
      ]
    },
    {
      "cell_type": "code",
      "execution_count": 49,
      "metadata": {
        "id": "mA6bScXca-8N",
        "outputId": "8f7697db-e382-4618-ba82-4eb837ce1cb7",
        "colab": {
          "base_uri": "https://localhost:8080/",
          "height": 206
        }
      },
      "outputs": [
        {
          "output_type": "execute_result",
          "data": {
            "text/plain": [
              "   VehicleType  RegistrationYear  Gearbox     Power     Model  Kilometer  \\\n",
              "0            2         -0.744168        1 -0.591396  0.818475   0.583369   \n",
              "1            4         -0.899188        1 -1.258578 -0.364183   0.583369   \n",
              "2            1          1.116064        1  0.018600 -0.406930  -0.785683   \n",
              "3            7         -0.434130        1 -0.915456  0.490751   0.583369   \n",
              "4            4         -1.674284        1 -0.229211 -0.193197   0.583369   \n",
              "\n",
              "   FuelType     Brand  Repaired  \n",
              "0         6  1.125654         0  \n",
              "1         6  0.278773         1  \n",
              "2         6  0.047806         0  \n",
              "3         6  1.279632         0  \n",
              "4         6 -0.029184         0  "
            ],
            "text/html": [
              "\n",
              "  <div id=\"df-42d9d6a2-505e-4761-8011-a1bfe8e25138\">\n",
              "    <div class=\"colab-df-container\">\n",
              "      <div>\n",
              "<style scoped>\n",
              "    .dataframe tbody tr th:only-of-type {\n",
              "        vertical-align: middle;\n",
              "    }\n",
              "\n",
              "    .dataframe tbody tr th {\n",
              "        vertical-align: top;\n",
              "    }\n",
              "\n",
              "    .dataframe thead th {\n",
              "        text-align: right;\n",
              "    }\n",
              "</style>\n",
              "<table border=\"1\" class=\"dataframe\">\n",
              "  <thead>\n",
              "    <tr style=\"text-align: right;\">\n",
              "      <th></th>\n",
              "      <th>VehicleType</th>\n",
              "      <th>RegistrationYear</th>\n",
              "      <th>Gearbox</th>\n",
              "      <th>Power</th>\n",
              "      <th>Model</th>\n",
              "      <th>Kilometer</th>\n",
              "      <th>FuelType</th>\n",
              "      <th>Brand</th>\n",
              "      <th>Repaired</th>\n",
              "    </tr>\n",
              "  </thead>\n",
              "  <tbody>\n",
              "    <tr>\n",
              "      <th>0</th>\n",
              "      <td>2</td>\n",
              "      <td>-0.744168</td>\n",
              "      <td>1</td>\n",
              "      <td>-0.591396</td>\n",
              "      <td>0.818475</td>\n",
              "      <td>0.583369</td>\n",
              "      <td>6</td>\n",
              "      <td>1.125654</td>\n",
              "      <td>0</td>\n",
              "    </tr>\n",
              "    <tr>\n",
              "      <th>1</th>\n",
              "      <td>4</td>\n",
              "      <td>-0.899188</td>\n",
              "      <td>1</td>\n",
              "      <td>-1.258578</td>\n",
              "      <td>-0.364183</td>\n",
              "      <td>0.583369</td>\n",
              "      <td>6</td>\n",
              "      <td>0.278773</td>\n",
              "      <td>1</td>\n",
              "    </tr>\n",
              "    <tr>\n",
              "      <th>2</th>\n",
              "      <td>1</td>\n",
              "      <td>1.116064</td>\n",
              "      <td>1</td>\n",
              "      <td>0.018600</td>\n",
              "      <td>-0.406930</td>\n",
              "      <td>-0.785683</td>\n",
              "      <td>6</td>\n",
              "      <td>0.047806</td>\n",
              "      <td>0</td>\n",
              "    </tr>\n",
              "    <tr>\n",
              "      <th>3</th>\n",
              "      <td>7</td>\n",
              "      <td>-0.434130</td>\n",
              "      <td>1</td>\n",
              "      <td>-0.915456</td>\n",
              "      <td>0.490751</td>\n",
              "      <td>0.583369</td>\n",
              "      <td>6</td>\n",
              "      <td>1.279632</td>\n",
              "      <td>0</td>\n",
              "    </tr>\n",
              "    <tr>\n",
              "      <th>4</th>\n",
              "      <td>4</td>\n",
              "      <td>-1.674284</td>\n",
              "      <td>1</td>\n",
              "      <td>-0.229211</td>\n",
              "      <td>-0.193197</td>\n",
              "      <td>0.583369</td>\n",
              "      <td>6</td>\n",
              "      <td>-0.029184</td>\n",
              "      <td>0</td>\n",
              "    </tr>\n",
              "  </tbody>\n",
              "</table>\n",
              "</div>\n",
              "      <button class=\"colab-df-convert\" onclick=\"convertToInteractive('df-42d9d6a2-505e-4761-8011-a1bfe8e25138')\"\n",
              "              title=\"Convert this dataframe to an interactive table.\"\n",
              "              style=\"display:none;\">\n",
              "        \n",
              "  <svg xmlns=\"http://www.w3.org/2000/svg\" height=\"24px\"viewBox=\"0 0 24 24\"\n",
              "       width=\"24px\">\n",
              "    <path d=\"M0 0h24v24H0V0z\" fill=\"none\"/>\n",
              "    <path d=\"M18.56 5.44l.94 2.06.94-2.06 2.06-.94-2.06-.94-.94-2.06-.94 2.06-2.06.94zm-11 1L8.5 8.5l.94-2.06 2.06-.94-2.06-.94L8.5 2.5l-.94 2.06-2.06.94zm10 10l.94 2.06.94-2.06 2.06-.94-2.06-.94-.94-2.06-.94 2.06-2.06.94z\"/><path d=\"M17.41 7.96l-1.37-1.37c-.4-.4-.92-.59-1.43-.59-.52 0-1.04.2-1.43.59L10.3 9.45l-7.72 7.72c-.78.78-.78 2.05 0 2.83L4 21.41c.39.39.9.59 1.41.59.51 0 1.02-.2 1.41-.59l7.78-7.78 2.81-2.81c.8-.78.8-2.07 0-2.86zM5.41 20L4 18.59l7.72-7.72 1.47 1.35L5.41 20z\"/>\n",
              "  </svg>\n",
              "      </button>\n",
              "      \n",
              "  <style>\n",
              "    .colab-df-container {\n",
              "      display:flex;\n",
              "      flex-wrap:wrap;\n",
              "      gap: 12px;\n",
              "    }\n",
              "\n",
              "    .colab-df-convert {\n",
              "      background-color: #E8F0FE;\n",
              "      border: none;\n",
              "      border-radius: 50%;\n",
              "      cursor: pointer;\n",
              "      display: none;\n",
              "      fill: #1967D2;\n",
              "      height: 32px;\n",
              "      padding: 0 0 0 0;\n",
              "      width: 32px;\n",
              "    }\n",
              "\n",
              "    .colab-df-convert:hover {\n",
              "      background-color: #E2EBFA;\n",
              "      box-shadow: 0px 1px 2px rgba(60, 64, 67, 0.3), 0px 1px 3px 1px rgba(60, 64, 67, 0.15);\n",
              "      fill: #174EA6;\n",
              "    }\n",
              "\n",
              "    [theme=dark] .colab-df-convert {\n",
              "      background-color: #3B4455;\n",
              "      fill: #D2E3FC;\n",
              "    }\n",
              "\n",
              "    [theme=dark] .colab-df-convert:hover {\n",
              "      background-color: #434B5C;\n",
              "      box-shadow: 0px 1px 3px 1px rgba(0, 0, 0, 0.15);\n",
              "      filter: drop-shadow(0px 1px 2px rgba(0, 0, 0, 0.3));\n",
              "      fill: #FFFFFF;\n",
              "    }\n",
              "  </style>\n",
              "\n",
              "      <script>\n",
              "        const buttonEl =\n",
              "          document.querySelector('#df-42d9d6a2-505e-4761-8011-a1bfe8e25138 button.colab-df-convert');\n",
              "        buttonEl.style.display =\n",
              "          google.colab.kernel.accessAllowed ? 'block' : 'none';\n",
              "\n",
              "        async function convertToInteractive(key) {\n",
              "          const element = document.querySelector('#df-42d9d6a2-505e-4761-8011-a1bfe8e25138');\n",
              "          const dataTable =\n",
              "            await google.colab.kernel.invokeFunction('convertToInteractive',\n",
              "                                                     [key], {});\n",
              "          if (!dataTable) return;\n",
              "\n",
              "          const docLinkHtml = 'Like what you see? Visit the ' +\n",
              "            '<a target=\"_blank\" href=https://colab.research.google.com/notebooks/data_table.ipynb>data table notebook</a>'\n",
              "            + ' to learn more about interactive tables.';\n",
              "          element.innerHTML = '';\n",
              "          dataTable['output_type'] = 'display_data';\n",
              "          await google.colab.output.renderOutput(dataTable, element);\n",
              "          const docLink = document.createElement('div');\n",
              "          docLink.innerHTML = docLinkHtml;\n",
              "          element.appendChild(docLink);\n",
              "        }\n",
              "      </script>\n",
              "    </div>\n",
              "  </div>\n",
              "  "
            ]
          },
          "metadata": {},
          "execution_count": 49
        }
      ],
      "source": [
        "numeric = ['RegistrationYear', 'Power', 'Model', 'Kilometer', 'Brand']\n",
        "\n",
        "scaler = StandardScaler()\n",
        "scaler.fit(X_train[numeric])\n",
        "\n",
        "X_train[numeric] = scaler.transform(X_train[numeric])\n",
        "X_test[numeric] = scaler.transform(X_test[numeric])\n",
        "X_val[numeric] = scaler.transform(X_val[numeric])\n",
        "X_train.head()"
      ]
    },
    {
      "cell_type": "markdown",
      "metadata": {
        "id": "UvVOXqUza-8N"
      },
      "source": [
        "**Вывод:**\n",
        "* Избавился от пропусков и выбросов\n",
        "* Удалил неинформативные столбцы\n",
        "* Восстановил пропущенные значения\n",
        "* Закодировал категориальные признаки методом Ordinal Encoding\n",
        "* Разбил выборку на тренировочную, тестовую и валидационную\n",
        "* Стандартизировал признаки"
      ]
    },
    {
      "cell_type": "markdown",
      "metadata": {
        "id": "VdW9l4Z9a-8O"
      },
      "source": [
        "## Обучение моделей"
      ]
    },
    {
      "cell_type": "markdown",
      "metadata": {
        "id": "7dm2Y6VSa-8O"
      },
      "source": [
        "### Random Forest Regressor"
      ]
    },
    {
      "cell_type": "code",
      "execution_count": 50,
      "metadata": {
        "id": "kW0msoyCa-8O"
      },
      "outputs": [],
      "source": [
        "parameters={\"max_depth\" : [None] + [i for i in range(2, 11)],\n",
        "           'n_estimators': [25,50,100,150]}\n",
        "\n",
        "\n",
        "regr = RandomForestRegressor(random_state=666, max_features=4)\n",
        "\n",
        "tuning_model_rfr = GridSearchCV(\n",
        "    regr,\n",
        "    param_grid=parameters,\n",
        "    scoring='neg_mean_squared_error',\n",
        "    cv=3,\n",
        "    verbose=2,\n",
        "    n_jobs=-1\n",
        ")"
      ]
    },
    {
      "cell_type": "code",
      "execution_count": 51,
      "metadata": {
        "id": "enujFKh_a-8O",
        "outputId": "b3048d39-0a31-4a94-f2aa-984d37cfecbe",
        "colab": {
          "base_uri": "https://localhost:8080/",
          "height": 135
        }
      },
      "outputs": [
        {
          "output_type": "stream",
          "name": "stdout",
          "text": [
            "Fitting 3 folds for each of 40 candidates, totalling 120 fits\n"
          ]
        },
        {
          "output_type": "execute_result",
          "data": {
            "text/plain": [
              "GridSearchCV(cv=3,\n",
              "             estimator=RandomForestRegressor(max_features=4, random_state=666),\n",
              "             n_jobs=-1,\n",
              "             param_grid={'max_depth': [None, 2, 3, 4, 5, 6, 7, 8, 9, 10],\n",
              "                         'n_estimators': [25, 50, 100, 150]},\n",
              "             scoring='neg_mean_squared_error', verbose=2)"
            ],
            "text/html": [
              "<style>#sk-container-id-2 {color: black;background-color: white;}#sk-container-id-2 pre{padding: 0;}#sk-container-id-2 div.sk-toggleable {background-color: white;}#sk-container-id-2 label.sk-toggleable__label {cursor: pointer;display: block;width: 100%;margin-bottom: 0;padding: 0.3em;box-sizing: border-box;text-align: center;}#sk-container-id-2 label.sk-toggleable__label-arrow:before {content: \"▸\";float: left;margin-right: 0.25em;color: #696969;}#sk-container-id-2 label.sk-toggleable__label-arrow:hover:before {color: black;}#sk-container-id-2 div.sk-estimator:hover label.sk-toggleable__label-arrow:before {color: black;}#sk-container-id-2 div.sk-toggleable__content {max-height: 0;max-width: 0;overflow: hidden;text-align: left;background-color: #f0f8ff;}#sk-container-id-2 div.sk-toggleable__content pre {margin: 0.2em;color: black;border-radius: 0.25em;background-color: #f0f8ff;}#sk-container-id-2 input.sk-toggleable__control:checked~div.sk-toggleable__content {max-height: 200px;max-width: 100%;overflow: auto;}#sk-container-id-2 input.sk-toggleable__control:checked~label.sk-toggleable__label-arrow:before {content: \"▾\";}#sk-container-id-2 div.sk-estimator input.sk-toggleable__control:checked~label.sk-toggleable__label {background-color: #d4ebff;}#sk-container-id-2 div.sk-label input.sk-toggleable__control:checked~label.sk-toggleable__label {background-color: #d4ebff;}#sk-container-id-2 input.sk-hidden--visually {border: 0;clip: rect(1px 1px 1px 1px);clip: rect(1px, 1px, 1px, 1px);height: 1px;margin: -1px;overflow: hidden;padding: 0;position: absolute;width: 1px;}#sk-container-id-2 div.sk-estimator {font-family: monospace;background-color: #f0f8ff;border: 1px dotted black;border-radius: 0.25em;box-sizing: border-box;margin-bottom: 0.5em;}#sk-container-id-2 div.sk-estimator:hover {background-color: #d4ebff;}#sk-container-id-2 div.sk-parallel-item::after {content: \"\";width: 100%;border-bottom: 1px solid gray;flex-grow: 1;}#sk-container-id-2 div.sk-label:hover label.sk-toggleable__label {background-color: #d4ebff;}#sk-container-id-2 div.sk-serial::before {content: \"\";position: absolute;border-left: 1px solid gray;box-sizing: border-box;top: 0;bottom: 0;left: 50%;z-index: 0;}#sk-container-id-2 div.sk-serial {display: flex;flex-direction: column;align-items: center;background-color: white;padding-right: 0.2em;padding-left: 0.2em;position: relative;}#sk-container-id-2 div.sk-item {position: relative;z-index: 1;}#sk-container-id-2 div.sk-parallel {display: flex;align-items: stretch;justify-content: center;background-color: white;position: relative;}#sk-container-id-2 div.sk-item::before, #sk-container-id-2 div.sk-parallel-item::before {content: \"\";position: absolute;border-left: 1px solid gray;box-sizing: border-box;top: 0;bottom: 0;left: 50%;z-index: -1;}#sk-container-id-2 div.sk-parallel-item {display: flex;flex-direction: column;z-index: 1;position: relative;background-color: white;}#sk-container-id-2 div.sk-parallel-item:first-child::after {align-self: flex-end;width: 50%;}#sk-container-id-2 div.sk-parallel-item:last-child::after {align-self: flex-start;width: 50%;}#sk-container-id-2 div.sk-parallel-item:only-child::after {width: 0;}#sk-container-id-2 div.sk-dashed-wrapped {border: 1px dashed gray;margin: 0 0.4em 0.5em 0.4em;box-sizing: border-box;padding-bottom: 0.4em;background-color: white;}#sk-container-id-2 div.sk-label label {font-family: monospace;font-weight: bold;display: inline-block;line-height: 1.2em;}#sk-container-id-2 div.sk-label-container {text-align: center;}#sk-container-id-2 div.sk-container {/* jupyter's `normalize.less` sets `[hidden] { display: none; }` but bootstrap.min.css set `[hidden] { display: none !important; }` so we also need the `!important` here to be able to override the default hidden behavior on the sphinx rendered scikit-learn.org. See: https://github.com/scikit-learn/scikit-learn/issues/21755 */display: inline-block !important;position: relative;}#sk-container-id-2 div.sk-text-repr-fallback {display: none;}</style><div id=\"sk-container-id-2\" class=\"sk-top-container\"><div class=\"sk-text-repr-fallback\"><pre>GridSearchCV(cv=3,\n",
              "             estimator=RandomForestRegressor(max_features=4, random_state=666),\n",
              "             n_jobs=-1,\n",
              "             param_grid={&#x27;max_depth&#x27;: [None, 2, 3, 4, 5, 6, 7, 8, 9, 10],\n",
              "                         &#x27;n_estimators&#x27;: [25, 50, 100, 150]},\n",
              "             scoring=&#x27;neg_mean_squared_error&#x27;, verbose=2)</pre><b>In a Jupyter environment, please rerun this cell to show the HTML representation or trust the notebook. <br />On GitHub, the HTML representation is unable to render, please try loading this page with nbviewer.org.</b></div><div class=\"sk-container\" hidden><div class=\"sk-item sk-dashed-wrapped\"><div class=\"sk-label-container\"><div class=\"sk-label sk-toggleable\"><input class=\"sk-toggleable__control sk-hidden--visually\" id=\"sk-estimator-id-2\" type=\"checkbox\" ><label for=\"sk-estimator-id-2\" class=\"sk-toggleable__label sk-toggleable__label-arrow\">GridSearchCV</label><div class=\"sk-toggleable__content\"><pre>GridSearchCV(cv=3,\n",
              "             estimator=RandomForestRegressor(max_features=4, random_state=666),\n",
              "             n_jobs=-1,\n",
              "             param_grid={&#x27;max_depth&#x27;: [None, 2, 3, 4, 5, 6, 7, 8, 9, 10],\n",
              "                         &#x27;n_estimators&#x27;: [25, 50, 100, 150]},\n",
              "             scoring=&#x27;neg_mean_squared_error&#x27;, verbose=2)</pre></div></div></div><div class=\"sk-parallel\"><div class=\"sk-parallel-item\"><div class=\"sk-item\"><div class=\"sk-label-container\"><div class=\"sk-label sk-toggleable\"><input class=\"sk-toggleable__control sk-hidden--visually\" id=\"sk-estimator-id-3\" type=\"checkbox\" ><label for=\"sk-estimator-id-3\" class=\"sk-toggleable__label sk-toggleable__label-arrow\">estimator: RandomForestRegressor</label><div class=\"sk-toggleable__content\"><pre>RandomForestRegressor(max_features=4, random_state=666)</pre></div></div></div><div class=\"sk-serial\"><div class=\"sk-item\"><div class=\"sk-estimator sk-toggleable\"><input class=\"sk-toggleable__control sk-hidden--visually\" id=\"sk-estimator-id-4\" type=\"checkbox\" ><label for=\"sk-estimator-id-4\" class=\"sk-toggleable__label sk-toggleable__label-arrow\">RandomForestRegressor</label><div class=\"sk-toggleable__content\"><pre>RandomForestRegressor(max_features=4, random_state=666)</pre></div></div></div></div></div></div></div></div></div></div>"
            ]
          },
          "metadata": {},
          "execution_count": 51
        }
      ],
      "source": [
        "tuning_model_rfr.fit(X_train, y_train)"
      ]
    },
    {
      "cell_type": "code",
      "execution_count": 52,
      "metadata": {
        "id": "Kq5G-VJia-8Q",
        "outputId": "69fe3657-ac13-4713-a3f4-11b490001577",
        "colab": {
          "base_uri": "https://localhost:8080/"
        }
      },
      "outputs": [
        {
          "output_type": "execute_result",
          "data": {
            "text/plain": [
              "{'max_depth': None, 'n_estimators': 150}"
            ]
          },
          "metadata": {},
          "execution_count": 52
        }
      ],
      "source": [
        "tuning_model_rfr.best_params_"
      ]
    },
    {
      "cell_type": "code",
      "execution_count": 56,
      "metadata": {
        "id": "6nsW76Sfa-8Q",
        "outputId": "e7e68780-05e3-4375-e6b7-adade1e6f8a4",
        "colab": {
          "base_uri": "https://localhost:8080/",
          "height": 179
        }
      },
      "outputs": [
        {
          "output_type": "stream",
          "name": "stderr",
          "text": [
            "[Parallel(n_jobs=-1)]: Using backend ThreadingBackend with 2 concurrent workers.\n",
            "[Parallel(n_jobs=-1)]: Done  46 tasks      | elapsed:   21.7s\n"
          ]
        },
        {
          "output_type": "stream",
          "name": "stdout",
          "text": [
            "CPU times: user 1min 1s, sys: 1.36 s, total: 1min 2s\n",
            "Wall time: 50.8 s\n"
          ]
        },
        {
          "output_type": "stream",
          "name": "stderr",
          "text": [
            "[Parallel(n_jobs=-1)]: Done 150 out of 150 | elapsed:   50.4s finished\n"
          ]
        },
        {
          "output_type": "execute_result",
          "data": {
            "text/plain": [
              "RandomForestRegressor(max_features=4, n_estimators=150, n_jobs=-1,\n",
              "                      random_state=666, verbose=1)"
            ],
            "text/html": [
              "<style>#sk-container-id-4 {color: black;background-color: white;}#sk-container-id-4 pre{padding: 0;}#sk-container-id-4 div.sk-toggleable {background-color: white;}#sk-container-id-4 label.sk-toggleable__label {cursor: pointer;display: block;width: 100%;margin-bottom: 0;padding: 0.3em;box-sizing: border-box;text-align: center;}#sk-container-id-4 label.sk-toggleable__label-arrow:before {content: \"▸\";float: left;margin-right: 0.25em;color: #696969;}#sk-container-id-4 label.sk-toggleable__label-arrow:hover:before {color: black;}#sk-container-id-4 div.sk-estimator:hover label.sk-toggleable__label-arrow:before {color: black;}#sk-container-id-4 div.sk-toggleable__content {max-height: 0;max-width: 0;overflow: hidden;text-align: left;background-color: #f0f8ff;}#sk-container-id-4 div.sk-toggleable__content pre {margin: 0.2em;color: black;border-radius: 0.25em;background-color: #f0f8ff;}#sk-container-id-4 input.sk-toggleable__control:checked~div.sk-toggleable__content {max-height: 200px;max-width: 100%;overflow: auto;}#sk-container-id-4 input.sk-toggleable__control:checked~label.sk-toggleable__label-arrow:before {content: \"▾\";}#sk-container-id-4 div.sk-estimator input.sk-toggleable__control:checked~label.sk-toggleable__label {background-color: #d4ebff;}#sk-container-id-4 div.sk-label input.sk-toggleable__control:checked~label.sk-toggleable__label {background-color: #d4ebff;}#sk-container-id-4 input.sk-hidden--visually {border: 0;clip: rect(1px 1px 1px 1px);clip: rect(1px, 1px, 1px, 1px);height: 1px;margin: -1px;overflow: hidden;padding: 0;position: absolute;width: 1px;}#sk-container-id-4 div.sk-estimator {font-family: monospace;background-color: #f0f8ff;border: 1px dotted black;border-radius: 0.25em;box-sizing: border-box;margin-bottom: 0.5em;}#sk-container-id-4 div.sk-estimator:hover {background-color: #d4ebff;}#sk-container-id-4 div.sk-parallel-item::after {content: \"\";width: 100%;border-bottom: 1px solid gray;flex-grow: 1;}#sk-container-id-4 div.sk-label:hover label.sk-toggleable__label {background-color: #d4ebff;}#sk-container-id-4 div.sk-serial::before {content: \"\";position: absolute;border-left: 1px solid gray;box-sizing: border-box;top: 0;bottom: 0;left: 50%;z-index: 0;}#sk-container-id-4 div.sk-serial {display: flex;flex-direction: column;align-items: center;background-color: white;padding-right: 0.2em;padding-left: 0.2em;position: relative;}#sk-container-id-4 div.sk-item {position: relative;z-index: 1;}#sk-container-id-4 div.sk-parallel {display: flex;align-items: stretch;justify-content: center;background-color: white;position: relative;}#sk-container-id-4 div.sk-item::before, #sk-container-id-4 div.sk-parallel-item::before {content: \"\";position: absolute;border-left: 1px solid gray;box-sizing: border-box;top: 0;bottom: 0;left: 50%;z-index: -1;}#sk-container-id-4 div.sk-parallel-item {display: flex;flex-direction: column;z-index: 1;position: relative;background-color: white;}#sk-container-id-4 div.sk-parallel-item:first-child::after {align-self: flex-end;width: 50%;}#sk-container-id-4 div.sk-parallel-item:last-child::after {align-self: flex-start;width: 50%;}#sk-container-id-4 div.sk-parallel-item:only-child::after {width: 0;}#sk-container-id-4 div.sk-dashed-wrapped {border: 1px dashed gray;margin: 0 0.4em 0.5em 0.4em;box-sizing: border-box;padding-bottom: 0.4em;background-color: white;}#sk-container-id-4 div.sk-label label {font-family: monospace;font-weight: bold;display: inline-block;line-height: 1.2em;}#sk-container-id-4 div.sk-label-container {text-align: center;}#sk-container-id-4 div.sk-container {/* jupyter's `normalize.less` sets `[hidden] { display: none; }` but bootstrap.min.css set `[hidden] { display: none !important; }` so we also need the `!important` here to be able to override the default hidden behavior on the sphinx rendered scikit-learn.org. See: https://github.com/scikit-learn/scikit-learn/issues/21755 */display: inline-block !important;position: relative;}#sk-container-id-4 div.sk-text-repr-fallback {display: none;}</style><div id=\"sk-container-id-4\" class=\"sk-top-container\"><div class=\"sk-text-repr-fallback\"><pre>RandomForestRegressor(max_features=4, n_estimators=150, n_jobs=-1,\n",
              "                      random_state=666, verbose=1)</pre><b>In a Jupyter environment, please rerun this cell to show the HTML representation or trust the notebook. <br />On GitHub, the HTML representation is unable to render, please try loading this page with nbviewer.org.</b></div><div class=\"sk-container\" hidden><div class=\"sk-item\"><div class=\"sk-estimator sk-toggleable\"><input class=\"sk-toggleable__control sk-hidden--visually\" id=\"sk-estimator-id-6\" type=\"checkbox\" checked><label for=\"sk-estimator-id-6\" class=\"sk-toggleable__label sk-toggleable__label-arrow\">RandomForestRegressor</label><div class=\"sk-toggleable__content\"><pre>RandomForestRegressor(max_features=4, n_estimators=150, n_jobs=-1,\n",
              "                      random_state=666, verbose=1)</pre></div></div></div></div></div>"
            ]
          },
          "metadata": {},
          "execution_count": 56
        }
      ],
      "source": [
        "%%time\n",
        "model = RandomForestRegressor(random_state=666,\n",
        "                              max_features=4,\n",
        "                              max_depth=None,\n",
        "                              n_estimators=150,\n",
        "                              verbose=1, n_jobs=-1)\n",
        "model.fit(X_train, y_train)"
      ]
    },
    {
      "cell_type": "code",
      "execution_count": 54,
      "metadata": {
        "id": "Vuzpga7ea-8Q",
        "outputId": "7459eb39-2117-4979-a252-ed346a3f4a61",
        "colab": {
          "base_uri": "https://localhost:8080/"
        }
      },
      "outputs": [
        {
          "output_type": "stream",
          "name": "stdout",
          "text": [
            "RMSE = 1544.7889652559627\n",
            "CPU times: user 4.17 s, sys: 13.5 ms, total: 4.18 s\n",
            "Wall time: 4.17 s\n"
          ]
        }
      ],
      "source": [
        "%%time\n",
        "y_pred_rfr = tuning_model_rfr.predict(X_val)\n",
        "print(f'RMSE = {sqrt(mean_squared_error(y_val, y_pred_rfr))}')"
      ]
    },
    {
      "cell_type": "markdown",
      "metadata": {
        "id": "YhcA6BHMa-8R"
      },
      "source": [
        "### Decision Tree Regressor"
      ]
    },
    {
      "cell_type": "code",
      "execution_count": 57,
      "metadata": {
        "id": "yLowd7uWa-8R",
        "colab": {
          "base_uri": "https://localhost:8080/",
          "height": 135
        },
        "outputId": "9cca861f-1d36-4f27-9bee-65ae3d17f1a2"
      },
      "outputs": [
        {
          "output_type": "stream",
          "name": "stdout",
          "text": [
            "Fitting 3 folds for each of 100 candidates, totalling 300 fits\n"
          ]
        },
        {
          "output_type": "execute_result",
          "data": {
            "text/plain": [
              "GridSearchCV(cv=3, estimator=DecisionTreeRegressor(random_state=666),\n",
              "             param_grid={'max_depth': [None, 2, 3, 4, 5, 6, 7, 8, 9, 10],\n",
              "                         'min_samples_leaf': [None, 2, 3, 4, 5, 6, 7, 8, 9,\n",
              "                                              10]},\n",
              "             scoring='neg_mean_squared_error', verbose=1)"
            ],
            "text/html": [
              "<style>#sk-container-id-5 {color: black;background-color: white;}#sk-container-id-5 pre{padding: 0;}#sk-container-id-5 div.sk-toggleable {background-color: white;}#sk-container-id-5 label.sk-toggleable__label {cursor: pointer;display: block;width: 100%;margin-bottom: 0;padding: 0.3em;box-sizing: border-box;text-align: center;}#sk-container-id-5 label.sk-toggleable__label-arrow:before {content: \"▸\";float: left;margin-right: 0.25em;color: #696969;}#sk-container-id-5 label.sk-toggleable__label-arrow:hover:before {color: black;}#sk-container-id-5 div.sk-estimator:hover label.sk-toggleable__label-arrow:before {color: black;}#sk-container-id-5 div.sk-toggleable__content {max-height: 0;max-width: 0;overflow: hidden;text-align: left;background-color: #f0f8ff;}#sk-container-id-5 div.sk-toggleable__content pre {margin: 0.2em;color: black;border-radius: 0.25em;background-color: #f0f8ff;}#sk-container-id-5 input.sk-toggleable__control:checked~div.sk-toggleable__content {max-height: 200px;max-width: 100%;overflow: auto;}#sk-container-id-5 input.sk-toggleable__control:checked~label.sk-toggleable__label-arrow:before {content: \"▾\";}#sk-container-id-5 div.sk-estimator input.sk-toggleable__control:checked~label.sk-toggleable__label {background-color: #d4ebff;}#sk-container-id-5 div.sk-label input.sk-toggleable__control:checked~label.sk-toggleable__label {background-color: #d4ebff;}#sk-container-id-5 input.sk-hidden--visually {border: 0;clip: rect(1px 1px 1px 1px);clip: rect(1px, 1px, 1px, 1px);height: 1px;margin: -1px;overflow: hidden;padding: 0;position: absolute;width: 1px;}#sk-container-id-5 div.sk-estimator {font-family: monospace;background-color: #f0f8ff;border: 1px dotted black;border-radius: 0.25em;box-sizing: border-box;margin-bottom: 0.5em;}#sk-container-id-5 div.sk-estimator:hover {background-color: #d4ebff;}#sk-container-id-5 div.sk-parallel-item::after {content: \"\";width: 100%;border-bottom: 1px solid gray;flex-grow: 1;}#sk-container-id-5 div.sk-label:hover label.sk-toggleable__label {background-color: #d4ebff;}#sk-container-id-5 div.sk-serial::before {content: \"\";position: absolute;border-left: 1px solid gray;box-sizing: border-box;top: 0;bottom: 0;left: 50%;z-index: 0;}#sk-container-id-5 div.sk-serial {display: flex;flex-direction: column;align-items: center;background-color: white;padding-right: 0.2em;padding-left: 0.2em;position: relative;}#sk-container-id-5 div.sk-item {position: relative;z-index: 1;}#sk-container-id-5 div.sk-parallel {display: flex;align-items: stretch;justify-content: center;background-color: white;position: relative;}#sk-container-id-5 div.sk-item::before, #sk-container-id-5 div.sk-parallel-item::before {content: \"\";position: absolute;border-left: 1px solid gray;box-sizing: border-box;top: 0;bottom: 0;left: 50%;z-index: -1;}#sk-container-id-5 div.sk-parallel-item {display: flex;flex-direction: column;z-index: 1;position: relative;background-color: white;}#sk-container-id-5 div.sk-parallel-item:first-child::after {align-self: flex-end;width: 50%;}#sk-container-id-5 div.sk-parallel-item:last-child::after {align-self: flex-start;width: 50%;}#sk-container-id-5 div.sk-parallel-item:only-child::after {width: 0;}#sk-container-id-5 div.sk-dashed-wrapped {border: 1px dashed gray;margin: 0 0.4em 0.5em 0.4em;box-sizing: border-box;padding-bottom: 0.4em;background-color: white;}#sk-container-id-5 div.sk-label label {font-family: monospace;font-weight: bold;display: inline-block;line-height: 1.2em;}#sk-container-id-5 div.sk-label-container {text-align: center;}#sk-container-id-5 div.sk-container {/* jupyter's `normalize.less` sets `[hidden] { display: none; }` but bootstrap.min.css set `[hidden] { display: none !important; }` so we also need the `!important` here to be able to override the default hidden behavior on the sphinx rendered scikit-learn.org. See: https://github.com/scikit-learn/scikit-learn/issues/21755 */display: inline-block !important;position: relative;}#sk-container-id-5 div.sk-text-repr-fallback {display: none;}</style><div id=\"sk-container-id-5\" class=\"sk-top-container\"><div class=\"sk-text-repr-fallback\"><pre>GridSearchCV(cv=3, estimator=DecisionTreeRegressor(random_state=666),\n",
              "             param_grid={&#x27;max_depth&#x27;: [None, 2, 3, 4, 5, 6, 7, 8, 9, 10],\n",
              "                         &#x27;min_samples_leaf&#x27;: [None, 2, 3, 4, 5, 6, 7, 8, 9,\n",
              "                                              10]},\n",
              "             scoring=&#x27;neg_mean_squared_error&#x27;, verbose=1)</pre><b>In a Jupyter environment, please rerun this cell to show the HTML representation or trust the notebook. <br />On GitHub, the HTML representation is unable to render, please try loading this page with nbviewer.org.</b></div><div class=\"sk-container\" hidden><div class=\"sk-item sk-dashed-wrapped\"><div class=\"sk-label-container\"><div class=\"sk-label sk-toggleable\"><input class=\"sk-toggleable__control sk-hidden--visually\" id=\"sk-estimator-id-7\" type=\"checkbox\" ><label for=\"sk-estimator-id-7\" class=\"sk-toggleable__label sk-toggleable__label-arrow\">GridSearchCV</label><div class=\"sk-toggleable__content\"><pre>GridSearchCV(cv=3, estimator=DecisionTreeRegressor(random_state=666),\n",
              "             param_grid={&#x27;max_depth&#x27;: [None, 2, 3, 4, 5, 6, 7, 8, 9, 10],\n",
              "                         &#x27;min_samples_leaf&#x27;: [None, 2, 3, 4, 5, 6, 7, 8, 9,\n",
              "                                              10]},\n",
              "             scoring=&#x27;neg_mean_squared_error&#x27;, verbose=1)</pre></div></div></div><div class=\"sk-parallel\"><div class=\"sk-parallel-item\"><div class=\"sk-item\"><div class=\"sk-label-container\"><div class=\"sk-label sk-toggleable\"><input class=\"sk-toggleable__control sk-hidden--visually\" id=\"sk-estimator-id-8\" type=\"checkbox\" ><label for=\"sk-estimator-id-8\" class=\"sk-toggleable__label sk-toggleable__label-arrow\">estimator: DecisionTreeRegressor</label><div class=\"sk-toggleable__content\"><pre>DecisionTreeRegressor(random_state=666)</pre></div></div></div><div class=\"sk-serial\"><div class=\"sk-item\"><div class=\"sk-estimator sk-toggleable\"><input class=\"sk-toggleable__control sk-hidden--visually\" id=\"sk-estimator-id-9\" type=\"checkbox\" ><label for=\"sk-estimator-id-9\" class=\"sk-toggleable__label sk-toggleable__label-arrow\">DecisionTreeRegressor</label><div class=\"sk-toggleable__content\"><pre>DecisionTreeRegressor(random_state=666)</pre></div></div></div></div></div></div></div></div></div></div>"
            ]
          },
          "metadata": {},
          "execution_count": 57
        }
      ],
      "source": [
        "parameters={\"max_depth\" : [None] + [i for i in range(2, 11)],\n",
        "           \"min_samples_leaf\":[None] + [i for i in range(2, 11)]}\n",
        "\n",
        "regr = DecisionTreeRegressor(random_state=666)\n",
        "\n",
        "tuning_model_dtr = GridSearchCV(\n",
        "    regr,\n",
        "    param_grid=parameters,\n",
        "    scoring='neg_mean_squared_error',\n",
        "    cv=3,\n",
        "    verbose=1\n",
        ")\n",
        "tuning_model_dtr.fit(X_train, y_train)"
      ]
    },
    {
      "cell_type": "code",
      "execution_count": 58,
      "metadata": {
        "id": "CynlgCXoa-8R",
        "outputId": "eea915db-8add-44a7-b25a-abe3f3eceb27",
        "colab": {
          "base_uri": "https://localhost:8080/"
        }
      },
      "outputs": [
        {
          "output_type": "execute_result",
          "data": {
            "text/plain": [
              "{'max_depth': None, 'min_samples_leaf': 9}"
            ]
          },
          "metadata": {},
          "execution_count": 58
        }
      ],
      "source": [
        "tuning_model_dtr.best_params_"
      ]
    },
    {
      "cell_type": "code",
      "execution_count": 59,
      "metadata": {
        "id": "I0rwfw76a-8R",
        "outputId": "e3902dd3-1876-457d-b038-8a8da849181e",
        "colab": {
          "base_uri": "https://localhost:8080/",
          "height": 109
        }
      },
      "outputs": [
        {
          "output_type": "stream",
          "name": "stdout",
          "text": [
            "CPU times: user 577 ms, sys: 1.96 ms, total: 579 ms\n",
            "Wall time: 579 ms\n"
          ]
        },
        {
          "output_type": "execute_result",
          "data": {
            "text/plain": [
              "DecisionTreeRegressor(min_samples_leaf=9, random_state=666)"
            ],
            "text/html": [
              "<style>#sk-container-id-6 {color: black;background-color: white;}#sk-container-id-6 pre{padding: 0;}#sk-container-id-6 div.sk-toggleable {background-color: white;}#sk-container-id-6 label.sk-toggleable__label {cursor: pointer;display: block;width: 100%;margin-bottom: 0;padding: 0.3em;box-sizing: border-box;text-align: center;}#sk-container-id-6 label.sk-toggleable__label-arrow:before {content: \"▸\";float: left;margin-right: 0.25em;color: #696969;}#sk-container-id-6 label.sk-toggleable__label-arrow:hover:before {color: black;}#sk-container-id-6 div.sk-estimator:hover label.sk-toggleable__label-arrow:before {color: black;}#sk-container-id-6 div.sk-toggleable__content {max-height: 0;max-width: 0;overflow: hidden;text-align: left;background-color: #f0f8ff;}#sk-container-id-6 div.sk-toggleable__content pre {margin: 0.2em;color: black;border-radius: 0.25em;background-color: #f0f8ff;}#sk-container-id-6 input.sk-toggleable__control:checked~div.sk-toggleable__content {max-height: 200px;max-width: 100%;overflow: auto;}#sk-container-id-6 input.sk-toggleable__control:checked~label.sk-toggleable__label-arrow:before {content: \"▾\";}#sk-container-id-6 div.sk-estimator input.sk-toggleable__control:checked~label.sk-toggleable__label {background-color: #d4ebff;}#sk-container-id-6 div.sk-label input.sk-toggleable__control:checked~label.sk-toggleable__label {background-color: #d4ebff;}#sk-container-id-6 input.sk-hidden--visually {border: 0;clip: rect(1px 1px 1px 1px);clip: rect(1px, 1px, 1px, 1px);height: 1px;margin: -1px;overflow: hidden;padding: 0;position: absolute;width: 1px;}#sk-container-id-6 div.sk-estimator {font-family: monospace;background-color: #f0f8ff;border: 1px dotted black;border-radius: 0.25em;box-sizing: border-box;margin-bottom: 0.5em;}#sk-container-id-6 div.sk-estimator:hover {background-color: #d4ebff;}#sk-container-id-6 div.sk-parallel-item::after {content: \"\";width: 100%;border-bottom: 1px solid gray;flex-grow: 1;}#sk-container-id-6 div.sk-label:hover label.sk-toggleable__label {background-color: #d4ebff;}#sk-container-id-6 div.sk-serial::before {content: \"\";position: absolute;border-left: 1px solid gray;box-sizing: border-box;top: 0;bottom: 0;left: 50%;z-index: 0;}#sk-container-id-6 div.sk-serial {display: flex;flex-direction: column;align-items: center;background-color: white;padding-right: 0.2em;padding-left: 0.2em;position: relative;}#sk-container-id-6 div.sk-item {position: relative;z-index: 1;}#sk-container-id-6 div.sk-parallel {display: flex;align-items: stretch;justify-content: center;background-color: white;position: relative;}#sk-container-id-6 div.sk-item::before, #sk-container-id-6 div.sk-parallel-item::before {content: \"\";position: absolute;border-left: 1px solid gray;box-sizing: border-box;top: 0;bottom: 0;left: 50%;z-index: -1;}#sk-container-id-6 div.sk-parallel-item {display: flex;flex-direction: column;z-index: 1;position: relative;background-color: white;}#sk-container-id-6 div.sk-parallel-item:first-child::after {align-self: flex-end;width: 50%;}#sk-container-id-6 div.sk-parallel-item:last-child::after {align-self: flex-start;width: 50%;}#sk-container-id-6 div.sk-parallel-item:only-child::after {width: 0;}#sk-container-id-6 div.sk-dashed-wrapped {border: 1px dashed gray;margin: 0 0.4em 0.5em 0.4em;box-sizing: border-box;padding-bottom: 0.4em;background-color: white;}#sk-container-id-6 div.sk-label label {font-family: monospace;font-weight: bold;display: inline-block;line-height: 1.2em;}#sk-container-id-6 div.sk-label-container {text-align: center;}#sk-container-id-6 div.sk-container {/* jupyter's `normalize.less` sets `[hidden] { display: none; }` but bootstrap.min.css set `[hidden] { display: none !important; }` so we also need the `!important` here to be able to override the default hidden behavior on the sphinx rendered scikit-learn.org. See: https://github.com/scikit-learn/scikit-learn/issues/21755 */display: inline-block !important;position: relative;}#sk-container-id-6 div.sk-text-repr-fallback {display: none;}</style><div id=\"sk-container-id-6\" class=\"sk-top-container\"><div class=\"sk-text-repr-fallback\"><pre>DecisionTreeRegressor(min_samples_leaf=9, random_state=666)</pre><b>In a Jupyter environment, please rerun this cell to show the HTML representation or trust the notebook. <br />On GitHub, the HTML representation is unable to render, please try loading this page with nbviewer.org.</b></div><div class=\"sk-container\" hidden><div class=\"sk-item\"><div class=\"sk-estimator sk-toggleable\"><input class=\"sk-toggleable__control sk-hidden--visually\" id=\"sk-estimator-id-10\" type=\"checkbox\" checked><label for=\"sk-estimator-id-10\" class=\"sk-toggleable__label sk-toggleable__label-arrow\">DecisionTreeRegressor</label><div class=\"sk-toggleable__content\"><pre>DecisionTreeRegressor(min_samples_leaf=9, random_state=666)</pre></div></div></div></div></div>"
            ]
          },
          "metadata": {},
          "execution_count": 59
        }
      ],
      "source": [
        "%%time\n",
        "model = DecisionTreeRegressor(random_state=666,\n",
        "                              max_depth=None,\n",
        "                              min_samples_leaf=9)\n",
        "model.fit(X_train, y_train)"
      ]
    },
    {
      "cell_type": "code",
      "execution_count": 60,
      "metadata": {
        "id": "bvvLTIAla-8R",
        "outputId": "5e54fdf5-e8fb-420a-f562-6aba019ce82a",
        "colab": {
          "base_uri": "https://localhost:8080/"
        }
      },
      "outputs": [
        {
          "output_type": "stream",
          "name": "stdout",
          "text": [
            "RMSE = 1743.0740795587458\n",
            "CPU times: user 25.2 ms, sys: 0 ns, total: 25.2 ms\n",
            "Wall time: 30.3 ms\n"
          ]
        }
      ],
      "source": [
        "%%time\n",
        "y_pred_dtr = tuning_model_dtr.predict(X_val)\n",
        "print(f'RMSE = {sqrt(mean_squared_error(y_val, y_pred_dtr))}')"
      ]
    },
    {
      "cell_type": "markdown",
      "metadata": {
        "id": "D7Ua6Apoa-8S"
      },
      "source": [
        "### Catboost"
      ]
    },
    {
      "cell_type": "code",
      "execution_count": 61,
      "metadata": {
        "id": "fMBdLW59a-8S",
        "outputId": "e3a2e1bd-a396-45bf-98e2-0e3489c2a66b",
        "colab": {
          "base_uri": "https://localhost:8080/",
          "height": 326
        }
      },
      "outputs": [
        {
          "output_type": "stream",
          "name": "stdout",
          "text": [
            "Fitting 3 folds for each of 4 candidates, totalling 12 fits\n",
            "0:\tlearn: 4495.4527152\ttotal: 85.3ms\tremaining: 1m 25s\n",
            "100:\tlearn: 1955.8431170\ttotal: 3.16s\tremaining: 28.1s\n",
            "200:\tlearn: 1781.9113265\ttotal: 6.06s\tremaining: 24.1s\n",
            "300:\tlearn: 1719.0100520\ttotal: 10.8s\tremaining: 25s\n",
            "400:\tlearn: 1675.2156864\ttotal: 13.7s\tremaining: 20.4s\n",
            "500:\tlearn: 1643.9184315\ttotal: 16.6s\tremaining: 16.6s\n",
            "600:\tlearn: 1618.6595658\ttotal: 19.6s\tremaining: 13s\n",
            "700:\tlearn: 1598.6384273\ttotal: 24.3s\tremaining: 10.4s\n",
            "800:\tlearn: 1581.4380890\ttotal: 27.2s\tremaining: 6.76s\n",
            "900:\tlearn: 1566.6694465\ttotal: 30.2s\tremaining: 3.31s\n",
            "999:\tlearn: 1552.7200393\ttotal: 33.1s\tremaining: 0us\n"
          ]
        },
        {
          "output_type": "execute_result",
          "data": {
            "text/plain": [
              "GridSearchCV(cv=3,\n",
              "             estimator=<catboost.core.CatBoostRegressor object at 0x7fa209eeab60>,\n",
              "             n_jobs=-1,\n",
              "             param_grid={'depth': [6, 8], 'l2_leaf_reg': [1, 3],\n",
              "                         'metric_period': [100]},\n",
              "             scoring='r2', verbose=10)"
            ],
            "text/html": [
              "<style>#sk-container-id-7 {color: black;background-color: white;}#sk-container-id-7 pre{padding: 0;}#sk-container-id-7 div.sk-toggleable {background-color: white;}#sk-container-id-7 label.sk-toggleable__label {cursor: pointer;display: block;width: 100%;margin-bottom: 0;padding: 0.3em;box-sizing: border-box;text-align: center;}#sk-container-id-7 label.sk-toggleable__label-arrow:before {content: \"▸\";float: left;margin-right: 0.25em;color: #696969;}#sk-container-id-7 label.sk-toggleable__label-arrow:hover:before {color: black;}#sk-container-id-7 div.sk-estimator:hover label.sk-toggleable__label-arrow:before {color: black;}#sk-container-id-7 div.sk-toggleable__content {max-height: 0;max-width: 0;overflow: hidden;text-align: left;background-color: #f0f8ff;}#sk-container-id-7 div.sk-toggleable__content pre {margin: 0.2em;color: black;border-radius: 0.25em;background-color: #f0f8ff;}#sk-container-id-7 input.sk-toggleable__control:checked~div.sk-toggleable__content {max-height: 200px;max-width: 100%;overflow: auto;}#sk-container-id-7 input.sk-toggleable__control:checked~label.sk-toggleable__label-arrow:before {content: \"▾\";}#sk-container-id-7 div.sk-estimator input.sk-toggleable__control:checked~label.sk-toggleable__label {background-color: #d4ebff;}#sk-container-id-7 div.sk-label input.sk-toggleable__control:checked~label.sk-toggleable__label {background-color: #d4ebff;}#sk-container-id-7 input.sk-hidden--visually {border: 0;clip: rect(1px 1px 1px 1px);clip: rect(1px, 1px, 1px, 1px);height: 1px;margin: -1px;overflow: hidden;padding: 0;position: absolute;width: 1px;}#sk-container-id-7 div.sk-estimator {font-family: monospace;background-color: #f0f8ff;border: 1px dotted black;border-radius: 0.25em;box-sizing: border-box;margin-bottom: 0.5em;}#sk-container-id-7 div.sk-estimator:hover {background-color: #d4ebff;}#sk-container-id-7 div.sk-parallel-item::after {content: \"\";width: 100%;border-bottom: 1px solid gray;flex-grow: 1;}#sk-container-id-7 div.sk-label:hover label.sk-toggleable__label {background-color: #d4ebff;}#sk-container-id-7 div.sk-serial::before {content: \"\";position: absolute;border-left: 1px solid gray;box-sizing: border-box;top: 0;bottom: 0;left: 50%;z-index: 0;}#sk-container-id-7 div.sk-serial {display: flex;flex-direction: column;align-items: center;background-color: white;padding-right: 0.2em;padding-left: 0.2em;position: relative;}#sk-container-id-7 div.sk-item {position: relative;z-index: 1;}#sk-container-id-7 div.sk-parallel {display: flex;align-items: stretch;justify-content: center;background-color: white;position: relative;}#sk-container-id-7 div.sk-item::before, #sk-container-id-7 div.sk-parallel-item::before {content: \"\";position: absolute;border-left: 1px solid gray;box-sizing: border-box;top: 0;bottom: 0;left: 50%;z-index: -1;}#sk-container-id-7 div.sk-parallel-item {display: flex;flex-direction: column;z-index: 1;position: relative;background-color: white;}#sk-container-id-7 div.sk-parallel-item:first-child::after {align-self: flex-end;width: 50%;}#sk-container-id-7 div.sk-parallel-item:last-child::after {align-self: flex-start;width: 50%;}#sk-container-id-7 div.sk-parallel-item:only-child::after {width: 0;}#sk-container-id-7 div.sk-dashed-wrapped {border: 1px dashed gray;margin: 0 0.4em 0.5em 0.4em;box-sizing: border-box;padding-bottom: 0.4em;background-color: white;}#sk-container-id-7 div.sk-label label {font-family: monospace;font-weight: bold;display: inline-block;line-height: 1.2em;}#sk-container-id-7 div.sk-label-container {text-align: center;}#sk-container-id-7 div.sk-container {/* jupyter's `normalize.less` sets `[hidden] { display: none; }` but bootstrap.min.css set `[hidden] { display: none !important; }` so we also need the `!important` here to be able to override the default hidden behavior on the sphinx rendered scikit-learn.org. See: https://github.com/scikit-learn/scikit-learn/issues/21755 */display: inline-block !important;position: relative;}#sk-container-id-7 div.sk-text-repr-fallback {display: none;}</style><div id=\"sk-container-id-7\" class=\"sk-top-container\"><div class=\"sk-text-repr-fallback\"><pre>GridSearchCV(cv=3,\n",
              "             estimator=&lt;catboost.core.CatBoostRegressor object at 0x7fa209eeab60&gt;,\n",
              "             n_jobs=-1,\n",
              "             param_grid={&#x27;depth&#x27;: [6, 8], &#x27;l2_leaf_reg&#x27;: [1, 3],\n",
              "                         &#x27;metric_period&#x27;: [100]},\n",
              "             scoring=&#x27;r2&#x27;, verbose=10)</pre><b>In a Jupyter environment, please rerun this cell to show the HTML representation or trust the notebook. <br />On GitHub, the HTML representation is unable to render, please try loading this page with nbviewer.org.</b></div><div class=\"sk-container\" hidden><div class=\"sk-item sk-dashed-wrapped\"><div class=\"sk-label-container\"><div class=\"sk-label sk-toggleable\"><input class=\"sk-toggleable__control sk-hidden--visually\" id=\"sk-estimator-id-11\" type=\"checkbox\" ><label for=\"sk-estimator-id-11\" class=\"sk-toggleable__label sk-toggleable__label-arrow\">GridSearchCV</label><div class=\"sk-toggleable__content\"><pre>GridSearchCV(cv=3,\n",
              "             estimator=&lt;catboost.core.CatBoostRegressor object at 0x7fa209eeab60&gt;,\n",
              "             n_jobs=-1,\n",
              "             param_grid={&#x27;depth&#x27;: [6, 8], &#x27;l2_leaf_reg&#x27;: [1, 3],\n",
              "                         &#x27;metric_period&#x27;: [100]},\n",
              "             scoring=&#x27;r2&#x27;, verbose=10)</pre></div></div></div><div class=\"sk-parallel\"><div class=\"sk-parallel-item\"><div class=\"sk-item\"><div class=\"sk-label-container\"><div class=\"sk-label sk-toggleable\"><input class=\"sk-toggleable__control sk-hidden--visually\" id=\"sk-estimator-id-12\" type=\"checkbox\" ><label for=\"sk-estimator-id-12\" class=\"sk-toggleable__label sk-toggleable__label-arrow\">estimator: CatBoostRegressor</label><div class=\"sk-toggleable__content\"><pre>&lt;catboost.core.CatBoostRegressor object at 0x7fa209eeab60&gt;</pre></div></div></div><div class=\"sk-serial\"><div class=\"sk-item\"><div class=\"sk-estimator sk-toggleable\"><input class=\"sk-toggleable__control sk-hidden--visually\" id=\"sk-estimator-id-13\" type=\"checkbox\" ><label for=\"sk-estimator-id-13\" class=\"sk-toggleable__label sk-toggleable__label-arrow\">CatBoostRegressor</label><div class=\"sk-toggleable__content\"><pre>&lt;catboost.core.CatBoostRegressor object at 0x7fa209eeab60&gt;</pre></div></div></div></div></div></div></div></div></div></div>"
            ]
          },
          "metadata": {},
          "execution_count": 61
        }
      ],
      "source": [
        "parameters =  {'depth': [6, 8],\n",
        "               'l2_leaf_reg': [1, 3],\n",
        "               'metric_period': [100]}\n",
        "\n",
        "cbr = CatBoostRegressor(random_state=666, iterations=1000)\n",
        "tuning_model_cbr = GridSearchCV(\n",
        "    cbr,\n",
        "    param_grid=parameters,\n",
        "    cv=3,\n",
        "    verbose=10,\n",
        "    n_jobs=-1,\n",
        "    scoring='r2',\n",
        ")\n",
        "tuning_model_cbr.fit(X_train, y_train)"
      ]
    },
    {
      "cell_type": "code",
      "execution_count": 62,
      "metadata": {
        "id": "ai4ePFUga-8S",
        "outputId": "1aab665b-c65b-41a6-d4a1-d3c5b800b4bb",
        "colab": {
          "base_uri": "https://localhost:8080/"
        }
      },
      "outputs": [
        {
          "output_type": "execute_result",
          "data": {
            "text/plain": [
              "{'depth': 8, 'l2_leaf_reg': 1, 'metric_period': 100}"
            ]
          },
          "metadata": {},
          "execution_count": 62
        }
      ],
      "source": [
        "tuning_model_cbr.best_params_"
      ]
    },
    {
      "cell_type": "code",
      "execution_count": 63,
      "metadata": {
        "id": "eCMqa0XUa-8T",
        "outputId": "fc022ec4-0c99-4758-dbf1-0fcc4aba0a28",
        "colab": {
          "base_uri": "https://localhost:8080/"
        }
      },
      "outputs": [
        {
          "output_type": "stream",
          "name": "stdout",
          "text": [
            "0:\tlearn: 4495.4527152\ttotal: 35.9ms\tremaining: 35.9s\n",
            "100:\tlearn: 1955.8431170\ttotal: 4.89s\tremaining: 43.5s\n",
            "200:\tlearn: 1781.9113265\ttotal: 7.7s\tremaining: 30.6s\n",
            "300:\tlearn: 1719.0100520\ttotal: 10.5s\tremaining: 24.4s\n",
            "400:\tlearn: 1675.2156864\ttotal: 13.3s\tremaining: 19.9s\n",
            "500:\tlearn: 1643.9184315\ttotal: 17.9s\tremaining: 17.9s\n",
            "600:\tlearn: 1618.6595658\ttotal: 20.8s\tremaining: 13.8s\n",
            "700:\tlearn: 1598.6384273\ttotal: 23.6s\tremaining: 10.1s\n",
            "800:\tlearn: 1581.4380890\ttotal: 26.5s\tremaining: 6.58s\n",
            "900:\tlearn: 1566.6694465\ttotal: 31.1s\tremaining: 3.42s\n",
            "999:\tlearn: 1552.7200393\ttotal: 34s\tremaining: 0us\n",
            "CPU times: user 55.1 s, sys: 1.65 s, total: 56.8 s\n",
            "Wall time: 34.2 s\n"
          ]
        },
        {
          "output_type": "execute_result",
          "data": {
            "text/plain": [
              "<catboost.core.CatBoostRegressor at 0x7fa20ba339d0>"
            ]
          },
          "metadata": {},
          "execution_count": 63
        }
      ],
      "source": [
        "%%time\n",
        "model = CatBoostRegressor(random_state=666,\n",
        "                          depth=8,\n",
        "                          iterations=1000,\n",
        "                          l2_leaf_reg=1,\n",
        "                          metric_period=100)\n",
        "model.fit(X_train, y_train)"
      ]
    },
    {
      "cell_type": "code",
      "execution_count": 64,
      "metadata": {
        "id": "nzIzzH0za-8T",
        "outputId": "5b59eb1f-0983-4481-9100-26986a30412c",
        "colab": {
          "base_uri": "https://localhost:8080/"
        }
      },
      "outputs": [
        {
          "output_type": "stream",
          "name": "stdout",
          "text": [
            "RMSE = 1603.2477445637883\n",
            "CPU times: user 155 ms, sys: 2.71 ms, total: 158 ms\n",
            "Wall time: 87.2 ms\n"
          ]
        }
      ],
      "source": [
        "%%time\n",
        "y_pred_cbr = tuning_model_cbr.predict(X_val)\n",
        "print(f'RMSE = {sqrt(mean_squared_error(y_val, y_pred_cbr))}')"
      ]
    },
    {
      "cell_type": "markdown",
      "metadata": {
        "id": "Y3r661eOa-8T"
      },
      "source": [
        "### LGBMRegressor"
      ]
    },
    {
      "cell_type": "code",
      "execution_count": 67,
      "metadata": {
        "id": "DTP3YCkMa-8T",
        "outputId": "15eeedc5-12e3-4ab1-e27a-a912ffb4ae9c",
        "colab": {
          "base_uri": "https://localhost:8080/",
          "height": 152
        }
      },
      "outputs": [
        {
          "output_type": "stream",
          "name": "stdout",
          "text": [
            "Fitting 3 folds for each of 30 candidates, totalling 90 fits\n",
            "[LightGBM] [Warning] Unknown parameter: metric_period\n"
          ]
        },
        {
          "output_type": "execute_result",
          "data": {
            "text/plain": [
              "GridSearchCV(cv=3, estimator=LGBMRegressor(random_state=666), n_jobs=-1,\n",
              "             param_grid={'max_depth': [None, 2, 3, 4, 5, 6, 7, 8, 9, 10],\n",
              "                         'metric_period': [100],\n",
              "                         'n_estimators': [25, 50, 100]},\n",
              "             scoring='r2', verbose=2)"
            ],
            "text/html": [
              "<style>#sk-container-id-8 {color: black;background-color: white;}#sk-container-id-8 pre{padding: 0;}#sk-container-id-8 div.sk-toggleable {background-color: white;}#sk-container-id-8 label.sk-toggleable__label {cursor: pointer;display: block;width: 100%;margin-bottom: 0;padding: 0.3em;box-sizing: border-box;text-align: center;}#sk-container-id-8 label.sk-toggleable__label-arrow:before {content: \"▸\";float: left;margin-right: 0.25em;color: #696969;}#sk-container-id-8 label.sk-toggleable__label-arrow:hover:before {color: black;}#sk-container-id-8 div.sk-estimator:hover label.sk-toggleable__label-arrow:before {color: black;}#sk-container-id-8 div.sk-toggleable__content {max-height: 0;max-width: 0;overflow: hidden;text-align: left;background-color: #f0f8ff;}#sk-container-id-8 div.sk-toggleable__content pre {margin: 0.2em;color: black;border-radius: 0.25em;background-color: #f0f8ff;}#sk-container-id-8 input.sk-toggleable__control:checked~div.sk-toggleable__content {max-height: 200px;max-width: 100%;overflow: auto;}#sk-container-id-8 input.sk-toggleable__control:checked~label.sk-toggleable__label-arrow:before {content: \"▾\";}#sk-container-id-8 div.sk-estimator input.sk-toggleable__control:checked~label.sk-toggleable__label {background-color: #d4ebff;}#sk-container-id-8 div.sk-label input.sk-toggleable__control:checked~label.sk-toggleable__label {background-color: #d4ebff;}#sk-container-id-8 input.sk-hidden--visually {border: 0;clip: rect(1px 1px 1px 1px);clip: rect(1px, 1px, 1px, 1px);height: 1px;margin: -1px;overflow: hidden;padding: 0;position: absolute;width: 1px;}#sk-container-id-8 div.sk-estimator {font-family: monospace;background-color: #f0f8ff;border: 1px dotted black;border-radius: 0.25em;box-sizing: border-box;margin-bottom: 0.5em;}#sk-container-id-8 div.sk-estimator:hover {background-color: #d4ebff;}#sk-container-id-8 div.sk-parallel-item::after {content: \"\";width: 100%;border-bottom: 1px solid gray;flex-grow: 1;}#sk-container-id-8 div.sk-label:hover label.sk-toggleable__label {background-color: #d4ebff;}#sk-container-id-8 div.sk-serial::before {content: \"\";position: absolute;border-left: 1px solid gray;box-sizing: border-box;top: 0;bottom: 0;left: 50%;z-index: 0;}#sk-container-id-8 div.sk-serial {display: flex;flex-direction: column;align-items: center;background-color: white;padding-right: 0.2em;padding-left: 0.2em;position: relative;}#sk-container-id-8 div.sk-item {position: relative;z-index: 1;}#sk-container-id-8 div.sk-parallel {display: flex;align-items: stretch;justify-content: center;background-color: white;position: relative;}#sk-container-id-8 div.sk-item::before, #sk-container-id-8 div.sk-parallel-item::before {content: \"\";position: absolute;border-left: 1px solid gray;box-sizing: border-box;top: 0;bottom: 0;left: 50%;z-index: -1;}#sk-container-id-8 div.sk-parallel-item {display: flex;flex-direction: column;z-index: 1;position: relative;background-color: white;}#sk-container-id-8 div.sk-parallel-item:first-child::after {align-self: flex-end;width: 50%;}#sk-container-id-8 div.sk-parallel-item:last-child::after {align-self: flex-start;width: 50%;}#sk-container-id-8 div.sk-parallel-item:only-child::after {width: 0;}#sk-container-id-8 div.sk-dashed-wrapped {border: 1px dashed gray;margin: 0 0.4em 0.5em 0.4em;box-sizing: border-box;padding-bottom: 0.4em;background-color: white;}#sk-container-id-8 div.sk-label label {font-family: monospace;font-weight: bold;display: inline-block;line-height: 1.2em;}#sk-container-id-8 div.sk-label-container {text-align: center;}#sk-container-id-8 div.sk-container {/* jupyter's `normalize.less` sets `[hidden] { display: none; }` but bootstrap.min.css set `[hidden] { display: none !important; }` so we also need the `!important` here to be able to override the default hidden behavior on the sphinx rendered scikit-learn.org. See: https://github.com/scikit-learn/scikit-learn/issues/21755 */display: inline-block !important;position: relative;}#sk-container-id-8 div.sk-text-repr-fallback {display: none;}</style><div id=\"sk-container-id-8\" class=\"sk-top-container\"><div class=\"sk-text-repr-fallback\"><pre>GridSearchCV(cv=3, estimator=LGBMRegressor(random_state=666), n_jobs=-1,\n",
              "             param_grid={&#x27;max_depth&#x27;: [None, 2, 3, 4, 5, 6, 7, 8, 9, 10],\n",
              "                         &#x27;metric_period&#x27;: [100],\n",
              "                         &#x27;n_estimators&#x27;: [25, 50, 100]},\n",
              "             scoring=&#x27;r2&#x27;, verbose=2)</pre><b>In a Jupyter environment, please rerun this cell to show the HTML representation or trust the notebook. <br />On GitHub, the HTML representation is unable to render, please try loading this page with nbviewer.org.</b></div><div class=\"sk-container\" hidden><div class=\"sk-item sk-dashed-wrapped\"><div class=\"sk-label-container\"><div class=\"sk-label sk-toggleable\"><input class=\"sk-toggleable__control sk-hidden--visually\" id=\"sk-estimator-id-14\" type=\"checkbox\" ><label for=\"sk-estimator-id-14\" class=\"sk-toggleable__label sk-toggleable__label-arrow\">GridSearchCV</label><div class=\"sk-toggleable__content\"><pre>GridSearchCV(cv=3, estimator=LGBMRegressor(random_state=666), n_jobs=-1,\n",
              "             param_grid={&#x27;max_depth&#x27;: [None, 2, 3, 4, 5, 6, 7, 8, 9, 10],\n",
              "                         &#x27;metric_period&#x27;: [100],\n",
              "                         &#x27;n_estimators&#x27;: [25, 50, 100]},\n",
              "             scoring=&#x27;r2&#x27;, verbose=2)</pre></div></div></div><div class=\"sk-parallel\"><div class=\"sk-parallel-item\"><div class=\"sk-item\"><div class=\"sk-label-container\"><div class=\"sk-label sk-toggleable\"><input class=\"sk-toggleable__control sk-hidden--visually\" id=\"sk-estimator-id-15\" type=\"checkbox\" ><label for=\"sk-estimator-id-15\" class=\"sk-toggleable__label sk-toggleable__label-arrow\">estimator: LGBMRegressor</label><div class=\"sk-toggleable__content\"><pre>LGBMRegressor(random_state=666)</pre></div></div></div><div class=\"sk-serial\"><div class=\"sk-item\"><div class=\"sk-estimator sk-toggleable\"><input class=\"sk-toggleable__control sk-hidden--visually\" id=\"sk-estimator-id-16\" type=\"checkbox\" ><label for=\"sk-estimator-id-16\" class=\"sk-toggleable__label sk-toggleable__label-arrow\">LGBMRegressor</label><div class=\"sk-toggleable__content\"><pre>LGBMRegressor(random_state=666)</pre></div></div></div></div></div></div></div></div></div></div>"
            ]
          },
          "metadata": {},
          "execution_count": 67
        }
      ],
      "source": [
        "params = {\n",
        "    'max_depth': [None] + [i for i in range(2, 11)],\n",
        "    'n_estimators': [25,50,100],\n",
        "    'metric_period': [100]\n",
        "}\n",
        "\n",
        "lgbmr = LGBMRegressor(random_state=666, learning_rate=.1)\n",
        "\n",
        "tuning_model_lgbmr = GridSearchCV(\n",
        "    lgbmr,\n",
        "    param_grid=params,\n",
        "    cv=3,\n",
        "    verbose=2,\n",
        "    n_jobs=-1,\n",
        "    scoring='r2'\n",
        ")\n",
        "\n",
        "tuning_model_lgbmr.fit(X_train, y_train)"
      ]
    },
    {
      "cell_type": "code",
      "execution_count": 68,
      "metadata": {
        "id": "76WSqIHEa-8U",
        "outputId": "38dc7f66-fc42-465e-e5bb-d2cbda01e9a6",
        "colab": {
          "base_uri": "https://localhost:8080/"
        }
      },
      "outputs": [
        {
          "output_type": "execute_result",
          "data": {
            "text/plain": [
              "{'max_depth': None, 'metric_period': 100, 'n_estimators': 100}"
            ]
          },
          "metadata": {},
          "execution_count": 68
        }
      ],
      "source": [
        "tuning_model_lgbmr.best_params_"
      ]
    },
    {
      "cell_type": "code",
      "execution_count": 69,
      "metadata": {
        "id": "xcdNddFva-8U",
        "outputId": "2a9410b2-548e-4763-bae2-5f5c937b413c",
        "colab": {
          "base_uri": "https://localhost:8080/",
          "height": 109
        }
      },
      "outputs": [
        {
          "output_type": "stream",
          "name": "stdout",
          "text": [
            "CPU times: user 4.61 s, sys: 26.8 ms, total: 4.64 s\n",
            "Wall time: 3.6 s\n"
          ]
        },
        {
          "output_type": "execute_result",
          "data": {
            "text/plain": [
              "LGBMRegressor(max_depth=None, metric_period=100, random_state=666)"
            ],
            "text/html": [
              "<style>#sk-container-id-9 {color: black;background-color: white;}#sk-container-id-9 pre{padding: 0;}#sk-container-id-9 div.sk-toggleable {background-color: white;}#sk-container-id-9 label.sk-toggleable__label {cursor: pointer;display: block;width: 100%;margin-bottom: 0;padding: 0.3em;box-sizing: border-box;text-align: center;}#sk-container-id-9 label.sk-toggleable__label-arrow:before {content: \"▸\";float: left;margin-right: 0.25em;color: #696969;}#sk-container-id-9 label.sk-toggleable__label-arrow:hover:before {color: black;}#sk-container-id-9 div.sk-estimator:hover label.sk-toggleable__label-arrow:before {color: black;}#sk-container-id-9 div.sk-toggleable__content {max-height: 0;max-width: 0;overflow: hidden;text-align: left;background-color: #f0f8ff;}#sk-container-id-9 div.sk-toggleable__content pre {margin: 0.2em;color: black;border-radius: 0.25em;background-color: #f0f8ff;}#sk-container-id-9 input.sk-toggleable__control:checked~div.sk-toggleable__content {max-height: 200px;max-width: 100%;overflow: auto;}#sk-container-id-9 input.sk-toggleable__control:checked~label.sk-toggleable__label-arrow:before {content: \"▾\";}#sk-container-id-9 div.sk-estimator input.sk-toggleable__control:checked~label.sk-toggleable__label {background-color: #d4ebff;}#sk-container-id-9 div.sk-label input.sk-toggleable__control:checked~label.sk-toggleable__label {background-color: #d4ebff;}#sk-container-id-9 input.sk-hidden--visually {border: 0;clip: rect(1px 1px 1px 1px);clip: rect(1px, 1px, 1px, 1px);height: 1px;margin: -1px;overflow: hidden;padding: 0;position: absolute;width: 1px;}#sk-container-id-9 div.sk-estimator {font-family: monospace;background-color: #f0f8ff;border: 1px dotted black;border-radius: 0.25em;box-sizing: border-box;margin-bottom: 0.5em;}#sk-container-id-9 div.sk-estimator:hover {background-color: #d4ebff;}#sk-container-id-9 div.sk-parallel-item::after {content: \"\";width: 100%;border-bottom: 1px solid gray;flex-grow: 1;}#sk-container-id-9 div.sk-label:hover label.sk-toggleable__label {background-color: #d4ebff;}#sk-container-id-9 div.sk-serial::before {content: \"\";position: absolute;border-left: 1px solid gray;box-sizing: border-box;top: 0;bottom: 0;left: 50%;z-index: 0;}#sk-container-id-9 div.sk-serial {display: flex;flex-direction: column;align-items: center;background-color: white;padding-right: 0.2em;padding-left: 0.2em;position: relative;}#sk-container-id-9 div.sk-item {position: relative;z-index: 1;}#sk-container-id-9 div.sk-parallel {display: flex;align-items: stretch;justify-content: center;background-color: white;position: relative;}#sk-container-id-9 div.sk-item::before, #sk-container-id-9 div.sk-parallel-item::before {content: \"\";position: absolute;border-left: 1px solid gray;box-sizing: border-box;top: 0;bottom: 0;left: 50%;z-index: -1;}#sk-container-id-9 div.sk-parallel-item {display: flex;flex-direction: column;z-index: 1;position: relative;background-color: white;}#sk-container-id-9 div.sk-parallel-item:first-child::after {align-self: flex-end;width: 50%;}#sk-container-id-9 div.sk-parallel-item:last-child::after {align-self: flex-start;width: 50%;}#sk-container-id-9 div.sk-parallel-item:only-child::after {width: 0;}#sk-container-id-9 div.sk-dashed-wrapped {border: 1px dashed gray;margin: 0 0.4em 0.5em 0.4em;box-sizing: border-box;padding-bottom: 0.4em;background-color: white;}#sk-container-id-9 div.sk-label label {font-family: monospace;font-weight: bold;display: inline-block;line-height: 1.2em;}#sk-container-id-9 div.sk-label-container {text-align: center;}#sk-container-id-9 div.sk-container {/* jupyter's `normalize.less` sets `[hidden] { display: none; }` but bootstrap.min.css set `[hidden] { display: none !important; }` so we also need the `!important` here to be able to override the default hidden behavior on the sphinx rendered scikit-learn.org. See: https://github.com/scikit-learn/scikit-learn/issues/21755 */display: inline-block !important;position: relative;}#sk-container-id-9 div.sk-text-repr-fallback {display: none;}</style><div id=\"sk-container-id-9\" class=\"sk-top-container\"><div class=\"sk-text-repr-fallback\"><pre>LGBMRegressor(max_depth=None, metric_period=100, random_state=666)</pre><b>In a Jupyter environment, please rerun this cell to show the HTML representation or trust the notebook. <br />On GitHub, the HTML representation is unable to render, please try loading this page with nbviewer.org.</b></div><div class=\"sk-container\" hidden><div class=\"sk-item\"><div class=\"sk-estimator sk-toggleable\"><input class=\"sk-toggleable__control sk-hidden--visually\" id=\"sk-estimator-id-17\" type=\"checkbox\" checked><label for=\"sk-estimator-id-17\" class=\"sk-toggleable__label sk-toggleable__label-arrow\">LGBMRegressor</label><div class=\"sk-toggleable__content\"><pre>LGBMRegressor(max_depth=None, metric_period=100, random_state=666)</pre></div></div></div></div></div>"
            ]
          },
          "metadata": {},
          "execution_count": 69
        }
      ],
      "source": [
        "%%time\n",
        "lgbmr = LGBMRegressor(random_state=666, learning_rate=.1,\n",
        "                     max_depth=None, n_estimators=100,\n",
        "                      metric_period=100)\n",
        "lgbmr.fit(X_train, y_train)"
      ]
    },
    {
      "cell_type": "code",
      "execution_count": 70,
      "metadata": {
        "id": "O4VYvIhXa-8U",
        "outputId": "c4da35c3-4dee-434a-e0c0-dc23fea28953",
        "colab": {
          "base_uri": "https://localhost:8080/"
        }
      },
      "outputs": [
        {
          "output_type": "stream",
          "name": "stdout",
          "text": [
            "RMSE = 1666.0172860638136\n",
            "CPU times: user 612 ms, sys: 3.8 ms, total: 616 ms\n",
            "Wall time: 564 ms\n"
          ]
        }
      ],
      "source": [
        "%%time\n",
        "y_pred_lgbmr = lgbmr.predict(X_val)\n",
        "print(f'RMSE = {sqrt(mean_squared_error(y_val, y_pred_lgbmr))}')"
      ]
    },
    {
      "cell_type": "markdown",
      "metadata": {
        "id": "u3K3uHrza-8V"
      },
      "source": [
        "## Анализ моделей"
      ]
    },
    {
      "cell_type": "markdown",
      "metadata": {
        "id": "ANSqef2La-8V"
      },
      "source": [
        "**Лучшая модель по RMSE — Random Forest**"
      ]
    },
    {
      "cell_type": "code",
      "execution_count": 71,
      "metadata": {
        "id": "hhRODq-6a-8V",
        "outputId": "cf205904-e681-4e3a-ade3-377d4e2c2ed9",
        "colab": {
          "base_uri": "https://localhost:8080/"
        }
      },
      "outputs": [
        {
          "output_type": "stream",
          "name": "stdout",
          "text": [
            "RMSE = 1561.438779647583\n",
            "CPU times: user 5.48 s, sys: 9.02 ms, total: 5.49 s\n",
            "Wall time: 7.66 s\n"
          ]
        }
      ],
      "source": [
        "%%time\n",
        "y_pred_rfr = tuning_model_rfr.predict(X_test)\n",
        "print(f'RMSE = {sqrt(mean_squared_error(y_test, y_pred_rfr))}')"
      ]
    },
    {
      "cell_type": "markdown",
      "metadata": {
        "id": "JEJ4de52a-8V"
      },
      "source": [
        "На тестовой выборке RMSE такой же, как и на валидационной."
      ]
    },
    {
      "cell_type": "markdown",
      "metadata": {
        "id": "xi_8Db3Ua-8V"
      },
      "source": [
        "**В этом проекте я применил 4 модели машинного обучения:**"
      ]
    },
    {
      "cell_type": "markdown",
      "source": [
        "|\t                     | fit time|predict time|\tRMSE|\n",
        "|----------------------|------|-----|------|\n",
        "| RandomForestRegressor| 50.8 s|\t4.17 s|\t1544|\n",
        "| DecisionTreeRegressor|\t579 ms|\t30.3 ms|\t1743|\n",
        "| CatBoostRegressor|\t34.2 s|\t87.2 ms|\t1603|\n",
        "| LGBMRegressor|\t3.6 s|\t564 ms|\t1666|\n"
      ],
      "metadata": {
        "id": "1xRmm5GIPnp3"
      }
    },
    {
      "cell_type": "markdown",
      "metadata": {
        "id": "bddA5TNGa-8W"
      },
      "source": [
        "**Лучшие показатели RMSE у случайного леса и кэтбуста, но кэтбуст незначительно выигрывает в скорости обучения.**"
      ]
    }
  ],
  "metadata": {
    "ExecuteTimeLog": [
      {
        "duration": 427,
        "start_time": "2023-04-27T13:00:09.497Z"
      },
      {
        "duration": 1655,
        "start_time": "2023-04-27T13:00:22.200Z"
      },
      {
        "duration": 22,
        "start_time": "2023-04-27T13:00:53.255Z"
      },
      {
        "duration": 20177,
        "start_time": "2023-04-27T13:06:19.200Z"
      },
      {
        "duration": 94,
        "start_time": "2023-04-27T13:06:53.892Z"
      },
      {
        "duration": 2364,
        "start_time": "2023-04-27T13:07:02.973Z"
      },
      {
        "duration": 48325,
        "start_time": "2023-04-27T13:07:07.255Z"
      },
      {
        "duration": 175,
        "start_time": "2023-04-27T13:21:45.437Z"
      },
      {
        "duration": 806,
        "start_time": "2023-04-27T13:23:00.360Z"
      },
      {
        "duration": 366,
        "start_time": "2023-04-27T13:23:39.397Z"
      },
      {
        "duration": 11,
        "start_time": "2023-04-27T13:24:10.250Z"
      },
      {
        "duration": 2685,
        "start_time": "2023-04-27T13:24:22.794Z"
      },
      {
        "duration": 22,
        "start_time": "2023-04-27T13:24:35.942Z"
      },
      {
        "duration": 18,
        "start_time": "2023-04-27T13:25:10.791Z"
      },
      {
        "duration": 161,
        "start_time": "2023-04-27T13:25:57.968Z"
      },
      {
        "duration": 180,
        "start_time": "2023-04-27T13:26:13.543Z"
      },
      {
        "duration": 35,
        "start_time": "2023-04-27T13:27:31.249Z"
      },
      {
        "duration": 28,
        "start_time": "2023-04-27T13:27:59.852Z"
      },
      {
        "duration": 1648,
        "start_time": "2023-04-27T13:36:11.149Z"
      },
      {
        "duration": 5,
        "start_time": "2023-04-27T13:36:19.668Z"
      },
      {
        "duration": 4,
        "start_time": "2023-04-27T13:37:35.107Z"
      },
      {
        "duration": 19,
        "start_time": "2023-04-27T13:37:52.749Z"
      },
      {
        "duration": 7,
        "start_time": "2023-04-27T13:37:57.273Z"
      },
      {
        "duration": 14,
        "start_time": "2023-04-27T13:37:59.091Z"
      },
      {
        "duration": 29,
        "start_time": "2023-04-27T13:38:49.815Z"
      },
      {
        "duration": 39,
        "start_time": "2023-04-27T13:38:57.149Z"
      },
      {
        "duration": 2901,
        "start_time": "2023-04-27T13:40:32.859Z"
      },
      {
        "duration": 60,
        "start_time": "2023-04-27T13:40:51.211Z"
      },
      {
        "duration": 1491,
        "start_time": "2023-04-27T13:41:05.278Z"
      },
      {
        "duration": 498,
        "start_time": "2023-04-27T13:43:09.040Z"
      },
      {
        "duration": 141459,
        "start_time": "2023-04-27T13:43:17.915Z"
      },
      {
        "duration": 0,
        "start_time": "2023-04-27T13:45:39.376Z"
      },
      {
        "duration": 4399,
        "start_time": "2023-04-27T13:47:12.586Z"
      },
      {
        "duration": 10781,
        "start_time": "2023-04-27T13:47:48.948Z"
      },
      {
        "duration": 4,
        "start_time": "2023-04-27T13:48:02.189Z"
      },
      {
        "duration": 216345,
        "start_time": "2023-04-27T13:48:05.446Z"
      },
      {
        "duration": 245,
        "start_time": "2023-04-27T13:51:41.794Z"
      },
      {
        "duration": 73076,
        "start_time": "2023-04-27T13:51:48.789Z"
      },
      {
        "duration": 113,
        "start_time": "2023-04-27T13:55:05.472Z"
      },
      {
        "duration": 655,
        "start_time": "2023-04-27T14:06:19.849Z"
      },
      {
        "duration": 141,
        "start_time": "2023-04-27T14:06:25.563Z"
      },
      {
        "duration": 341,
        "start_time": "2023-04-27T14:13:46.967Z"
      },
      {
        "duration": 4,
        "start_time": "2023-04-27T14:13:54.284Z"
      },
      {
        "duration": 1327,
        "start_time": "2023-04-27T14:13:54.555Z"
      },
      {
        "duration": 22,
        "start_time": "2023-04-27T14:13:55.884Z"
      },
      {
        "duration": 187,
        "start_time": "2023-04-27T14:13:59.547Z"
      },
      {
        "duration": 109,
        "start_time": "2023-04-27T14:14:00.316Z"
      },
      {
        "duration": 592,
        "start_time": "2023-04-27T14:14:03.410Z"
      },
      {
        "duration": 156,
        "start_time": "2023-04-27T14:14:05.063Z"
      },
      {
        "duration": 5,
        "start_time": "2023-04-27T14:15:57.302Z"
      },
      {
        "duration": 15,
        "start_time": "2023-04-27T14:16:04.147Z"
      },
      {
        "duration": 41,
        "start_time": "2023-04-27T14:16:41.710Z"
      },
      {
        "duration": 33,
        "start_time": "2023-04-27T14:17:25.016Z"
      },
      {
        "duration": 21,
        "start_time": "2023-04-27T14:17:30.751Z"
      },
      {
        "duration": 23,
        "start_time": "2023-04-27T14:17:43.611Z"
      },
      {
        "duration": 41,
        "start_time": "2023-04-27T14:23:38.215Z"
      },
      {
        "duration": 16,
        "start_time": "2023-04-27T14:23:42.960Z"
      },
      {
        "duration": 82,
        "start_time": "2023-04-27T14:23:47.948Z"
      },
      {
        "duration": 7,
        "start_time": "2023-04-27T14:23:58.169Z"
      },
      {
        "duration": 8,
        "start_time": "2023-04-27T14:24:01.675Z"
      },
      {
        "duration": 131,
        "start_time": "2023-04-27T14:24:28.364Z"
      },
      {
        "duration": 4,
        "start_time": "2023-04-27T14:24:37.852Z"
      },
      {
        "duration": 8,
        "start_time": "2023-04-27T14:25:11.444Z"
      },
      {
        "duration": 9,
        "start_time": "2023-04-27T14:29:38.352Z"
      },
      {
        "duration": 17,
        "start_time": "2023-04-27T14:29:40.416Z"
      },
      {
        "duration": 7,
        "start_time": "2023-04-27T14:29:43.261Z"
      },
      {
        "duration": 7,
        "start_time": "2023-04-27T14:29:45.761Z"
      },
      {
        "duration": 149,
        "start_time": "2023-04-27T14:30:23.750Z"
      },
      {
        "duration": 127,
        "start_time": "2023-04-27T14:30:33.081Z"
      },
      {
        "duration": 122,
        "start_time": "2023-04-27T14:30:59.277Z"
      },
      {
        "duration": 122,
        "start_time": "2023-04-27T14:31:09.775Z"
      },
      {
        "duration": 136,
        "start_time": "2023-04-27T14:31:42.655Z"
      },
      {
        "duration": 126,
        "start_time": "2023-04-27T14:32:02.271Z"
      },
      {
        "duration": 13,
        "start_time": "2023-04-27T14:32:17.330Z"
      },
      {
        "duration": 118,
        "start_time": "2023-04-27T14:32:40.713Z"
      },
      {
        "duration": 6,
        "start_time": "2023-04-27T14:32:55.109Z"
      },
      {
        "duration": 27,
        "start_time": "2023-04-27T14:33:17.615Z"
      },
      {
        "duration": 264,
        "start_time": "2023-04-27T14:33:46.698Z"
      },
      {
        "duration": 72,
        "start_time": "2023-04-27T14:34:11.712Z"
      },
      {
        "duration": 59,
        "start_time": "2023-04-27T14:51:51.352Z"
      },
      {
        "duration": 4452,
        "start_time": "2023-04-27T14:51:56.235Z"
      },
      {
        "duration": 1555,
        "start_time": "2023-04-27T14:52:02.160Z"
      },
      {
        "duration": 26,
        "start_time": "2023-04-27T14:52:04.138Z"
      },
      {
        "duration": 204,
        "start_time": "2023-04-27T14:52:07.171Z"
      },
      {
        "duration": 108,
        "start_time": "2023-04-27T14:52:08.249Z"
      },
      {
        "duration": 736,
        "start_time": "2023-04-27T14:52:10.752Z"
      },
      {
        "duration": 138,
        "start_time": "2023-04-27T14:52:11.490Z"
      },
      {
        "duration": 15,
        "start_time": "2023-04-27T14:52:13.731Z"
      },
      {
        "duration": 7,
        "start_time": "2023-04-27T14:52:14.163Z"
      },
      {
        "duration": 224,
        "start_time": "2023-04-27T14:52:14.747Z"
      },
      {
        "duration": 20,
        "start_time": "2023-04-27T14:54:02.716Z"
      },
      {
        "duration": 18,
        "start_time": "2023-04-27T14:54:09.173Z"
      },
      {
        "duration": 2,
        "start_time": "2023-04-27T14:55:19.484Z"
      },
      {
        "duration": 40,
        "start_time": "2023-04-27T14:55:23.306Z"
      },
      {
        "duration": 29,
        "start_time": "2023-04-27T14:58:39.639Z"
      },
      {
        "duration": 10,
        "start_time": "2023-04-27T15:04:26.626Z"
      },
      {
        "duration": 152,
        "start_time": "2023-04-27T15:04:44.214Z"
      },
      {
        "duration": 128,
        "start_time": "2023-04-27T15:04:50.037Z"
      },
      {
        "duration": 124,
        "start_time": "2023-04-27T15:04:56.966Z"
      },
      {
        "duration": 122,
        "start_time": "2023-04-27T15:05:33.146Z"
      },
      {
        "duration": 156,
        "start_time": "2023-04-27T15:05:42.621Z"
      },
      {
        "duration": 168,
        "start_time": "2023-04-27T15:05:51.860Z"
      },
      {
        "duration": 32,
        "start_time": "2023-04-27T15:06:12.810Z"
      },
      {
        "duration": 23,
        "start_time": "2023-04-27T15:06:16.134Z"
      },
      {
        "duration": 18,
        "start_time": "2023-04-27T15:06:20.544Z"
      },
      {
        "duration": 18,
        "start_time": "2023-04-27T15:06:49.683Z"
      },
      {
        "duration": 17,
        "start_time": "2023-04-27T15:10:03.657Z"
      },
      {
        "duration": 18,
        "start_time": "2023-04-27T15:10:10.344Z"
      },
      {
        "duration": 122,
        "start_time": "2023-04-27T15:10:13.458Z"
      },
      {
        "duration": 125,
        "start_time": "2023-04-27T15:10:19.397Z"
      },
      {
        "duration": 113,
        "start_time": "2023-04-27T15:30:07.782Z"
      },
      {
        "duration": 44,
        "start_time": "2023-04-27T15:33:24.105Z"
      },
      {
        "duration": 18,
        "start_time": "2023-04-27T15:33:54.194Z"
      },
      {
        "duration": 37,
        "start_time": "2023-04-27T15:34:00.862Z"
      },
      {
        "duration": 24,
        "start_time": "2023-04-27T15:37:50.724Z"
      },
      {
        "duration": 19,
        "start_time": "2023-04-27T15:37:54.868Z"
      },
      {
        "duration": 26,
        "start_time": "2023-04-27T15:37:58.808Z"
      },
      {
        "duration": 12,
        "start_time": "2023-04-27T15:39:17.598Z"
      },
      {
        "duration": 25,
        "start_time": "2023-04-27T15:39:22.180Z"
      },
      {
        "duration": 49,
        "start_time": "2023-04-27T15:41:20.356Z"
      },
      {
        "duration": 61,
        "start_time": "2023-04-27T15:41:31.988Z"
      },
      {
        "duration": 22,
        "start_time": "2023-04-27T15:42:07.147Z"
      },
      {
        "duration": 35,
        "start_time": "2023-04-27T17:35:55.844Z"
      },
      {
        "duration": 48,
        "start_time": "2023-04-27T17:36:11.644Z"
      },
      {
        "duration": 35,
        "start_time": "2023-04-27T17:36:31.136Z"
      },
      {
        "duration": 14,
        "start_time": "2023-04-27T18:01:00.297Z"
      },
      {
        "duration": 13,
        "start_time": "2023-04-27T18:01:11.184Z"
      },
      {
        "duration": 91,
        "start_time": "2023-04-27T18:01:18.560Z"
      },
      {
        "duration": 16,
        "start_time": "2023-04-27T18:01:23.629Z"
      },
      {
        "duration": 105,
        "start_time": "2023-04-27T18:01:30.268Z"
      },
      {
        "duration": 96,
        "start_time": "2023-04-27T18:01:38.910Z"
      },
      {
        "duration": 29,
        "start_time": "2023-04-27T18:04:03.350Z"
      },
      {
        "duration": 665,
        "start_time": "2023-04-27T18:05:16.298Z"
      },
      {
        "duration": 28,
        "start_time": "2023-04-27T18:06:15.302Z"
      },
      {
        "duration": 349,
        "start_time": "2023-04-27T18:06:27.864Z"
      },
      {
        "duration": 5,
        "start_time": "2023-04-27T18:07:35.500Z"
      },
      {
        "duration": 6,
        "start_time": "2023-04-27T18:07:48.192Z"
      },
      {
        "duration": 5,
        "start_time": "2023-04-27T18:07:48.674Z"
      },
      {
        "duration": 7,
        "start_time": "2023-04-27T18:07:51.179Z"
      },
      {
        "duration": 166,
        "start_time": "2023-04-27T18:08:45.746Z"
      },
      {
        "duration": 14,
        "start_time": "2023-04-27T18:08:54.085Z"
      },
      {
        "duration": 127,
        "start_time": "2023-04-27T18:09:01.366Z"
      },
      {
        "duration": 12,
        "start_time": "2023-04-27T18:10:55.756Z"
      },
      {
        "duration": 29,
        "start_time": "2023-04-27T18:11:04.281Z"
      },
      {
        "duration": 19,
        "start_time": "2023-04-27T18:11:19.384Z"
      },
      {
        "duration": 139,
        "start_time": "2023-04-27T18:12:27.038Z"
      },
      {
        "duration": 115,
        "start_time": "2023-04-27T18:12:40.552Z"
      },
      {
        "duration": 125,
        "start_time": "2023-04-27T18:12:44.328Z"
      },
      {
        "duration": 126,
        "start_time": "2023-04-27T18:12:47.413Z"
      },
      {
        "duration": 127,
        "start_time": "2023-04-27T18:12:51.659Z"
      },
      {
        "duration": 150,
        "start_time": "2023-04-27T18:13:55.548Z"
      },
      {
        "duration": 157,
        "start_time": "2023-04-27T18:14:01.265Z"
      },
      {
        "duration": 144,
        "start_time": "2023-04-27T18:14:04.813Z"
      },
      {
        "duration": 156,
        "start_time": "2023-04-27T18:14:28.509Z"
      },
      {
        "duration": 147,
        "start_time": "2023-04-27T18:14:31.239Z"
      },
      {
        "duration": 163,
        "start_time": "2023-04-27T18:14:33.017Z"
      },
      {
        "duration": 228,
        "start_time": "2023-04-27T18:15:41.701Z"
      },
      {
        "duration": 13,
        "start_time": "2023-04-27T18:16:06.065Z"
      },
      {
        "duration": 178,
        "start_time": "2023-04-27T18:16:12.302Z"
      },
      {
        "duration": 221,
        "start_time": "2023-04-27T18:16:35.850Z"
      },
      {
        "duration": 6,
        "start_time": "2023-04-27T18:17:22.734Z"
      },
      {
        "duration": 7,
        "start_time": "2023-04-27T18:17:27.841Z"
      },
      {
        "duration": 7,
        "start_time": "2023-04-27T18:17:45.540Z"
      },
      {
        "duration": 25,
        "start_time": "2023-04-27T18:18:10.584Z"
      },
      {
        "duration": 8,
        "start_time": "2023-04-27T18:18:46.586Z"
      },
      {
        "duration": 30,
        "start_time": "2023-04-27T18:18:56.249Z"
      },
      {
        "duration": 18,
        "start_time": "2023-04-27T18:19:08.477Z"
      },
      {
        "duration": 9,
        "start_time": "2023-04-27T18:19:11.883Z"
      },
      {
        "duration": 13,
        "start_time": "2023-04-27T18:19:14.257Z"
      },
      {
        "duration": 6,
        "start_time": "2023-04-27T18:19:23.857Z"
      },
      {
        "duration": 5,
        "start_time": "2023-04-27T18:19:27.959Z"
      },
      {
        "duration": 298,
        "start_time": "2023-04-27T18:19:33.184Z"
      },
      {
        "duration": 6,
        "start_time": "2023-04-27T18:19:47.497Z"
      },
      {
        "duration": 6,
        "start_time": "2023-04-27T18:20:05.341Z"
      },
      {
        "duration": 5,
        "start_time": "2023-04-27T18:20:14.259Z"
      },
      {
        "duration": 4,
        "start_time": "2023-04-27T18:20:20.732Z"
      },
      {
        "duration": 19,
        "start_time": "2023-04-27T18:20:28.194Z"
      },
      {
        "duration": 3,
        "start_time": "2023-04-27T18:20:46.268Z"
      },
      {
        "duration": 918,
        "start_time": "2023-04-27T18:20:48.313Z"
      },
      {
        "duration": 15,
        "start_time": "2023-04-27T18:20:49.233Z"
      },
      {
        "duration": 146,
        "start_time": "2023-04-27T18:20:53.537Z"
      },
      {
        "duration": 103,
        "start_time": "2023-04-27T18:20:56.195Z"
      },
      {
        "duration": 540,
        "start_time": "2023-04-27T18:20:58.271Z"
      },
      {
        "duration": 115,
        "start_time": "2023-04-27T18:20:59.650Z"
      },
      {
        "duration": 111,
        "start_time": "2023-04-27T18:21:00.343Z"
      },
      {
        "duration": 20,
        "start_time": "2023-04-27T18:21:04.128Z"
      },
      {
        "duration": 18,
        "start_time": "2023-04-27T18:21:05.484Z"
      },
      {
        "duration": 6,
        "start_time": "2023-04-27T18:21:15.454Z"
      },
      {
        "duration": 6,
        "start_time": "2023-04-27T18:21:16.232Z"
      },
      {
        "duration": 27,
        "start_time": "2023-04-27T18:21:19.481Z"
      },
      {
        "duration": 44,
        "start_time": "2023-04-27T18:21:21.833Z"
      },
      {
        "duration": 28,
        "start_time": "2023-04-27T18:21:27.012Z"
      },
      {
        "duration": 31,
        "start_time": "2023-04-27T18:21:33.533Z"
      },
      {
        "duration": 84,
        "start_time": "2023-04-27T18:21:49.628Z"
      },
      {
        "duration": 39,
        "start_time": "2023-04-27T18:21:54.728Z"
      },
      {
        "duration": 42,
        "start_time": "2023-04-27T18:22:18.713Z"
      },
      {
        "duration": 19,
        "start_time": "2023-04-27T18:22:28.763Z"
      },
      {
        "duration": 33,
        "start_time": "2023-04-27T18:22:34.163Z"
      },
      {
        "duration": 24,
        "start_time": "2023-04-27T18:22:44.288Z"
      },
      {
        "duration": 18,
        "start_time": "2023-04-27T18:22:47.044Z"
      },
      {
        "duration": 873,
        "start_time": "2023-04-27T18:23:29.857Z"
      },
      {
        "duration": 569,
        "start_time": "2023-04-27T18:23:33.769Z"
      },
      {
        "duration": 113,
        "start_time": "2023-04-27T18:23:35.485Z"
      },
      {
        "duration": 124,
        "start_time": "2023-04-27T18:23:35.808Z"
      },
      {
        "duration": 7,
        "start_time": "2023-04-27T18:23:38.412Z"
      },
      {
        "duration": 6,
        "start_time": "2023-04-27T18:23:39.064Z"
      },
      {
        "duration": 37,
        "start_time": "2023-04-27T18:23:45.831Z"
      },
      {
        "duration": 33,
        "start_time": "2023-04-27T18:23:50.583Z"
      },
      {
        "duration": 20,
        "start_time": "2023-04-27T18:23:51.183Z"
      },
      {
        "duration": 31,
        "start_time": "2023-04-27T18:23:55.437Z"
      },
      {
        "duration": 39,
        "start_time": "2023-04-27T18:23:57.570Z"
      },
      {
        "duration": 24,
        "start_time": "2023-04-27T18:24:01.004Z"
      },
      {
        "duration": 39,
        "start_time": "2023-04-27T18:24:12.828Z"
      },
      {
        "duration": 32,
        "start_time": "2023-04-27T18:24:15.029Z"
      },
      {
        "duration": 25,
        "start_time": "2023-04-27T18:24:19.305Z"
      },
      {
        "duration": 11,
        "start_time": "2023-04-27T18:24:26.910Z"
      },
      {
        "duration": 14,
        "start_time": "2023-04-27T18:25:50.541Z"
      },
      {
        "duration": 11,
        "start_time": "2023-04-27T18:26:27.129Z"
      },
      {
        "duration": 16,
        "start_time": "2023-04-27T18:26:29.962Z"
      },
      {
        "duration": 25,
        "start_time": "2023-04-27T18:26:40.563Z"
      },
      {
        "duration": 16,
        "start_time": "2023-04-27T18:26:43.337Z"
      },
      {
        "duration": 15,
        "start_time": "2023-04-27T18:26:46.213Z"
      },
      {
        "duration": 19,
        "start_time": "2023-04-27T18:26:46.776Z"
      },
      {
        "duration": 11,
        "start_time": "2023-04-27T18:26:56.492Z"
      },
      {
        "duration": 16,
        "start_time": "2023-04-27T18:26:56.991Z"
      },
      {
        "duration": 11,
        "start_time": "2023-04-27T18:27:06.071Z"
      },
      {
        "duration": 838,
        "start_time": "2023-04-27T18:41:14.366Z"
      },
      {
        "duration": 3,
        "start_time": "2023-04-27T18:41:47.640Z"
      },
      {
        "duration": 33,
        "start_time": "2023-04-27T18:43:40.841Z"
      },
      {
        "duration": 16,
        "start_time": "2023-04-27T18:44:15.729Z"
      },
      {
        "duration": 4,
        "start_time": "2023-04-27T18:46:31.180Z"
      },
      {
        "duration": 18,
        "start_time": "2023-04-27T18:46:36.380Z"
      },
      {
        "duration": 9,
        "start_time": "2023-04-27T18:46:56.333Z"
      },
      {
        "duration": 23,
        "start_time": "2023-04-27T18:47:10.909Z"
      },
      {
        "duration": 56,
        "start_time": "2023-04-27T18:50:45.933Z"
      },
      {
        "duration": 66,
        "start_time": "2023-04-27T18:50:50.496Z"
      },
      {
        "duration": 5,
        "start_time": "2023-04-27T18:51:25.316Z"
      },
      {
        "duration": 82,
        "start_time": "2023-04-27T18:51:26.901Z"
      },
      {
        "duration": 5,
        "start_time": "2023-04-27T18:52:22.614Z"
      },
      {
        "duration": 74,
        "start_time": "2023-04-27T18:52:23.006Z"
      },
      {
        "duration": 9,
        "start_time": "2023-04-27T18:52:47.965Z"
      },
      {
        "duration": 90,
        "start_time": "2023-04-27T18:53:12.490Z"
      },
      {
        "duration": 7,
        "start_time": "2023-04-27T18:53:15.397Z"
      },
      {
        "duration": 48,
        "start_time": "2023-04-27T18:54:21.001Z"
      },
      {
        "duration": 299,
        "start_time": "2023-04-27T18:54:25.009Z"
      },
      {
        "duration": 28,
        "start_time": "2023-04-27T18:54:46.370Z"
      },
      {
        "duration": 13,
        "start_time": "2023-04-27T18:55:25.385Z"
      },
      {
        "duration": 31,
        "start_time": "2023-04-27T18:55:27.630Z"
      },
      {
        "duration": 26,
        "start_time": "2023-04-27T18:56:11.017Z"
      },
      {
        "duration": 3,
        "start_time": "2023-04-27T19:01:59.658Z"
      },
      {
        "duration": 3,
        "start_time": "2023-04-27T19:02:39.935Z"
      },
      {
        "duration": 117,
        "start_time": "2023-04-27T19:02:57.932Z"
      },
      {
        "duration": 19,
        "start_time": "2023-04-27T19:03:10.651Z"
      },
      {
        "duration": 127,
        "start_time": "2023-04-27T19:11:38.907Z"
      },
      {
        "duration": 5,
        "start_time": "2023-04-27T19:11:43.538Z"
      },
      {
        "duration": 13,
        "start_time": "2023-04-27T19:12:16.140Z"
      },
      {
        "duration": 771,
        "start_time": "2023-04-27T19:12:31.157Z"
      },
      {
        "duration": 59,
        "start_time": "2023-04-27T19:12:47.770Z"
      },
      {
        "duration": 4130,
        "start_time": "2023-04-27T19:14:37.413Z"
      },
      {
        "duration": 1164,
        "start_time": "2023-04-27T19:14:42.448Z"
      },
      {
        "duration": 18,
        "start_time": "2023-04-27T19:14:44.029Z"
      },
      {
        "duration": 145,
        "start_time": "2023-04-27T19:14:48.013Z"
      },
      {
        "duration": 134,
        "start_time": "2023-04-27T19:14:50.249Z"
      },
      {
        "duration": 583,
        "start_time": "2023-04-27T19:14:54.111Z"
      },
      {
        "duration": 115,
        "start_time": "2023-04-27T19:14:55.128Z"
      },
      {
        "duration": 111,
        "start_time": "2023-04-27T19:14:55.573Z"
      },
      {
        "duration": 7,
        "start_time": "2023-04-27T19:14:57.252Z"
      },
      {
        "duration": 6,
        "start_time": "2023-04-27T19:14:57.764Z"
      },
      {
        "duration": 35,
        "start_time": "2023-04-27T19:14:58.449Z"
      },
      {
        "duration": 31,
        "start_time": "2023-04-27T19:15:01.240Z"
      },
      {
        "duration": 21,
        "start_time": "2023-04-27T19:15:01.740Z"
      },
      {
        "duration": 36,
        "start_time": "2023-04-27T19:15:04.300Z"
      },
      {
        "duration": 45,
        "start_time": "2023-04-27T19:15:04.807Z"
      },
      {
        "duration": 32,
        "start_time": "2023-04-27T19:15:06.154Z"
      },
      {
        "duration": 40,
        "start_time": "2023-04-27T19:15:06.799Z"
      },
      {
        "duration": 39,
        "start_time": "2023-04-27T19:15:07.906Z"
      },
      {
        "duration": 260,
        "start_time": "2023-04-27T19:15:08.399Z"
      },
      {
        "duration": 29,
        "start_time": "2023-04-27T19:15:10.640Z"
      },
      {
        "duration": 29,
        "start_time": "2023-04-27T19:15:11.330Z"
      },
      {
        "duration": 23,
        "start_time": "2023-04-27T19:15:12.460Z"
      },
      {
        "duration": 15,
        "start_time": "2023-04-27T19:15:16.318Z"
      },
      {
        "duration": 17,
        "start_time": "2023-04-27T19:15:22.318Z"
      },
      {
        "duration": 65,
        "start_time": "2023-04-27T19:15:22.833Z"
      },
      {
        "duration": 117,
        "start_time": "2023-04-27T19:15:29.469Z"
      },
      {
        "duration": 82,
        "start_time": "2023-04-27T19:16:03.585Z"
      },
      {
        "duration": 7,
        "start_time": "2023-04-27T19:16:05.897Z"
      },
      {
        "duration": 138,
        "start_time": "2023-04-27T19:17:05.584Z"
      },
      {
        "duration": 12,
        "start_time": "2023-04-27T19:17:10.841Z"
      },
      {
        "duration": 16,
        "start_time": "2023-04-27T19:17:22.353Z"
      },
      {
        "duration": 12,
        "start_time": "2023-04-27T19:17:33.155Z"
      },
      {
        "duration": 150,
        "start_time": "2023-04-27T19:17:57.513Z"
      },
      {
        "duration": 546,
        "start_time": "2023-04-28T07:53:00.532Z"
      },
      {
        "duration": 1280,
        "start_time": "2023-04-28T07:53:12.724Z"
      },
      {
        "duration": 2898,
        "start_time": "2023-04-28T07:53:14.658Z"
      },
      {
        "duration": 18,
        "start_time": "2023-04-28T07:53:17.558Z"
      },
      {
        "duration": 109,
        "start_time": "2023-04-28T07:53:19.512Z"
      },
      {
        "duration": 94,
        "start_time": "2023-04-28T07:53:21.442Z"
      },
      {
        "duration": 584,
        "start_time": "2023-04-28T07:53:24.146Z"
      },
      {
        "duration": 87,
        "start_time": "2023-04-28T07:53:25.764Z"
      },
      {
        "duration": 19,
        "start_time": "2023-04-28T07:56:54.316Z"
      },
      {
        "duration": 13,
        "start_time": "2023-04-28T07:57:14.059Z"
      },
      {
        "duration": 9,
        "start_time": "2023-04-28T07:57:20.375Z"
      },
      {
        "duration": 8,
        "start_time": "2023-04-28T07:57:23.343Z"
      },
      {
        "duration": 189,
        "start_time": "2023-04-28T07:57:36.354Z"
      },
      {
        "duration": 20,
        "start_time": "2023-04-28T07:59:15.556Z"
      },
      {
        "duration": 8,
        "start_time": "2023-04-28T08:00:00.011Z"
      },
      {
        "duration": 7,
        "start_time": "2023-04-28T08:00:05.039Z"
      },
      {
        "duration": 12,
        "start_time": "2023-04-28T08:00:08.613Z"
      },
      {
        "duration": 12,
        "start_time": "2023-04-28T08:00:37.175Z"
      },
      {
        "duration": 53,
        "start_time": "2023-04-28T08:01:06.631Z"
      },
      {
        "duration": 22,
        "start_time": "2023-04-28T08:01:13.875Z"
      },
      {
        "duration": 7,
        "start_time": "2023-04-28T08:03:35.483Z"
      },
      {
        "duration": 19,
        "start_time": "2023-04-28T08:03:58.533Z"
      },
      {
        "duration": 9,
        "start_time": "2023-04-28T08:04:06.957Z"
      },
      {
        "duration": 19,
        "start_time": "2023-04-28T08:04:13.775Z"
      },
      {
        "duration": 50,
        "start_time": "2023-04-28T08:04:40.243Z"
      },
      {
        "duration": 29,
        "start_time": "2023-04-28T08:04:58.715Z"
      },
      {
        "duration": 9,
        "start_time": "2023-04-28T08:05:19.482Z"
      },
      {
        "duration": 16,
        "start_time": "2023-04-28T08:06:21.976Z"
      },
      {
        "duration": 28,
        "start_time": "2023-04-28T08:06:28.807Z"
      },
      {
        "duration": 12,
        "start_time": "2023-04-28T08:06:37.342Z"
      },
      {
        "duration": 29,
        "start_time": "2023-04-28T08:07:01.364Z"
      },
      {
        "duration": 17,
        "start_time": "2023-04-28T08:08:11.136Z"
      },
      {
        "duration": 36,
        "start_time": "2023-04-28T08:08:21.997Z"
      },
      {
        "duration": 72,
        "start_time": "2023-04-28T08:11:01.227Z"
      },
      {
        "duration": 34,
        "start_time": "2023-04-28T08:11:24.713Z"
      },
      {
        "duration": 30,
        "start_time": "2023-04-28T08:12:07.010Z"
      },
      {
        "duration": 33,
        "start_time": "2023-04-28T08:12:24.610Z"
      },
      {
        "duration": 22,
        "start_time": "2023-04-28T08:12:34.955Z"
      },
      {
        "duration": 47,
        "start_time": "2023-04-28T08:13:07.524Z"
      },
      {
        "duration": 63,
        "start_time": "2023-04-28T08:13:10.163Z"
      },
      {
        "duration": 3,
        "start_time": "2023-04-28T08:15:46.714Z"
      },
      {
        "duration": 721,
        "start_time": "2023-04-28T08:15:47.442Z"
      },
      {
        "duration": 13,
        "start_time": "2023-04-28T08:15:48.165Z"
      },
      {
        "duration": 3,
        "start_time": "2023-04-28T08:15:48.641Z"
      },
      {
        "duration": 124,
        "start_time": "2023-04-28T08:15:48.982Z"
      },
      {
        "duration": 99,
        "start_time": "2023-04-28T08:15:49.645Z"
      },
      {
        "duration": 459,
        "start_time": "2023-04-28T08:15:50.934Z"
      },
      {
        "duration": 77,
        "start_time": "2023-04-28T08:15:51.859Z"
      },
      {
        "duration": 7,
        "start_time": "2023-04-28T08:15:53.483Z"
      },
      {
        "duration": 8,
        "start_time": "2023-04-28T08:15:54.131Z"
      },
      {
        "duration": 27,
        "start_time": "2023-04-28T08:15:54.886Z"
      },
      {
        "duration": 46,
        "start_time": "2023-04-28T08:15:59.562Z"
      },
      {
        "duration": 17,
        "start_time": "2023-04-28T08:16:00.056Z"
      },
      {
        "duration": 23,
        "start_time": "2023-04-28T08:16:04.553Z"
      },
      {
        "duration": 175,
        "start_time": "2023-04-28T08:16:05.051Z"
      },
      {
        "duration": 31,
        "start_time": "2023-04-28T08:16:14.404Z"
      },
      {
        "duration": 40,
        "start_time": "2023-04-28T08:16:16.442Z"
      },
      {
        "duration": 35,
        "start_time": "2023-04-28T08:16:20.135Z"
      },
      {
        "duration": 44,
        "start_time": "2023-04-28T08:16:21.758Z"
      },
      {
        "duration": 32,
        "start_time": "2023-04-28T08:16:22.687Z"
      },
      {
        "duration": 30,
        "start_time": "2023-04-28T08:16:23.094Z"
      },
      {
        "duration": 25,
        "start_time": "2023-04-28T08:16:23.811Z"
      },
      {
        "duration": 295,
        "start_time": "2023-04-28T08:16:25.127Z"
      },
      {
        "duration": 26,
        "start_time": "2023-04-28T08:16:26.619Z"
      },
      {
        "duration": 38,
        "start_time": "2023-04-28T08:16:27.178Z"
      },
      {
        "duration": 15,
        "start_time": "2023-04-28T08:16:27.935Z"
      },
      {
        "duration": 13,
        "start_time": "2023-04-28T08:16:30.100Z"
      },
      {
        "duration": 16,
        "start_time": "2023-04-28T08:16:32.100Z"
      },
      {
        "duration": 71,
        "start_time": "2023-04-28T08:16:33.787Z"
      },
      {
        "duration": 136,
        "start_time": "2023-04-28T08:52:56.598Z"
      },
      {
        "duration": 765,
        "start_time": "2023-04-28T08:53:10.497Z"
      },
      {
        "duration": 16619,
        "start_time": "2023-04-28T08:53:14.219Z"
      },
      {
        "duration": 15,
        "start_time": "2023-04-28T08:55:14.546Z"
      },
      {
        "duration": 59,
        "start_time": "2023-04-28T08:55:55.094Z"
      },
      {
        "duration": 68,
        "start_time": "2023-04-28T08:55:59.410Z"
      },
      {
        "duration": 10,
        "start_time": "2023-04-28T08:56:12.440Z"
      },
      {
        "duration": 77,
        "start_time": "2023-04-28T08:57:14.088Z"
      },
      {
        "duration": 91,
        "start_time": "2023-04-28T08:57:17.581Z"
      },
      {
        "duration": 40,
        "start_time": "2023-04-28T08:57:55.239Z"
      },
      {
        "duration": 64,
        "start_time": "2023-04-28T08:58:03.081Z"
      },
      {
        "duration": 71,
        "start_time": "2023-04-28T08:58:15.688Z"
      },
      {
        "duration": 17524,
        "start_time": "2023-04-28T08:59:12.299Z"
      },
      {
        "duration": 0,
        "start_time": "2023-04-28T08:59:29.825Z"
      },
      {
        "duration": 94,
        "start_time": "2023-04-28T09:01:17.979Z"
      },
      {
        "duration": 77,
        "start_time": "2023-04-28T09:01:30.283Z"
      },
      {
        "duration": 81,
        "start_time": "2023-04-28T09:01:47.493Z"
      },
      {
        "duration": 403,
        "start_time": "2023-04-28T09:24:52.846Z"
      },
      {
        "duration": 14,
        "start_time": "2023-04-28T09:25:03.020Z"
      },
      {
        "duration": 28,
        "start_time": "2023-04-28T09:25:25.829Z"
      },
      {
        "duration": 414,
        "start_time": "2023-04-28T09:25:30.686Z"
      },
      {
        "duration": 50,
        "start_time": "2023-04-28T09:30:44.379Z"
      },
      {
        "duration": 34,
        "start_time": "2023-04-28T09:33:42.352Z"
      },
      {
        "duration": 93,
        "start_time": "2023-04-28T09:37:24.876Z"
      },
      {
        "duration": 121,
        "start_time": "2023-04-28T09:37:43.684Z"
      },
      {
        "duration": 112,
        "start_time": "2023-04-28T09:37:54.242Z"
      },
      {
        "duration": 14,
        "start_time": "2023-04-28T09:38:01.809Z"
      },
      {
        "duration": 17,
        "start_time": "2023-04-28T09:38:11.630Z"
      },
      {
        "duration": 65,
        "start_time": "2023-04-28T09:39:01.423Z"
      },
      {
        "duration": 18,
        "start_time": "2023-04-28T09:39:07.089Z"
      },
      {
        "duration": 5,
        "start_time": "2023-04-28T09:39:21.411Z"
      },
      {
        "duration": 52,
        "start_time": "2023-04-28T09:39:28.892Z"
      },
      {
        "duration": 61,
        "start_time": "2023-04-28T09:40:20.099Z"
      },
      {
        "duration": 83,
        "start_time": "2023-04-28T09:40:40.115Z"
      },
      {
        "duration": 11,
        "start_time": "2023-04-28T09:41:12.571Z"
      },
      {
        "duration": 16,
        "start_time": "2023-04-28T09:41:16.801Z"
      },
      {
        "duration": 61,
        "start_time": "2023-04-28T09:54:41.264Z"
      },
      {
        "duration": 3,
        "start_time": "2023-04-28T10:09:44.675Z"
      },
      {
        "duration": 16,
        "start_time": "2023-04-28T10:10:05.650Z"
      },
      {
        "duration": 75,
        "start_time": "2023-04-28T10:10:51.004Z"
      },
      {
        "duration": 4,
        "start_time": "2023-04-28T10:11:14.248Z"
      },
      {
        "duration": 89,
        "start_time": "2023-04-28T10:11:17.352Z"
      },
      {
        "duration": 11,
        "start_time": "2023-04-28T10:11:20.419Z"
      },
      {
        "duration": 3,
        "start_time": "2023-04-28T10:12:05.556Z"
      },
      {
        "duration": 70,
        "start_time": "2023-04-28T10:12:06.592Z"
      },
      {
        "duration": 3,
        "start_time": "2023-04-28T10:12:23.762Z"
      },
      {
        "duration": 89,
        "start_time": "2023-04-28T10:12:24.203Z"
      },
      {
        "duration": 13,
        "start_time": "2023-04-28T10:12:28.037Z"
      },
      {
        "duration": 4,
        "start_time": "2023-04-28T10:12:32.238Z"
      },
      {
        "duration": 4,
        "start_time": "2023-04-28T10:12:32.978Z"
      },
      {
        "duration": 79,
        "start_time": "2023-04-28T10:12:33.134Z"
      },
      {
        "duration": 89,
        "start_time": "2023-04-28T10:12:39.771Z"
      },
      {
        "duration": 48,
        "start_time": "2023-04-28T10:14:10.894Z"
      },
      {
        "duration": 3,
        "start_time": "2023-04-28T10:14:21.038Z"
      },
      {
        "duration": 73,
        "start_time": "2023-04-28T10:14:32.526Z"
      },
      {
        "duration": 26,
        "start_time": "2023-04-28T10:14:38.743Z"
      },
      {
        "duration": 11,
        "start_time": "2023-04-28T10:14:54.704Z"
      },
      {
        "duration": 848,
        "start_time": "2023-04-28T10:16:30.999Z"
      },
      {
        "duration": 14,
        "start_time": "2023-04-28T10:16:39.243Z"
      },
      {
        "duration": 33,
        "start_time": "2023-04-28T10:16:48.383Z"
      },
      {
        "duration": 17,
        "start_time": "2023-04-28T10:16:48.915Z"
      },
      {
        "duration": 13,
        "start_time": "2023-04-28T10:16:55.719Z"
      },
      {
        "duration": 57,
        "start_time": "2023-04-28T10:17:09.395Z"
      },
      {
        "duration": 11,
        "start_time": "2023-04-28T10:17:19.020Z"
      },
      {
        "duration": 10,
        "start_time": "2023-04-28T10:17:28.335Z"
      },
      {
        "duration": 5,
        "start_time": "2023-04-28T10:17:36.918Z"
      },
      {
        "duration": 7,
        "start_time": "2023-04-28T10:17:55.447Z"
      },
      {
        "duration": 5,
        "start_time": "2023-04-28T10:18:00.283Z"
      },
      {
        "duration": 7,
        "start_time": "2023-04-28T10:18:06.973Z"
      },
      {
        "duration": 18,
        "start_time": "2023-04-28T10:18:28.536Z"
      },
      {
        "duration": 22,
        "start_time": "2023-04-28T10:18:31.023Z"
      },
      {
        "duration": 82,
        "start_time": "2023-04-28T10:21:55.324Z"
      },
      {
        "duration": 92,
        "start_time": "2023-04-28T10:22:07.334Z"
      },
      {
        "duration": 21,
        "start_time": "2023-04-28T10:22:09.079Z"
      },
      {
        "duration": 16,
        "start_time": "2023-04-28T10:27:12.132Z"
      },
      {
        "duration": 12,
        "start_time": "2023-04-28T10:27:33.927Z"
      },
      {
        "duration": 324,
        "start_time": "2023-04-28T10:29:45.313Z"
      },
      {
        "duration": 5,
        "start_time": "2023-04-28T10:29:51.990Z"
      },
      {
        "duration": 15748,
        "start_time": "2023-04-28T10:30:28.522Z"
      },
      {
        "duration": 5,
        "start_time": "2023-04-28T10:30:44.273Z"
      },
      {
        "duration": 816,
        "start_time": "2023-04-28T10:30:44.280Z"
      },
      {
        "duration": 14,
        "start_time": "2023-04-28T10:30:45.099Z"
      },
      {
        "duration": 19,
        "start_time": "2023-04-28T10:30:45.115Z"
      },
      {
        "duration": 112,
        "start_time": "2023-04-28T10:30:45.135Z"
      },
      {
        "duration": 124,
        "start_time": "2023-04-28T10:30:45.249Z"
      },
      {
        "duration": 494,
        "start_time": "2023-04-28T10:30:45.375Z"
      },
      {
        "duration": 73,
        "start_time": "2023-04-28T10:30:45.871Z"
      },
      {
        "duration": 7,
        "start_time": "2023-04-28T10:30:45.958Z"
      },
      {
        "duration": 14,
        "start_time": "2023-04-28T10:30:45.967Z"
      },
      {
        "duration": 26,
        "start_time": "2023-04-28T10:30:45.983Z"
      },
      {
        "duration": 56,
        "start_time": "2023-04-28T10:30:46.010Z"
      },
      {
        "duration": 26,
        "start_time": "2023-04-28T10:30:46.068Z"
      },
      {
        "duration": 22,
        "start_time": "2023-04-28T10:30:46.097Z"
      },
      {
        "duration": 191,
        "start_time": "2023-04-28T10:30:46.121Z"
      },
      {
        "duration": 25,
        "start_time": "2023-04-28T10:30:46.314Z"
      },
      {
        "duration": 37,
        "start_time": "2023-04-28T10:30:46.355Z"
      },
      {
        "duration": 25,
        "start_time": "2023-04-28T10:30:46.394Z"
      },
      {
        "duration": 57,
        "start_time": "2023-04-28T10:30:46.420Z"
      },
      {
        "duration": 42,
        "start_time": "2023-04-28T10:30:46.479Z"
      },
      {
        "duration": 62,
        "start_time": "2023-04-28T10:30:46.523Z"
      },
      {
        "duration": 32,
        "start_time": "2023-04-28T10:30:46.587Z"
      },
      {
        "duration": 276,
        "start_time": "2023-04-28T10:30:46.621Z"
      },
      {
        "duration": 36,
        "start_time": "2023-04-28T10:30:46.900Z"
      },
      {
        "duration": 36,
        "start_time": "2023-04-28T10:30:46.938Z"
      },
      {
        "duration": 15,
        "start_time": "2023-04-28T10:30:46.976Z"
      },
      {
        "duration": 11,
        "start_time": "2023-04-28T10:30:46.995Z"
      },
      {
        "duration": 27,
        "start_time": "2023-04-28T10:30:47.007Z"
      },
      {
        "duration": 81,
        "start_time": "2023-04-28T10:30:47.035Z"
      },
      {
        "duration": 3,
        "start_time": "2023-04-28T10:30:47.118Z"
      },
      {
        "duration": 7,
        "start_time": "2023-04-28T10:30:47.122Z"
      },
      {
        "duration": 338,
        "start_time": "2023-04-28T10:30:47.131Z"
      },
      {
        "duration": 21,
        "start_time": "2023-04-28T10:30:57.266Z"
      },
      {
        "duration": 3,
        "start_time": "2023-04-28T10:32:42.822Z"
      },
      {
        "duration": 148,
        "start_time": "2023-04-28T10:32:44.617Z"
      },
      {
        "duration": 113,
        "start_time": "2023-04-28T10:37:47.861Z"
      },
      {
        "duration": 20,
        "start_time": "2023-04-28T10:37:58.255Z"
      },
      {
        "duration": 3,
        "start_time": "2023-04-28T10:38:00.674Z"
      },
      {
        "duration": 23,
        "start_time": "2023-04-28T10:38:02.036Z"
      },
      {
        "duration": 2,
        "start_time": "2023-04-28T10:38:17.033Z"
      },
      {
        "duration": 21,
        "start_time": "2023-04-28T10:38:17.037Z"
      },
      {
        "duration": 842,
        "start_time": "2023-04-28T10:38:17.060Z"
      },
      {
        "duration": 15,
        "start_time": "2023-04-28T10:38:17.904Z"
      },
      {
        "duration": 3,
        "start_time": "2023-04-28T10:38:17.923Z"
      },
      {
        "duration": 149,
        "start_time": "2023-04-28T10:38:17.928Z"
      },
      {
        "duration": 113,
        "start_time": "2023-04-28T10:38:18.080Z"
      },
      {
        "duration": 559,
        "start_time": "2023-04-28T10:38:18.195Z"
      },
      {
        "duration": 76,
        "start_time": "2023-04-28T10:38:18.755Z"
      },
      {
        "duration": 21,
        "start_time": "2023-04-28T10:38:18.834Z"
      },
      {
        "duration": 26,
        "start_time": "2023-04-28T10:38:18.858Z"
      },
      {
        "duration": 51,
        "start_time": "2023-04-28T10:38:18.887Z"
      },
      {
        "duration": 28,
        "start_time": "2023-04-28T10:38:18.940Z"
      },
      {
        "duration": 34,
        "start_time": "2023-04-28T10:38:18.971Z"
      },
      {
        "duration": 24,
        "start_time": "2023-04-28T10:38:19.007Z"
      },
      {
        "duration": 158,
        "start_time": "2023-04-28T10:38:19.033Z"
      },
      {
        "duration": 25,
        "start_time": "2023-04-28T10:38:19.193Z"
      },
      {
        "duration": 58,
        "start_time": "2023-04-28T10:38:19.220Z"
      },
      {
        "duration": 25,
        "start_time": "2023-04-28T10:38:19.280Z"
      },
      {
        "duration": 50,
        "start_time": "2023-04-28T10:38:19.307Z"
      },
      {
        "duration": 24,
        "start_time": "2023-04-28T10:38:19.358Z"
      },
      {
        "duration": 29,
        "start_time": "2023-04-28T10:38:19.384Z"
      },
      {
        "duration": 47,
        "start_time": "2023-04-28T10:38:19.415Z"
      },
      {
        "duration": 252,
        "start_time": "2023-04-28T10:38:19.463Z"
      },
      {
        "duration": 26,
        "start_time": "2023-04-28T10:38:19.717Z"
      },
      {
        "duration": 36,
        "start_time": "2023-04-28T10:38:19.745Z"
      },
      {
        "duration": 15,
        "start_time": "2023-04-28T10:38:19.782Z"
      },
      {
        "duration": 15,
        "start_time": "2023-04-28T10:38:19.798Z"
      },
      {
        "duration": 32,
        "start_time": "2023-04-28T10:38:19.815Z"
      },
      {
        "duration": 63,
        "start_time": "2023-04-28T10:38:19.857Z"
      },
      {
        "duration": 70,
        "start_time": "2023-04-28T10:38:19.922Z"
      },
      {
        "duration": 3,
        "start_time": "2023-04-28T10:38:19.994Z"
      },
      {
        "duration": 22,
        "start_time": "2023-04-28T10:38:19.999Z"
      },
      {
        "duration": 28,
        "start_time": "2023-04-28T10:38:20.023Z"
      },
      {
        "duration": 87,
        "start_time": "2023-04-28T10:39:14.132Z"
      },
      {
        "duration": 20,
        "start_time": "2023-04-28T10:39:15.767Z"
      },
      {
        "duration": 66,
        "start_time": "2023-04-28T10:39:41.110Z"
      },
      {
        "duration": 19,
        "start_time": "2023-04-28T10:39:42.257Z"
      },
      {
        "duration": 27,
        "start_time": "2023-04-28T10:40:37.559Z"
      },
      {
        "duration": 15,
        "start_time": "2023-04-28T10:41:55.311Z"
      },
      {
        "duration": 3,
        "start_time": "2023-04-28T10:49:55.955Z"
      },
      {
        "duration": 17,
        "start_time": "2023-04-28T10:51:02.075Z"
      },
      {
        "duration": 2,
        "start_time": "2023-04-28T10:51:22.079Z"
      },
      {
        "duration": 8,
        "start_time": "2023-04-28T10:51:22.083Z"
      },
      {
        "duration": 813,
        "start_time": "2023-04-28T10:51:22.092Z"
      },
      {
        "duration": 12,
        "start_time": "2023-04-28T10:51:22.907Z"
      },
      {
        "duration": 13,
        "start_time": "2023-04-28T10:51:22.921Z"
      },
      {
        "duration": 136,
        "start_time": "2023-04-28T10:51:22.935Z"
      },
      {
        "duration": 91,
        "start_time": "2023-04-28T10:51:23.073Z"
      },
      {
        "duration": 476,
        "start_time": "2023-04-28T10:51:23.166Z"
      },
      {
        "duration": 85,
        "start_time": "2023-04-28T10:51:23.643Z"
      },
      {
        "duration": 7,
        "start_time": "2023-04-28T10:51:23.731Z"
      },
      {
        "duration": 21,
        "start_time": "2023-04-28T10:51:23.740Z"
      },
      {
        "duration": 55,
        "start_time": "2023-04-28T10:51:23.763Z"
      },
      {
        "duration": 28,
        "start_time": "2023-04-28T10:51:23.820Z"
      },
      {
        "duration": 16,
        "start_time": "2023-04-28T10:51:23.852Z"
      },
      {
        "duration": 41,
        "start_time": "2023-04-28T10:51:23.870Z"
      },
      {
        "duration": 198,
        "start_time": "2023-04-28T10:51:23.913Z"
      },
      {
        "duration": 31,
        "start_time": "2023-04-28T10:51:24.113Z"
      },
      {
        "duration": 39,
        "start_time": "2023-04-28T10:51:24.155Z"
      },
      {
        "duration": 26,
        "start_time": "2023-04-28T10:51:24.196Z"
      },
      {
        "duration": 57,
        "start_time": "2023-04-28T10:51:24.224Z"
      },
      {
        "duration": 26,
        "start_time": "2023-04-28T10:51:24.283Z"
      },
      {
        "duration": 64,
        "start_time": "2023-04-28T10:51:24.311Z"
      },
      {
        "duration": 27,
        "start_time": "2023-04-28T10:51:24.377Z"
      },
      {
        "duration": 275,
        "start_time": "2023-04-28T10:51:24.405Z"
      },
      {
        "duration": 25,
        "start_time": "2023-04-28T10:51:24.682Z"
      },
      {
        "duration": 26,
        "start_time": "2023-04-28T10:51:24.708Z"
      },
      {
        "duration": 30,
        "start_time": "2023-04-28T10:51:24.735Z"
      },
      {
        "duration": 13,
        "start_time": "2023-04-28T10:51:24.767Z"
      },
      {
        "duration": 14,
        "start_time": "2023-04-28T10:51:24.782Z"
      },
      {
        "duration": 84,
        "start_time": "2023-04-28T10:51:24.798Z"
      },
      {
        "duration": 3,
        "start_time": "2023-04-28T10:51:24.883Z"
      },
      {
        "duration": 42,
        "start_time": "2023-04-28T10:51:24.887Z"
      },
      {
        "duration": 2,
        "start_time": "2023-04-28T10:51:24.931Z"
      },
      {
        "duration": 21,
        "start_time": "2023-04-28T10:51:24.935Z"
      },
      {
        "duration": 7,
        "start_time": "2023-04-28T10:51:24.958Z"
      },
      {
        "duration": 10,
        "start_time": "2023-04-28T10:51:24.967Z"
      },
      {
        "duration": 6,
        "start_time": "2023-04-28T10:51:24.978Z"
      },
      {
        "duration": 5,
        "start_time": "2023-04-28T10:51:37.650Z"
      },
      {
        "duration": 4,
        "start_time": "2023-04-28T10:51:45.035Z"
      },
      {
        "duration": 29,
        "start_time": "2023-04-28T10:51:49.751Z"
      },
      {
        "duration": 6,
        "start_time": "2023-04-28T10:51:54.622Z"
      },
      {
        "duration": 5,
        "start_time": "2023-04-28T10:51:56.775Z"
      },
      {
        "duration": 5,
        "start_time": "2023-04-28T10:52:07.119Z"
      },
      {
        "duration": 112,
        "start_time": "2023-04-28T10:52:54.817Z"
      },
      {
        "duration": 10,
        "start_time": "2023-04-28T10:53:54.438Z"
      },
      {
        "duration": 11,
        "start_time": "2023-04-28T10:54:00.033Z"
      },
      {
        "duration": 488,
        "start_time": "2023-04-28T10:54:04.880Z"
      },
      {
        "duration": 442,
        "start_time": "2023-04-28T10:54:19.527Z"
      },
      {
        "duration": 20,
        "start_time": "2023-04-28T10:54:28.134Z"
      },
      {
        "duration": 457,
        "start_time": "2023-04-28T10:55:39.704Z"
      },
      {
        "duration": 483,
        "start_time": "2023-04-28T10:56:10.679Z"
      },
      {
        "duration": 91,
        "start_time": "2023-04-28T10:57:25.754Z"
      },
      {
        "duration": 21,
        "start_time": "2023-04-28T10:57:31.650Z"
      },
      {
        "duration": 3,
        "start_time": "2023-04-28T10:58:09.794Z"
      },
      {
        "duration": 13,
        "start_time": "2023-04-28T10:58:09.800Z"
      },
      {
        "duration": 802,
        "start_time": "2023-04-28T10:58:09.815Z"
      },
      {
        "duration": 18,
        "start_time": "2023-04-28T10:58:10.619Z"
      },
      {
        "duration": 13,
        "start_time": "2023-04-28T10:58:10.639Z"
      },
      {
        "duration": 119,
        "start_time": "2023-04-28T10:58:10.654Z"
      },
      {
        "duration": 95,
        "start_time": "2023-04-28T10:58:10.775Z"
      },
      {
        "duration": 502,
        "start_time": "2023-04-28T10:58:10.873Z"
      },
      {
        "duration": 90,
        "start_time": "2023-04-28T10:58:11.377Z"
      },
      {
        "duration": 8,
        "start_time": "2023-04-28T10:58:11.469Z"
      },
      {
        "duration": 33,
        "start_time": "2023-04-28T10:58:11.478Z"
      },
      {
        "duration": 33,
        "start_time": "2023-04-28T10:58:11.513Z"
      },
      {
        "duration": 32,
        "start_time": "2023-04-28T10:58:11.548Z"
      },
      {
        "duration": 17,
        "start_time": "2023-04-28T10:58:11.583Z"
      },
      {
        "duration": 19,
        "start_time": "2023-04-28T10:58:11.602Z"
      },
      {
        "duration": 163,
        "start_time": "2023-04-28T10:58:11.622Z"
      },
      {
        "duration": 28,
        "start_time": "2023-04-28T10:58:11.787Z"
      },
      {
        "duration": 56,
        "start_time": "2023-04-28T10:58:11.817Z"
      },
      {
        "duration": 25,
        "start_time": "2023-04-28T10:58:11.876Z"
      },
      {
        "duration": 35,
        "start_time": "2023-04-28T10:58:11.902Z"
      },
      {
        "duration": 46,
        "start_time": "2023-04-28T10:58:11.939Z"
      },
      {
        "duration": 30,
        "start_time": "2023-04-28T10:58:11.987Z"
      },
      {
        "duration": 57,
        "start_time": "2023-04-28T10:58:12.018Z"
      },
      {
        "duration": 276,
        "start_time": "2023-04-28T10:58:12.078Z"
      },
      {
        "duration": 32,
        "start_time": "2023-04-28T10:58:12.356Z"
      },
      {
        "duration": 24,
        "start_time": "2023-04-28T10:58:12.390Z"
      },
      {
        "duration": 14,
        "start_time": "2023-04-28T10:58:12.416Z"
      },
      {
        "duration": 38,
        "start_time": "2023-04-28T10:58:12.432Z"
      },
      {
        "duration": 16,
        "start_time": "2023-04-28T10:58:12.472Z"
      },
      {
        "duration": 69,
        "start_time": "2023-04-28T10:58:12.489Z"
      },
      {
        "duration": 5,
        "start_time": "2023-04-28T10:58:12.561Z"
      },
      {
        "duration": 120,
        "start_time": "2023-04-28T10:58:12.568Z"
      },
      {
        "duration": 528,
        "start_time": "2023-04-28T10:58:12.690Z"
      },
      {
        "duration": 106,
        "start_time": "2023-04-28T10:58:13.219Z"
      },
      {
        "duration": 20,
        "start_time": "2023-04-28T10:58:13.326Z"
      },
      {
        "duration": 10,
        "start_time": "2023-04-28T10:58:13.348Z"
      },
      {
        "duration": 4,
        "start_time": "2023-04-28T10:58:13.363Z"
      },
      {
        "duration": 5,
        "start_time": "2023-04-28T10:58:13.375Z"
      },
      {
        "duration": 5,
        "start_time": "2023-04-28T10:58:13.382Z"
      },
      {
        "duration": 4,
        "start_time": "2023-04-28T10:58:13.390Z"
      },
      {
        "duration": 5,
        "start_time": "2023-04-28T11:03:53.093Z"
      },
      {
        "duration": 16,
        "start_time": "2023-04-28T11:04:04.871Z"
      },
      {
        "duration": 15,
        "start_time": "2023-04-28T11:04:15.036Z"
      },
      {
        "duration": 3,
        "start_time": "2023-04-28T11:04:28.716Z"
      },
      {
        "duration": 13,
        "start_time": "2023-04-28T11:04:28.721Z"
      },
      {
        "duration": 868,
        "start_time": "2023-04-28T11:04:28.735Z"
      },
      {
        "duration": 15,
        "start_time": "2023-04-28T11:04:29.605Z"
      },
      {
        "duration": 21,
        "start_time": "2023-04-28T11:04:29.622Z"
      },
      {
        "duration": 131,
        "start_time": "2023-04-28T11:04:29.645Z"
      },
      {
        "duration": 107,
        "start_time": "2023-04-28T11:04:29.778Z"
      },
      {
        "duration": 553,
        "start_time": "2023-04-28T11:04:29.887Z"
      },
      {
        "duration": 86,
        "start_time": "2023-04-28T11:04:30.442Z"
      },
      {
        "duration": 11,
        "start_time": "2023-04-28T11:04:30.531Z"
      },
      {
        "duration": 60,
        "start_time": "2023-04-28T11:04:30.544Z"
      },
      {
        "duration": 58,
        "start_time": "2023-04-28T11:04:30.606Z"
      },
      {
        "duration": 44,
        "start_time": "2023-04-28T11:04:30.667Z"
      },
      {
        "duration": 38,
        "start_time": "2023-04-28T11:04:30.713Z"
      },
      {
        "duration": 78,
        "start_time": "2023-04-28T11:04:30.753Z"
      },
      {
        "duration": 232,
        "start_time": "2023-04-28T11:04:30.833Z"
      },
      {
        "duration": 31,
        "start_time": "2023-04-28T11:04:31.068Z"
      },
      {
        "duration": 80,
        "start_time": "2023-04-28T11:04:31.102Z"
      },
      {
        "duration": 51,
        "start_time": "2023-04-28T11:04:31.185Z"
      },
      {
        "duration": 70,
        "start_time": "2023-04-28T11:04:31.239Z"
      },
      {
        "duration": 29,
        "start_time": "2023-04-28T11:04:31.312Z"
      },
      {
        "duration": 42,
        "start_time": "2023-04-28T11:04:31.343Z"
      },
      {
        "duration": 67,
        "start_time": "2023-04-28T11:04:31.386Z"
      },
      {
        "duration": 331,
        "start_time": "2023-04-28T11:04:31.455Z"
      },
      {
        "duration": 31,
        "start_time": "2023-04-28T11:04:31.789Z"
      },
      {
        "duration": 72,
        "start_time": "2023-04-28T11:04:31.822Z"
      },
      {
        "duration": 23,
        "start_time": "2023-04-28T11:04:31.896Z"
      },
      {
        "duration": 51,
        "start_time": "2023-04-28T11:04:31.922Z"
      },
      {
        "duration": 28,
        "start_time": "2023-04-28T11:04:31.975Z"
      },
      {
        "duration": 82,
        "start_time": "2023-04-28T11:04:32.005Z"
      },
      {
        "duration": 3,
        "start_time": "2023-04-28T11:04:32.089Z"
      },
      {
        "duration": 138,
        "start_time": "2023-04-28T11:04:32.093Z"
      },
      {
        "duration": 557,
        "start_time": "2023-04-28T11:04:32.233Z"
      },
      {
        "duration": 5,
        "start_time": "2023-04-28T11:04:32.792Z"
      },
      {
        "duration": 122,
        "start_time": "2023-04-28T11:04:32.799Z"
      },
      {
        "duration": 22,
        "start_time": "2023-04-28T11:04:32.923Z"
      },
      {
        "duration": 12,
        "start_time": "2023-04-28T11:04:32.947Z"
      },
      {
        "duration": 24,
        "start_time": "2023-04-28T11:04:32.961Z"
      },
      {
        "duration": 4,
        "start_time": "2023-04-28T11:04:32.988Z"
      },
      {
        "duration": 25,
        "start_time": "2023-04-28T11:04:32.994Z"
      },
      {
        "duration": 16,
        "start_time": "2023-04-28T11:04:33.021Z"
      },
      {
        "duration": 18,
        "start_time": "2023-04-28T11:05:01.314Z"
      },
      {
        "duration": 14,
        "start_time": "2023-04-28T11:05:22.332Z"
      },
      {
        "duration": 17,
        "start_time": "2023-04-28T11:05:27.077Z"
      },
      {
        "duration": 2,
        "start_time": "2023-04-28T11:05:29.837Z"
      },
      {
        "duration": 8,
        "start_time": "2023-04-28T11:05:29.842Z"
      },
      {
        "duration": 855,
        "start_time": "2023-04-28T11:05:29.852Z"
      },
      {
        "duration": 19,
        "start_time": "2023-04-28T11:05:30.710Z"
      },
      {
        "duration": 61,
        "start_time": "2023-04-28T11:05:30.732Z"
      },
      {
        "duration": 175,
        "start_time": "2023-04-28T11:05:30.795Z"
      },
      {
        "duration": 109,
        "start_time": "2023-04-28T11:05:30.974Z"
      },
      {
        "duration": 542,
        "start_time": "2023-04-28T11:05:31.085Z"
      },
      {
        "duration": 94,
        "start_time": "2023-04-28T11:05:31.629Z"
      },
      {
        "duration": 86,
        "start_time": "2023-04-28T11:05:31.725Z"
      },
      {
        "duration": 75,
        "start_time": "2023-04-28T11:05:31.813Z"
      },
      {
        "duration": 51,
        "start_time": "2023-04-28T11:05:31.890Z"
      },
      {
        "duration": 35,
        "start_time": "2023-04-28T11:05:31.943Z"
      },
      {
        "duration": 30,
        "start_time": "2023-04-28T11:05:31.981Z"
      },
      {
        "duration": 61,
        "start_time": "2023-04-28T11:05:32.013Z"
      },
      {
        "duration": 219,
        "start_time": "2023-04-28T11:05:32.076Z"
      },
      {
        "duration": 26,
        "start_time": "2023-04-28T11:05:32.297Z"
      },
      {
        "duration": 58,
        "start_time": "2023-04-28T11:05:32.325Z"
      },
      {
        "duration": 28,
        "start_time": "2023-04-28T11:05:32.385Z"
      },
      {
        "duration": 47,
        "start_time": "2023-04-28T11:05:32.415Z"
      },
      {
        "duration": 33,
        "start_time": "2023-04-28T11:05:32.464Z"
      },
      {
        "duration": 63,
        "start_time": "2023-04-28T11:05:32.500Z"
      },
      {
        "duration": 32,
        "start_time": "2023-04-28T11:05:32.569Z"
      },
      {
        "duration": 282,
        "start_time": "2023-04-28T11:05:32.602Z"
      },
      {
        "duration": 29,
        "start_time": "2023-04-28T11:05:32.886Z"
      },
      {
        "duration": 35,
        "start_time": "2023-04-28T11:05:32.916Z"
      },
      {
        "duration": 20,
        "start_time": "2023-04-28T11:05:32.959Z"
      },
      {
        "duration": 23,
        "start_time": "2023-04-28T11:05:32.981Z"
      },
      {
        "duration": 33,
        "start_time": "2023-04-28T11:05:33.006Z"
      },
      {
        "duration": 62,
        "start_time": "2023-04-28T11:05:33.041Z"
      },
      {
        "duration": 3,
        "start_time": "2023-04-28T11:05:33.105Z"
      },
      {
        "duration": 130,
        "start_time": "2023-04-28T11:05:33.110Z"
      },
      {
        "duration": 574,
        "start_time": "2023-04-28T11:05:33.241Z"
      },
      {
        "duration": 0,
        "start_time": "2023-04-28T11:05:33.818Z"
      },
      {
        "duration": 0,
        "start_time": "2023-04-28T11:05:33.820Z"
      },
      {
        "duration": 0,
        "start_time": "2023-04-28T11:05:33.821Z"
      },
      {
        "duration": 0,
        "start_time": "2023-04-28T11:05:33.823Z"
      },
      {
        "duration": 0,
        "start_time": "2023-04-28T11:05:33.825Z"
      },
      {
        "duration": 0,
        "start_time": "2023-04-28T11:05:33.826Z"
      },
      {
        "duration": 0,
        "start_time": "2023-04-28T11:05:33.827Z"
      },
      {
        "duration": 0,
        "start_time": "2023-04-28T11:05:33.829Z"
      },
      {
        "duration": 6,
        "start_time": "2023-04-28T11:06:25.266Z"
      },
      {
        "duration": 7,
        "start_time": "2023-04-28T11:06:25.276Z"
      },
      {
        "duration": 815,
        "start_time": "2023-04-28T11:06:25.285Z"
      },
      {
        "duration": 17,
        "start_time": "2023-04-28T11:06:26.103Z"
      },
      {
        "duration": 5,
        "start_time": "2023-04-28T11:06:26.123Z"
      },
      {
        "duration": 142,
        "start_time": "2023-04-28T11:06:26.130Z"
      },
      {
        "duration": 101,
        "start_time": "2023-04-28T11:06:26.274Z"
      },
      {
        "duration": 514,
        "start_time": "2023-04-28T11:06:26.378Z"
      },
      {
        "duration": 81,
        "start_time": "2023-04-28T11:06:26.894Z"
      },
      {
        "duration": 5,
        "start_time": "2023-04-28T11:06:26.978Z"
      },
      {
        "duration": 7,
        "start_time": "2023-04-28T11:06:26.985Z"
      },
      {
        "duration": 28,
        "start_time": "2023-04-28T11:06:26.994Z"
      },
      {
        "duration": 54,
        "start_time": "2023-04-28T11:06:27.023Z"
      },
      {
        "duration": 17,
        "start_time": "2023-04-28T11:06:27.079Z"
      },
      {
        "duration": 16,
        "start_time": "2023-04-28T11:06:27.098Z"
      },
      {
        "duration": 168,
        "start_time": "2023-04-28T11:06:27.116Z"
      },
      {
        "duration": 29,
        "start_time": "2023-04-28T11:06:27.286Z"
      },
      {
        "duration": 58,
        "start_time": "2023-04-28T11:06:27.317Z"
      },
      {
        "duration": 28,
        "start_time": "2023-04-28T11:06:27.377Z"
      },
      {
        "duration": 60,
        "start_time": "2023-04-28T11:06:27.407Z"
      },
      {
        "duration": 28,
        "start_time": "2023-04-28T11:06:27.468Z"
      },
      {
        "duration": 31,
        "start_time": "2023-04-28T11:06:27.497Z"
      },
      {
        "duration": 50,
        "start_time": "2023-04-28T11:06:27.530Z"
      },
      {
        "duration": 265,
        "start_time": "2023-04-28T11:06:27.582Z"
      },
      {
        "duration": 34,
        "start_time": "2023-04-28T11:06:27.849Z"
      },
      {
        "duration": 26,
        "start_time": "2023-04-28T11:06:27.885Z"
      },
      {
        "duration": 15,
        "start_time": "2023-04-28T11:06:27.912Z"
      },
      {
        "duration": 44,
        "start_time": "2023-04-28T11:06:27.931Z"
      },
      {
        "duration": 16,
        "start_time": "2023-04-28T11:06:27.977Z"
      },
      {
        "duration": 83,
        "start_time": "2023-04-28T11:06:27.995Z"
      },
      {
        "duration": 3,
        "start_time": "2023-04-28T11:06:28.080Z"
      },
      {
        "duration": 141,
        "start_time": "2023-04-28T11:06:28.085Z"
      },
      {
        "duration": 522,
        "start_time": "2023-04-28T11:06:28.227Z"
      },
      {
        "duration": 30,
        "start_time": "2023-04-28T11:06:28.751Z"
      },
      {
        "duration": 107,
        "start_time": "2023-04-28T11:06:28.783Z"
      },
      {
        "duration": 28,
        "start_time": "2023-04-28T11:06:28.892Z"
      },
      {
        "duration": 3,
        "start_time": "2023-04-28T11:06:28.921Z"
      },
      {
        "duration": 4,
        "start_time": "2023-04-28T11:06:28.926Z"
      },
      {
        "duration": 31,
        "start_time": "2023-04-28T11:06:28.932Z"
      },
      {
        "duration": 5,
        "start_time": "2023-04-28T11:06:28.966Z"
      },
      {
        "duration": 10,
        "start_time": "2023-04-28T11:06:28.974Z"
      },
      {
        "duration": 3,
        "start_time": "2023-04-28T11:07:45.785Z"
      },
      {
        "duration": 9,
        "start_time": "2023-04-28T11:07:45.790Z"
      },
      {
        "duration": 752,
        "start_time": "2023-04-28T11:07:45.800Z"
      },
      {
        "duration": 24,
        "start_time": "2023-04-28T11:07:46.555Z"
      },
      {
        "duration": 7,
        "start_time": "2023-04-28T11:07:46.580Z"
      },
      {
        "duration": 119,
        "start_time": "2023-04-28T11:07:46.589Z"
      },
      {
        "duration": 100,
        "start_time": "2023-04-28T11:07:46.709Z"
      },
      {
        "duration": 497,
        "start_time": "2023-04-28T11:07:46.811Z"
      },
      {
        "duration": 81,
        "start_time": "2023-04-28T11:07:47.310Z"
      },
      {
        "duration": 6,
        "start_time": "2023-04-28T11:07:47.393Z"
      },
      {
        "duration": 6,
        "start_time": "2023-04-28T11:07:47.401Z"
      },
      {
        "duration": 56,
        "start_time": "2023-04-28T11:07:47.409Z"
      },
      {
        "duration": 35,
        "start_time": "2023-04-28T11:07:47.467Z"
      },
      {
        "duration": 20,
        "start_time": "2023-04-28T11:07:47.503Z"
      },
      {
        "duration": 49,
        "start_time": "2023-04-28T11:07:47.525Z"
      },
      {
        "duration": 140,
        "start_time": "2023-04-28T11:07:47.577Z"
      },
      {
        "duration": 24,
        "start_time": "2023-04-28T11:07:47.719Z"
      },
      {
        "duration": 47,
        "start_time": "2023-04-28T11:07:47.756Z"
      },
      {
        "duration": 26,
        "start_time": "2023-04-28T11:07:47.805Z"
      },
      {
        "duration": 44,
        "start_time": "2023-04-28T11:07:47.833Z"
      },
      {
        "duration": 26,
        "start_time": "2023-04-28T11:07:47.878Z"
      },
      {
        "duration": 35,
        "start_time": "2023-04-28T11:07:47.905Z"
      },
      {
        "duration": 41,
        "start_time": "2023-04-28T11:07:47.942Z"
      },
      {
        "duration": 265,
        "start_time": "2023-04-28T11:07:47.985Z"
      },
      {
        "duration": 37,
        "start_time": "2023-04-28T11:07:48.251Z"
      },
      {
        "duration": 23,
        "start_time": "2023-04-28T11:07:48.291Z"
      },
      {
        "duration": 15,
        "start_time": "2023-04-28T11:07:48.315Z"
      },
      {
        "duration": 35,
        "start_time": "2023-04-28T11:07:48.333Z"
      },
      {
        "duration": 14,
        "start_time": "2023-04-28T11:07:48.371Z"
      },
      {
        "duration": 82,
        "start_time": "2023-04-28T11:07:48.387Z"
      },
      {
        "duration": 3,
        "start_time": "2023-04-28T11:07:48.471Z"
      },
      {
        "duration": 121,
        "start_time": "2023-04-28T11:07:48.475Z"
      },
      {
        "duration": 523,
        "start_time": "2023-04-28T11:07:48.598Z"
      },
      {
        "duration": 0,
        "start_time": "2023-04-28T11:07:49.123Z"
      },
      {
        "duration": 0,
        "start_time": "2023-04-28T11:07:49.124Z"
      },
      {
        "duration": 0,
        "start_time": "2023-04-28T11:07:49.126Z"
      },
      {
        "duration": 0,
        "start_time": "2023-04-28T11:07:49.127Z"
      },
      {
        "duration": 0,
        "start_time": "2023-04-28T11:07:49.129Z"
      },
      {
        "duration": 0,
        "start_time": "2023-04-28T11:07:49.130Z"
      },
      {
        "duration": 0,
        "start_time": "2023-04-28T11:07:49.131Z"
      },
      {
        "duration": 0,
        "start_time": "2023-04-28T11:07:49.132Z"
      },
      {
        "duration": 5,
        "start_time": "2023-04-28T11:08:09.789Z"
      },
      {
        "duration": 2,
        "start_time": "2023-04-28T11:08:29.697Z"
      },
      {
        "duration": 18,
        "start_time": "2023-04-28T11:08:29.701Z"
      },
      {
        "duration": 938,
        "start_time": "2023-04-28T11:08:29.721Z"
      },
      {
        "duration": 19,
        "start_time": "2023-04-28T11:08:30.661Z"
      },
      {
        "duration": 27,
        "start_time": "2023-04-28T11:08:30.684Z"
      },
      {
        "duration": 209,
        "start_time": "2023-04-28T11:08:30.714Z"
      },
      {
        "duration": 154,
        "start_time": "2023-04-28T11:08:30.925Z"
      },
      {
        "duration": 510,
        "start_time": "2023-04-28T11:08:31.080Z"
      },
      {
        "duration": 84,
        "start_time": "2023-04-28T11:08:31.592Z"
      },
      {
        "duration": 22,
        "start_time": "2023-04-28T11:08:31.679Z"
      },
      {
        "duration": 37,
        "start_time": "2023-04-28T11:08:31.703Z"
      },
      {
        "duration": 36,
        "start_time": "2023-04-28T11:08:31.742Z"
      },
      {
        "duration": 52,
        "start_time": "2023-04-28T11:08:31.779Z"
      },
      {
        "duration": 34,
        "start_time": "2023-04-28T11:08:31.834Z"
      },
      {
        "duration": 47,
        "start_time": "2023-04-28T11:08:31.871Z"
      },
      {
        "duration": 158,
        "start_time": "2023-04-28T11:08:31.921Z"
      },
      {
        "duration": 27,
        "start_time": "2023-04-28T11:08:32.080Z"
      },
      {
        "duration": 69,
        "start_time": "2023-04-28T11:08:32.108Z"
      },
      {
        "duration": 34,
        "start_time": "2023-04-28T11:08:32.179Z"
      },
      {
        "duration": 49,
        "start_time": "2023-04-28T11:08:32.216Z"
      },
      {
        "duration": 31,
        "start_time": "2023-04-28T11:08:32.267Z"
      },
      {
        "duration": 30,
        "start_time": "2023-04-28T11:08:32.300Z"
      },
      {
        "duration": 47,
        "start_time": "2023-04-28T11:08:32.332Z"
      },
      {
        "duration": 307,
        "start_time": "2023-04-28T11:08:32.381Z"
      },
      {
        "duration": 26,
        "start_time": "2023-04-28T11:08:32.689Z"
      },
      {
        "duration": 29,
        "start_time": "2023-04-28T11:08:32.717Z"
      },
      {
        "duration": 29,
        "start_time": "2023-04-28T11:08:32.748Z"
      },
      {
        "duration": 10,
        "start_time": "2023-04-28T11:08:32.779Z"
      },
      {
        "duration": 18,
        "start_time": "2023-04-28T11:08:32.791Z"
      },
      {
        "duration": 62,
        "start_time": "2023-04-28T11:08:32.811Z"
      },
      {
        "duration": 3,
        "start_time": "2023-04-28T11:08:32.875Z"
      },
      {
        "duration": 123,
        "start_time": "2023-04-28T11:08:32.880Z"
      },
      {
        "duration": 644,
        "start_time": "2023-04-28T11:08:33.004Z"
      },
      {
        "duration": 14,
        "start_time": "2023-04-28T11:08:33.650Z"
      },
      {
        "duration": 105,
        "start_time": "2023-04-28T11:08:33.666Z"
      },
      {
        "duration": 27,
        "start_time": "2023-04-28T11:08:33.776Z"
      },
      {
        "duration": 4,
        "start_time": "2023-04-28T11:08:33.805Z"
      },
      {
        "duration": 13,
        "start_time": "2023-04-28T11:08:33.810Z"
      },
      {
        "duration": 19,
        "start_time": "2023-04-28T11:08:33.825Z"
      },
      {
        "duration": 11,
        "start_time": "2023-04-28T11:08:33.846Z"
      },
      {
        "duration": 8,
        "start_time": "2023-04-28T11:08:33.861Z"
      },
      {
        "duration": 8,
        "start_time": "2023-04-28T11:08:43.555Z"
      },
      {
        "duration": 21,
        "start_time": "2023-04-28T11:09:37.781Z"
      },
      {
        "duration": 15,
        "start_time": "2023-04-28T11:09:43.283Z"
      },
      {
        "duration": 16,
        "start_time": "2023-04-28T11:09:52.198Z"
      },
      {
        "duration": 3,
        "start_time": "2023-04-28T11:10:01.319Z"
      },
      {
        "duration": 47,
        "start_time": "2023-04-28T11:10:01.325Z"
      },
      {
        "duration": 1017,
        "start_time": "2023-04-28T11:10:01.374Z"
      },
      {
        "duration": 15,
        "start_time": "2023-04-28T11:10:02.393Z"
      },
      {
        "duration": 50,
        "start_time": "2023-04-28T11:10:02.410Z"
      },
      {
        "duration": 227,
        "start_time": "2023-04-28T11:10:02.461Z"
      },
      {
        "duration": 322,
        "start_time": "2023-04-28T11:10:02.690Z"
      },
      {
        "duration": 588,
        "start_time": "2023-04-28T11:10:03.014Z"
      },
      {
        "duration": 97,
        "start_time": "2023-04-28T11:10:03.603Z"
      },
      {
        "duration": 6,
        "start_time": "2023-04-28T11:10:03.703Z"
      },
      {
        "duration": 39,
        "start_time": "2023-04-28T11:10:03.711Z"
      },
      {
        "duration": 41,
        "start_time": "2023-04-28T11:10:03.753Z"
      },
      {
        "duration": 43,
        "start_time": "2023-04-28T11:10:03.796Z"
      },
      {
        "duration": 29,
        "start_time": "2023-04-28T11:10:03.841Z"
      },
      {
        "duration": 56,
        "start_time": "2023-04-28T11:10:03.872Z"
      },
      {
        "duration": 191,
        "start_time": "2023-04-28T11:10:03.930Z"
      },
      {
        "duration": 50,
        "start_time": "2023-04-28T11:10:04.123Z"
      },
      {
        "duration": 55,
        "start_time": "2023-04-28T11:10:04.175Z"
      },
      {
        "duration": 51,
        "start_time": "2023-04-28T11:10:04.232Z"
      },
      {
        "duration": 59,
        "start_time": "2023-04-28T11:10:04.286Z"
      },
      {
        "duration": 44,
        "start_time": "2023-04-28T11:10:04.347Z"
      },
      {
        "duration": 35,
        "start_time": "2023-04-28T11:10:04.393Z"
      },
      {
        "duration": 51,
        "start_time": "2023-04-28T11:10:04.430Z"
      },
      {
        "duration": 340,
        "start_time": "2023-04-28T11:10:04.483Z"
      },
      {
        "duration": 37,
        "start_time": "2023-04-28T11:10:04.825Z"
      },
      {
        "duration": 41,
        "start_time": "2023-04-28T11:10:04.870Z"
      },
      {
        "duration": 24,
        "start_time": "2023-04-28T11:10:04.913Z"
      },
      {
        "duration": 34,
        "start_time": "2023-04-28T11:10:04.942Z"
      },
      {
        "duration": 28,
        "start_time": "2023-04-28T11:10:04.979Z"
      },
      {
        "duration": 89,
        "start_time": "2023-04-28T11:10:05.009Z"
      },
      {
        "duration": 4,
        "start_time": "2023-04-28T11:10:05.100Z"
      },
      {
        "duration": 173,
        "start_time": "2023-04-28T11:10:05.107Z"
      },
      {
        "duration": 550,
        "start_time": "2023-04-28T11:10:05.282Z"
      },
      {
        "duration": 6,
        "start_time": "2023-04-28T11:10:05.834Z"
      },
      {
        "duration": 102,
        "start_time": "2023-04-28T11:10:05.846Z"
      },
      {
        "duration": 28,
        "start_time": "2023-04-28T11:10:05.950Z"
      },
      {
        "duration": 24,
        "start_time": "2023-04-28T11:10:05.981Z"
      },
      {
        "duration": 26,
        "start_time": "2023-04-28T11:10:06.007Z"
      },
      {
        "duration": 39,
        "start_time": "2023-04-28T11:10:06.035Z"
      },
      {
        "duration": 38,
        "start_time": "2023-04-28T11:10:06.076Z"
      },
      {
        "duration": 8,
        "start_time": "2023-04-28T11:10:06.116Z"
      },
      {
        "duration": 29,
        "start_time": "2023-04-28T11:10:44.694Z"
      },
      {
        "duration": 18,
        "start_time": "2023-04-28T11:11:07.810Z"
      },
      {
        "duration": 21,
        "start_time": "2023-04-28T11:11:13.915Z"
      },
      {
        "duration": 5,
        "start_time": "2023-04-28T11:11:29.475Z"
      },
      {
        "duration": 3,
        "start_time": "2023-04-28T11:12:24.479Z"
      },
      {
        "duration": 27,
        "start_time": "2023-04-28T11:12:24.484Z"
      },
      {
        "duration": 919,
        "start_time": "2023-04-28T11:12:24.513Z"
      },
      {
        "duration": 22,
        "start_time": "2023-04-28T11:12:25.435Z"
      },
      {
        "duration": 21,
        "start_time": "2023-04-28T11:12:25.459Z"
      },
      {
        "duration": 161,
        "start_time": "2023-04-28T11:12:25.481Z"
      },
      {
        "duration": 106,
        "start_time": "2023-04-28T11:12:25.644Z"
      },
      {
        "duration": 652,
        "start_time": "2023-04-28T11:12:25.756Z"
      },
      {
        "duration": 94,
        "start_time": "2023-04-28T11:12:26.412Z"
      },
      {
        "duration": 9,
        "start_time": "2023-04-28T11:12:26.510Z"
      },
      {
        "duration": 32,
        "start_time": "2023-04-28T11:12:26.522Z"
      },
      {
        "duration": 56,
        "start_time": "2023-04-28T11:12:26.561Z"
      },
      {
        "duration": 64,
        "start_time": "2023-04-28T11:12:26.619Z"
      },
      {
        "duration": 22,
        "start_time": "2023-04-28T11:12:26.685Z"
      },
      {
        "duration": 29,
        "start_time": "2023-04-28T11:12:26.709Z"
      },
      {
        "duration": 190,
        "start_time": "2023-04-28T11:12:26.740Z"
      },
      {
        "duration": 45,
        "start_time": "2023-04-28T11:12:26.933Z"
      },
      {
        "duration": 42,
        "start_time": "2023-04-28T11:12:26.980Z"
      },
      {
        "duration": 61,
        "start_time": "2023-04-28T11:12:27.024Z"
      },
      {
        "duration": 32,
        "start_time": "2023-04-28T11:12:27.087Z"
      },
      {
        "duration": 58,
        "start_time": "2023-04-28T11:12:27.121Z"
      },
      {
        "duration": 43,
        "start_time": "2023-04-28T11:12:27.181Z"
      },
      {
        "duration": 50,
        "start_time": "2023-04-28T11:12:27.226Z"
      },
      {
        "duration": 402,
        "start_time": "2023-04-28T11:12:27.278Z"
      },
      {
        "duration": 40,
        "start_time": "2023-04-28T11:12:27.682Z"
      },
      {
        "duration": 49,
        "start_time": "2023-04-28T11:12:27.725Z"
      },
      {
        "duration": 24,
        "start_time": "2023-04-28T11:12:27.777Z"
      },
      {
        "duration": 16,
        "start_time": "2023-04-28T11:12:27.806Z"
      },
      {
        "duration": 52,
        "start_time": "2023-04-28T11:12:27.824Z"
      },
      {
        "duration": 81,
        "start_time": "2023-04-28T11:12:27.878Z"
      },
      {
        "duration": 7,
        "start_time": "2023-04-28T11:12:27.961Z"
      },
      {
        "duration": 121,
        "start_time": "2023-04-28T11:12:27.977Z"
      },
      {
        "duration": 697,
        "start_time": "2023-04-28T11:12:28.101Z"
      },
      {
        "duration": 25,
        "start_time": "2023-04-28T11:12:28.800Z"
      },
      {
        "duration": 5,
        "start_time": "2023-04-28T11:12:28.827Z"
      },
      {
        "duration": 11,
        "start_time": "2023-04-28T11:12:28.834Z"
      },
      {
        "duration": 4,
        "start_time": "2023-04-28T11:12:28.856Z"
      },
      {
        "duration": 5,
        "start_time": "2023-04-28T11:12:28.866Z"
      },
      {
        "duration": 5,
        "start_time": "2023-04-28T11:12:28.873Z"
      },
      {
        "duration": 16,
        "start_time": "2023-04-28T11:12:28.880Z"
      },
      {
        "duration": 5,
        "start_time": "2023-04-28T11:12:28.898Z"
      },
      {
        "duration": 7,
        "start_time": "2023-04-28T11:12:28.905Z"
      },
      {
        "duration": 3,
        "start_time": "2023-04-28T11:12:58.237Z"
      },
      {
        "duration": 10,
        "start_time": "2023-04-28T11:12:58.242Z"
      },
      {
        "duration": 839,
        "start_time": "2023-04-28T11:12:58.254Z"
      },
      {
        "duration": 16,
        "start_time": "2023-04-28T11:12:59.095Z"
      },
      {
        "duration": 3,
        "start_time": "2023-04-28T11:12:59.113Z"
      },
      {
        "duration": 138,
        "start_time": "2023-04-28T11:12:59.118Z"
      },
      {
        "duration": 116,
        "start_time": "2023-04-28T11:12:59.260Z"
      },
      {
        "duration": 635,
        "start_time": "2023-04-28T11:12:59.378Z"
      },
      {
        "duration": 85,
        "start_time": "2023-04-28T11:13:00.015Z"
      },
      {
        "duration": 8,
        "start_time": "2023-04-28T11:13:00.103Z"
      },
      {
        "duration": 29,
        "start_time": "2023-04-28T11:13:00.113Z"
      },
      {
        "duration": 38,
        "start_time": "2023-04-28T11:13:00.144Z"
      },
      {
        "duration": 38,
        "start_time": "2023-04-28T11:13:00.185Z"
      },
      {
        "duration": 53,
        "start_time": "2023-04-28T11:13:00.224Z"
      },
      {
        "duration": 17,
        "start_time": "2023-04-28T11:13:00.279Z"
      },
      {
        "duration": 191,
        "start_time": "2023-04-28T11:13:00.299Z"
      },
      {
        "duration": 26,
        "start_time": "2023-04-28T11:13:00.492Z"
      },
      {
        "duration": 58,
        "start_time": "2023-04-28T11:13:00.520Z"
      },
      {
        "duration": 29,
        "start_time": "2023-04-28T11:13:00.579Z"
      },
      {
        "duration": 59,
        "start_time": "2023-04-28T11:13:00.611Z"
      },
      {
        "duration": 32,
        "start_time": "2023-04-28T11:13:00.674Z"
      },
      {
        "duration": 39,
        "start_time": "2023-04-28T11:13:00.708Z"
      },
      {
        "duration": 41,
        "start_time": "2023-04-28T11:13:00.749Z"
      },
      {
        "duration": 398,
        "start_time": "2023-04-28T11:13:00.793Z"
      },
      {
        "duration": 45,
        "start_time": "2023-04-28T11:13:01.194Z"
      },
      {
        "duration": 105,
        "start_time": "2023-04-28T11:13:01.242Z"
      },
      {
        "duration": 61,
        "start_time": "2023-04-28T11:13:01.350Z"
      },
      {
        "duration": 76,
        "start_time": "2023-04-28T11:13:01.416Z"
      },
      {
        "duration": 69,
        "start_time": "2023-04-28T11:13:01.494Z"
      },
      {
        "duration": 116,
        "start_time": "2023-04-28T11:13:01.564Z"
      },
      {
        "duration": 4,
        "start_time": "2023-04-28T11:13:01.683Z"
      },
      {
        "duration": 221,
        "start_time": "2023-04-28T11:13:01.690Z"
      },
      {
        "duration": 769,
        "start_time": "2023-04-28T11:13:01.913Z"
      },
      {
        "duration": 0,
        "start_time": "2023-04-28T11:13:02.683Z"
      },
      {
        "duration": 0,
        "start_time": "2023-04-28T11:13:02.685Z"
      },
      {
        "duration": 0,
        "start_time": "2023-04-28T11:13:02.686Z"
      },
      {
        "duration": 0,
        "start_time": "2023-04-28T11:13:02.688Z"
      },
      {
        "duration": 0,
        "start_time": "2023-04-28T11:13:02.690Z"
      },
      {
        "duration": 0,
        "start_time": "2023-04-28T11:13:02.691Z"
      },
      {
        "duration": 0,
        "start_time": "2023-04-28T11:13:02.693Z"
      },
      {
        "duration": 0,
        "start_time": "2023-04-28T11:13:02.694Z"
      },
      {
        "duration": 0,
        "start_time": "2023-04-28T11:13:02.695Z"
      },
      {
        "duration": 4,
        "start_time": "2023-04-28T11:13:25.707Z"
      },
      {
        "duration": 9,
        "start_time": "2023-04-28T11:13:25.714Z"
      },
      {
        "duration": 964,
        "start_time": "2023-04-28T11:13:25.725Z"
      },
      {
        "duration": 15,
        "start_time": "2023-04-28T11:13:26.694Z"
      },
      {
        "duration": 13,
        "start_time": "2023-04-28T11:13:26.712Z"
      },
      {
        "duration": 157,
        "start_time": "2023-04-28T11:13:26.727Z"
      },
      {
        "duration": 126,
        "start_time": "2023-04-28T11:13:26.885Z"
      },
      {
        "duration": 537,
        "start_time": "2023-04-28T11:13:27.012Z"
      },
      {
        "duration": 83,
        "start_time": "2023-04-28T11:13:27.551Z"
      },
      {
        "duration": 28,
        "start_time": "2023-04-28T11:13:27.636Z"
      },
      {
        "duration": 27,
        "start_time": "2023-04-28T11:13:27.666Z"
      },
      {
        "duration": 23,
        "start_time": "2023-04-28T11:13:27.695Z"
      },
      {
        "duration": 28,
        "start_time": "2023-04-28T11:13:27.720Z"
      },
      {
        "duration": 29,
        "start_time": "2023-04-28T11:13:27.755Z"
      },
      {
        "duration": 16,
        "start_time": "2023-04-28T11:13:27.787Z"
      },
      {
        "duration": 201,
        "start_time": "2023-04-28T11:13:27.806Z"
      },
      {
        "duration": 26,
        "start_time": "2023-04-28T11:13:28.009Z"
      },
      {
        "duration": 54,
        "start_time": "2023-04-28T11:13:28.037Z"
      },
      {
        "duration": 27,
        "start_time": "2023-04-28T11:13:28.092Z"
      },
      {
        "duration": 61,
        "start_time": "2023-04-28T11:13:28.120Z"
      },
      {
        "duration": 32,
        "start_time": "2023-04-28T11:13:28.186Z"
      },
      {
        "duration": 46,
        "start_time": "2023-04-28T11:13:28.219Z"
      },
      {
        "duration": 27,
        "start_time": "2023-04-28T11:13:28.271Z"
      },
      {
        "duration": 271,
        "start_time": "2023-04-28T11:13:28.300Z"
      },
      {
        "duration": 29,
        "start_time": "2023-04-28T11:13:28.573Z"
      },
      {
        "duration": 28,
        "start_time": "2023-04-28T11:13:28.604Z"
      },
      {
        "duration": 40,
        "start_time": "2023-04-28T11:13:28.634Z"
      },
      {
        "duration": 10,
        "start_time": "2023-04-28T11:13:28.677Z"
      },
      {
        "duration": 19,
        "start_time": "2023-04-28T11:13:28.689Z"
      },
      {
        "duration": 86,
        "start_time": "2023-04-28T11:13:28.710Z"
      },
      {
        "duration": 3,
        "start_time": "2023-04-28T11:13:28.798Z"
      },
      {
        "duration": 137,
        "start_time": "2023-04-28T11:13:28.803Z"
      },
      {
        "duration": 603,
        "start_time": "2023-04-28T11:13:28.942Z"
      },
      {
        "duration": 3,
        "start_time": "2023-04-28T11:13:29.547Z"
      },
      {
        "duration": 29,
        "start_time": "2023-04-28T11:13:29.551Z"
      },
      {
        "duration": 21,
        "start_time": "2023-04-28T11:13:29.583Z"
      },
      {
        "duration": 11,
        "start_time": "2023-04-28T11:13:29.606Z"
      },
      {
        "duration": 15,
        "start_time": "2023-04-28T11:13:29.618Z"
      },
      {
        "duration": 9,
        "start_time": "2023-04-28T11:13:29.634Z"
      },
      {
        "duration": 4,
        "start_time": "2023-04-28T11:13:29.645Z"
      },
      {
        "duration": 10,
        "start_time": "2023-04-28T11:13:29.653Z"
      },
      {
        "duration": 13,
        "start_time": "2023-04-28T11:13:29.665Z"
      },
      {
        "duration": 6,
        "start_time": "2023-04-28T11:13:34.782Z"
      },
      {
        "duration": 27,
        "start_time": "2023-04-28T11:13:38.378Z"
      },
      {
        "duration": 2,
        "start_time": "2023-04-28T11:13:54.299Z"
      },
      {
        "duration": 30,
        "start_time": "2023-04-28T11:13:54.304Z"
      },
      {
        "duration": 828,
        "start_time": "2023-04-28T11:13:54.337Z"
      },
      {
        "duration": 14,
        "start_time": "2023-04-28T11:13:55.173Z"
      },
      {
        "duration": 11,
        "start_time": "2023-04-28T11:13:55.190Z"
      },
      {
        "duration": 131,
        "start_time": "2023-04-28T11:13:55.203Z"
      },
      {
        "duration": 123,
        "start_time": "2023-04-28T11:13:55.336Z"
      },
      {
        "duration": 633,
        "start_time": "2023-04-28T11:13:55.468Z"
      },
      {
        "duration": 83,
        "start_time": "2023-04-28T11:13:56.103Z"
      },
      {
        "duration": 7,
        "start_time": "2023-04-28T11:13:56.189Z"
      },
      {
        "duration": 10,
        "start_time": "2023-04-28T11:13:56.198Z"
      },
      {
        "duration": 60,
        "start_time": "2023-04-28T11:13:56.210Z"
      },
      {
        "duration": 41,
        "start_time": "2023-04-28T11:13:56.272Z"
      },
      {
        "duration": 26,
        "start_time": "2023-04-28T11:13:56.318Z"
      },
      {
        "duration": 22,
        "start_time": "2023-04-28T11:13:56.358Z"
      },
      {
        "duration": 156,
        "start_time": "2023-04-28T11:13:56.382Z"
      },
      {
        "duration": 44,
        "start_time": "2023-04-28T11:13:56.539Z"
      },
      {
        "duration": 40,
        "start_time": "2023-04-28T11:13:56.585Z"
      },
      {
        "duration": 42,
        "start_time": "2023-04-28T11:13:56.627Z"
      },
      {
        "duration": 41,
        "start_time": "2023-04-28T11:13:56.679Z"
      },
      {
        "duration": 49,
        "start_time": "2023-04-28T11:13:56.722Z"
      },
      {
        "duration": 34,
        "start_time": "2023-04-28T11:13:56.772Z"
      },
      {
        "duration": 26,
        "start_time": "2023-04-28T11:13:56.808Z"
      },
      {
        "duration": 309,
        "start_time": "2023-04-28T11:13:56.836Z"
      },
      {
        "duration": 38,
        "start_time": "2023-04-28T11:13:57.146Z"
      },
      {
        "duration": 35,
        "start_time": "2023-04-28T11:13:57.186Z"
      },
      {
        "duration": 36,
        "start_time": "2023-04-28T11:13:57.223Z"
      },
      {
        "duration": 17,
        "start_time": "2023-04-28T11:13:57.265Z"
      },
      {
        "duration": 16,
        "start_time": "2023-04-28T11:13:57.284Z"
      },
      {
        "duration": 95,
        "start_time": "2023-04-28T11:13:57.302Z"
      },
      {
        "duration": 5,
        "start_time": "2023-04-28T11:13:57.399Z"
      },
      {
        "duration": 12,
        "start_time": "2023-04-28T11:13:57.406Z"
      },
      {
        "duration": 16,
        "start_time": "2023-04-28T11:13:57.421Z"
      },
      {
        "duration": 32,
        "start_time": "2023-04-28T11:13:57.439Z"
      },
      {
        "duration": 30,
        "start_time": "2023-04-28T11:13:57.475Z"
      },
      {
        "duration": 11,
        "start_time": "2023-04-28T11:13:57.507Z"
      },
      {
        "duration": 13,
        "start_time": "2023-04-28T11:13:57.520Z"
      },
      {
        "duration": 3,
        "start_time": "2023-04-28T11:13:57.536Z"
      },
      {
        "duration": 10,
        "start_time": "2023-04-28T11:13:57.541Z"
      },
      {
        "duration": 9,
        "start_time": "2023-04-28T11:13:57.553Z"
      },
      {
        "duration": 10,
        "start_time": "2023-04-28T11:13:57.566Z"
      },
      {
        "duration": 11,
        "start_time": "2023-04-28T11:13:57.579Z"
      },
      {
        "duration": 29,
        "start_time": "2023-04-28T11:14:22.337Z"
      },
      {
        "duration": 1110,
        "start_time": "2023-04-28T11:15:07.432Z"
      },
      {
        "duration": 28,
        "start_time": "2023-04-28T11:15:13.842Z"
      },
      {
        "duration": 31,
        "start_time": "2023-04-28T11:15:21.377Z"
      },
      {
        "duration": 47,
        "start_time": "2023-04-28T11:22:15.182Z"
      },
      {
        "duration": 18,
        "start_time": "2023-04-28T11:22:26.910Z"
      },
      {
        "duration": 34,
        "start_time": "2023-04-28T11:22:32.052Z"
      },
      {
        "duration": 23,
        "start_time": "2023-04-28T11:22:33.903Z"
      },
      {
        "duration": 146,
        "start_time": "2023-04-28T11:22:36.398Z"
      },
      {
        "duration": 95,
        "start_time": "2023-04-28T11:22:45.551Z"
      },
      {
        "duration": 28,
        "start_time": "2023-04-28T11:22:48.143Z"
      },
      {
        "duration": 50,
        "start_time": "2023-04-28T11:22:58.079Z"
      },
      {
        "duration": 102,
        "start_time": "2023-04-28T11:23:00.799Z"
      },
      {
        "duration": 5,
        "start_time": "2023-04-28T11:25:06.028Z"
      },
      {
        "duration": 4,
        "start_time": "2023-04-28T11:25:13.710Z"
      },
      {
        "duration": 804,
        "start_time": "2023-04-28T11:25:16.494Z"
      },
      {
        "duration": 21,
        "start_time": "2023-04-28T11:25:21.138Z"
      },
      {
        "duration": 3,
        "start_time": "2023-04-28T11:25:59.212Z"
      },
      {
        "duration": 8,
        "start_time": "2023-04-28T11:25:59.217Z"
      },
      {
        "duration": 871,
        "start_time": "2023-04-28T11:25:59.227Z"
      },
      {
        "duration": 13,
        "start_time": "2023-04-28T11:26:00.100Z"
      },
      {
        "duration": 13,
        "start_time": "2023-04-28T11:26:00.115Z"
      },
      {
        "duration": 138,
        "start_time": "2023-04-28T11:26:00.130Z"
      },
      {
        "duration": 131,
        "start_time": "2023-04-28T11:26:00.270Z"
      },
      {
        "duration": 604,
        "start_time": "2023-04-28T11:26:00.403Z"
      },
      {
        "duration": 89,
        "start_time": "2023-04-28T11:26:01.010Z"
      },
      {
        "duration": 36,
        "start_time": "2023-04-28T11:26:01.101Z"
      },
      {
        "duration": 59,
        "start_time": "2023-04-28T11:26:01.139Z"
      },
      {
        "duration": 61,
        "start_time": "2023-04-28T11:26:01.200Z"
      },
      {
        "duration": 34,
        "start_time": "2023-04-28T11:26:01.263Z"
      },
      {
        "duration": 36,
        "start_time": "2023-04-28T11:26:01.299Z"
      },
      {
        "duration": 45,
        "start_time": "2023-04-28T11:26:01.337Z"
      },
      {
        "duration": 192,
        "start_time": "2023-04-28T11:26:01.384Z"
      },
      {
        "duration": 28,
        "start_time": "2023-04-28T11:26:01.578Z"
      },
      {
        "duration": 63,
        "start_time": "2023-04-28T11:26:01.608Z"
      },
      {
        "duration": 28,
        "start_time": "2023-04-28T11:26:01.673Z"
      },
      {
        "duration": 69,
        "start_time": "2023-04-28T11:26:01.704Z"
      },
      {
        "duration": 86,
        "start_time": "2023-04-28T11:26:01.775Z"
      },
      {
        "duration": 48,
        "start_time": "2023-04-28T11:26:01.865Z"
      },
      {
        "duration": 60,
        "start_time": "2023-04-28T11:26:01.915Z"
      },
      {
        "duration": 348,
        "start_time": "2023-04-28T11:26:01.978Z"
      },
      {
        "duration": 43,
        "start_time": "2023-04-28T11:26:02.328Z"
      },
      {
        "duration": 60,
        "start_time": "2023-04-28T11:26:02.374Z"
      },
      {
        "duration": 38,
        "start_time": "2023-04-28T11:26:02.436Z"
      },
      {
        "duration": 110,
        "start_time": "2023-04-28T11:26:02.475Z"
      },
      {
        "duration": 29,
        "start_time": "2023-04-28T11:26:02.587Z"
      },
      {
        "duration": 74,
        "start_time": "2023-04-28T11:26:02.618Z"
      },
      {
        "duration": 16,
        "start_time": "2023-04-28T11:26:02.694Z"
      },
      {
        "duration": 12,
        "start_time": "2023-04-28T11:26:02.712Z"
      },
      {
        "duration": 28,
        "start_time": "2023-04-28T11:26:02.726Z"
      },
      {
        "duration": 24,
        "start_time": "2023-04-28T11:26:02.760Z"
      },
      {
        "duration": 13,
        "start_time": "2023-04-28T11:26:02.786Z"
      },
      {
        "duration": 20,
        "start_time": "2023-04-28T11:26:02.801Z"
      },
      {
        "duration": 24,
        "start_time": "2023-04-28T11:26:02.822Z"
      },
      {
        "duration": 16,
        "start_time": "2023-04-28T11:26:02.848Z"
      },
      {
        "duration": 11,
        "start_time": "2023-04-28T11:26:02.865Z"
      },
      {
        "duration": 17,
        "start_time": "2023-04-28T11:26:02.878Z"
      },
      {
        "duration": 6,
        "start_time": "2023-04-28T11:26:02.897Z"
      },
      {
        "duration": 9,
        "start_time": "2023-04-28T11:26:02.905Z"
      },
      {
        "duration": 8,
        "start_time": "2023-04-28T11:26:02.915Z"
      },
      {
        "duration": 3,
        "start_time": "2023-04-28T11:28:13.704Z"
      },
      {
        "duration": 124,
        "start_time": "2023-04-28T11:28:14.246Z"
      },
      {
        "duration": 536,
        "start_time": "2023-04-28T11:28:15.372Z"
      },
      {
        "duration": 42,
        "start_time": "2023-04-28T11:28:24.938Z"
      },
      {
        "duration": 23,
        "start_time": "2023-04-28T11:28:26.987Z"
      },
      {
        "duration": 3,
        "start_time": "2023-04-28T11:28:59.013Z"
      },
      {
        "duration": 10,
        "start_time": "2023-04-28T11:28:59.018Z"
      },
      {
        "duration": 786,
        "start_time": "2023-04-28T11:28:59.030Z"
      },
      {
        "duration": 13,
        "start_time": "2023-04-28T11:28:59.817Z"
      },
      {
        "duration": 4,
        "start_time": "2023-04-28T11:28:59.833Z"
      },
      {
        "duration": 125,
        "start_time": "2023-04-28T11:28:59.838Z"
      },
      {
        "duration": 105,
        "start_time": "2023-04-28T11:28:59.965Z"
      },
      {
        "duration": 519,
        "start_time": "2023-04-28T11:29:00.072Z"
      },
      {
        "duration": 97,
        "start_time": "2023-04-28T11:29:00.593Z"
      },
      {
        "duration": 7,
        "start_time": "2023-04-28T11:29:00.692Z"
      },
      {
        "duration": 27,
        "start_time": "2023-04-28T11:29:00.701Z"
      },
      {
        "duration": 42,
        "start_time": "2023-04-28T11:29:00.730Z"
      },
      {
        "duration": 31,
        "start_time": "2023-04-28T11:29:00.774Z"
      },
      {
        "duration": 45,
        "start_time": "2023-04-28T11:29:00.809Z"
      },
      {
        "duration": 52,
        "start_time": "2023-04-28T11:29:00.856Z"
      },
      {
        "duration": 182,
        "start_time": "2023-04-28T11:29:00.910Z"
      },
      {
        "duration": 28,
        "start_time": "2023-04-28T11:29:01.094Z"
      },
      {
        "duration": 60,
        "start_time": "2023-04-28T11:29:01.124Z"
      },
      {
        "duration": 29,
        "start_time": "2023-04-28T11:29:01.186Z"
      },
      {
        "duration": 56,
        "start_time": "2023-04-28T11:29:01.217Z"
      },
      {
        "duration": 33,
        "start_time": "2023-04-28T11:29:01.276Z"
      },
      {
        "duration": 101,
        "start_time": "2023-04-28T11:29:01.311Z"
      },
      {
        "duration": 57,
        "start_time": "2023-04-28T11:29:01.414Z"
      },
      {
        "duration": 353,
        "start_time": "2023-04-28T11:29:01.474Z"
      },
      {
        "duration": 43,
        "start_time": "2023-04-28T11:29:01.829Z"
      },
      {
        "duration": 60,
        "start_time": "2023-04-28T11:29:01.874Z"
      },
      {
        "duration": 48,
        "start_time": "2023-04-28T11:29:01.936Z"
      },
      {
        "duration": 48,
        "start_time": "2023-04-28T11:29:01.986Z"
      },
      {
        "duration": 51,
        "start_time": "2023-04-28T11:29:02.037Z"
      },
      {
        "duration": 126,
        "start_time": "2023-04-28T11:29:02.089Z"
      },
      {
        "duration": 18,
        "start_time": "2023-04-28T11:29:02.220Z"
      },
      {
        "duration": 34,
        "start_time": "2023-04-28T11:29:02.240Z"
      },
      {
        "duration": 159,
        "start_time": "2023-04-28T11:29:02.277Z"
      },
      {
        "duration": 510,
        "start_time": "2023-04-28T11:29:02.438Z"
      },
      {
        "duration": 10,
        "start_time": "2023-04-28T11:29:02.950Z"
      },
      {
        "duration": 2,
        "start_time": "2023-04-28T11:29:02.973Z"
      },
      {
        "duration": 91,
        "start_time": "2023-04-28T11:29:02.977Z"
      },
      {
        "duration": 13,
        "start_time": "2023-04-28T11:29:03.071Z"
      },
      {
        "duration": 21,
        "start_time": "2023-04-28T11:29:03.086Z"
      },
      {
        "duration": 34,
        "start_time": "2023-04-28T11:29:03.108Z"
      },
      {
        "duration": 52,
        "start_time": "2023-04-28T11:29:03.146Z"
      },
      {
        "duration": 21,
        "start_time": "2023-04-28T11:29:03.199Z"
      },
      {
        "duration": 28,
        "start_time": "2023-04-28T11:29:03.222Z"
      },
      {
        "duration": 151,
        "start_time": "2023-04-28T11:29:37.948Z"
      },
      {
        "duration": 3,
        "start_time": "2023-04-28T11:33:36.078Z"
      },
      {
        "duration": 9,
        "start_time": "2023-04-28T11:33:36.082Z"
      },
      {
        "duration": 791,
        "start_time": "2023-04-28T11:33:36.093Z"
      },
      {
        "duration": 13,
        "start_time": "2023-04-28T11:33:36.886Z"
      },
      {
        "duration": 22,
        "start_time": "2023-04-28T11:33:36.901Z"
      },
      {
        "duration": 160,
        "start_time": "2023-04-28T11:33:36.925Z"
      },
      {
        "duration": 107,
        "start_time": "2023-04-28T11:33:37.087Z"
      },
      {
        "duration": 529,
        "start_time": "2023-04-28T11:33:37.197Z"
      },
      {
        "duration": 88,
        "start_time": "2023-04-28T11:33:37.728Z"
      },
      {
        "duration": 7,
        "start_time": "2023-04-28T11:33:37.818Z"
      },
      {
        "duration": 18,
        "start_time": "2023-04-28T11:33:37.827Z"
      },
      {
        "duration": 31,
        "start_time": "2023-04-28T11:33:37.861Z"
      },
      {
        "duration": 32,
        "start_time": "2023-04-28T11:33:37.894Z"
      },
      {
        "duration": 36,
        "start_time": "2023-04-28T11:33:37.929Z"
      },
      {
        "duration": 21,
        "start_time": "2023-04-28T11:33:37.966Z"
      },
      {
        "duration": 180,
        "start_time": "2023-04-28T11:33:37.988Z"
      },
      {
        "duration": 30,
        "start_time": "2023-04-28T11:33:38.170Z"
      },
      {
        "duration": 61,
        "start_time": "2023-04-28T11:33:38.202Z"
      },
      {
        "duration": 31,
        "start_time": "2023-04-28T11:33:38.266Z"
      },
      {
        "duration": 90,
        "start_time": "2023-04-28T11:33:38.299Z"
      },
      {
        "duration": 28,
        "start_time": "2023-04-28T11:33:38.391Z"
      },
      {
        "duration": 51,
        "start_time": "2023-04-28T11:33:38.421Z"
      },
      {
        "duration": 22,
        "start_time": "2023-04-28T11:33:38.474Z"
      },
      {
        "duration": 707,
        "start_time": "2023-04-28T11:33:38.497Z"
      },
      {
        "duration": 28,
        "start_time": "2023-04-28T11:33:39.206Z"
      },
      {
        "duration": 47,
        "start_time": "2023-04-28T11:33:39.235Z"
      },
      {
        "duration": 13,
        "start_time": "2023-04-28T11:33:39.284Z"
      },
      {
        "duration": 12,
        "start_time": "2023-04-28T11:33:39.299Z"
      },
      {
        "duration": 19,
        "start_time": "2023-04-28T11:33:39.313Z"
      },
      {
        "duration": 84,
        "start_time": "2023-04-28T11:33:39.334Z"
      },
      {
        "duration": 15,
        "start_time": "2023-04-28T11:33:39.420Z"
      },
      {
        "duration": 140,
        "start_time": "2023-04-28T11:33:39.437Z"
      },
      {
        "duration": 495,
        "start_time": "2023-04-28T11:33:39.578Z"
      },
      {
        "duration": 9,
        "start_time": "2023-04-28T11:33:40.075Z"
      },
      {
        "duration": 151,
        "start_time": "2023-04-28T11:33:40.086Z"
      },
      {
        "duration": 4,
        "start_time": "2023-04-28T11:38:15.467Z"
      },
      {
        "duration": 17,
        "start_time": "2023-04-28T11:38:15.473Z"
      },
      {
        "duration": 743,
        "start_time": "2023-04-28T11:38:15.492Z"
      },
      {
        "duration": 19,
        "start_time": "2023-04-28T11:38:16.237Z"
      },
      {
        "duration": 3,
        "start_time": "2023-04-28T11:38:16.257Z"
      },
      {
        "duration": 129,
        "start_time": "2023-04-28T11:38:16.261Z"
      },
      {
        "duration": 106,
        "start_time": "2023-04-28T11:38:16.392Z"
      },
      {
        "duration": 507,
        "start_time": "2023-04-28T11:38:16.500Z"
      },
      {
        "duration": 80,
        "start_time": "2023-04-28T11:38:17.009Z"
      },
      {
        "duration": 6,
        "start_time": "2023-04-28T11:38:17.092Z"
      },
      {
        "duration": 9,
        "start_time": "2023-04-28T11:38:17.099Z"
      },
      {
        "duration": 46,
        "start_time": "2023-04-28T11:38:17.110Z"
      },
      {
        "duration": 29,
        "start_time": "2023-04-28T11:38:17.158Z"
      },
      {
        "duration": 24,
        "start_time": "2023-04-28T11:38:17.188Z"
      },
      {
        "duration": 17,
        "start_time": "2023-04-28T11:38:17.214Z"
      },
      {
        "duration": 158,
        "start_time": "2023-04-28T11:38:17.255Z"
      },
      {
        "duration": 42,
        "start_time": "2023-04-28T11:38:17.415Z"
      },
      {
        "duration": 43,
        "start_time": "2023-04-28T11:38:17.459Z"
      },
      {
        "duration": 28,
        "start_time": "2023-04-28T11:38:17.504Z"
      },
      {
        "duration": 52,
        "start_time": "2023-04-28T11:38:17.534Z"
      },
      {
        "duration": 25,
        "start_time": "2023-04-28T11:38:17.588Z"
      },
      {
        "duration": 51,
        "start_time": "2023-04-28T11:38:17.615Z"
      },
      {
        "duration": 32,
        "start_time": "2023-04-28T11:38:17.668Z"
      },
      {
        "duration": 35,
        "start_time": "2023-04-28T11:38:17.702Z"
      },
      {
        "duration": 282,
        "start_time": "2023-04-28T11:38:17.739Z"
      },
      {
        "duration": 36,
        "start_time": "2023-04-28T11:38:18.022Z"
      },
      {
        "duration": 31,
        "start_time": "2023-04-28T11:38:18.060Z"
      },
      {
        "duration": 17,
        "start_time": "2023-04-28T11:38:18.095Z"
      },
      {
        "duration": 25,
        "start_time": "2023-04-28T11:38:18.114Z"
      },
      {
        "duration": 43,
        "start_time": "2023-04-28T11:38:18.141Z"
      },
      {
        "duration": 66,
        "start_time": "2023-04-28T11:38:18.186Z"
      },
      {
        "duration": 15,
        "start_time": "2023-04-28T11:38:18.254Z"
      },
      {
        "duration": 126,
        "start_time": "2023-04-28T11:38:18.270Z"
      },
      {
        "duration": 525,
        "start_time": "2023-04-28T11:38:18.398Z"
      },
      {
        "duration": 10,
        "start_time": "2023-04-28T11:38:18.924Z"
      },
      {
        "duration": 142,
        "start_time": "2023-04-28T11:38:18.935Z"
      },
      {
        "duration": 7,
        "start_time": "2023-04-28T11:40:48.378Z"
      },
      {
        "duration": 7,
        "start_time": "2023-04-28T11:41:26.607Z"
      },
      {
        "duration": 10,
        "start_time": "2023-04-28T11:41:27.004Z"
      },
      {
        "duration": 15,
        "start_time": "2023-04-28T11:41:43.223Z"
      },
      {
        "duration": 19,
        "start_time": "2023-04-28T11:42:12.102Z"
      },
      {
        "duration": 1143,
        "start_time": "2023-04-28T11:42:18.759Z"
      },
      {
        "duration": 7,
        "start_time": "2023-04-28T11:46:37.319Z"
      },
      {
        "duration": 1142,
        "start_time": "2023-04-28T11:46:37.807Z"
      },
      {
        "duration": 6,
        "start_time": "2023-04-28T11:48:22.120Z"
      },
      {
        "duration": 1160,
        "start_time": "2023-04-28T11:48:23.049Z"
      },
      {
        "duration": 52,
        "start_time": "2023-04-28T11:52:05.364Z"
      },
      {
        "duration": 11,
        "start_time": "2023-04-28T11:52:09.456Z"
      },
      {
        "duration": 14,
        "start_time": "2023-04-28T11:52:19.304Z"
      },
      {
        "duration": 55,
        "start_time": "2023-04-28T11:53:30.975Z"
      },
      {
        "duration": 4,
        "start_time": "2023-04-28T12:34:27.522Z"
      },
      {
        "duration": 1497,
        "start_time": "2023-04-28T12:34:27.528Z"
      },
      {
        "duration": 2871,
        "start_time": "2023-04-28T12:34:29.034Z"
      },
      {
        "duration": 16,
        "start_time": "2023-04-28T12:34:31.908Z"
      },
      {
        "duration": 26,
        "start_time": "2023-04-28T12:34:31.926Z"
      },
      {
        "duration": 157,
        "start_time": "2023-04-28T12:34:31.954Z"
      },
      {
        "duration": 105,
        "start_time": "2023-04-28T12:34:32.113Z"
      },
      {
        "duration": 574,
        "start_time": "2023-04-28T12:34:32.220Z"
      },
      {
        "duration": 108,
        "start_time": "2023-04-28T12:34:32.796Z"
      },
      {
        "duration": 20,
        "start_time": "2023-04-28T12:34:32.913Z"
      },
      {
        "duration": 5,
        "start_time": "2023-04-28T12:34:32.935Z"
      },
      {
        "duration": 24,
        "start_time": "2023-04-28T12:34:32.942Z"
      },
      {
        "duration": 46,
        "start_time": "2023-04-28T12:34:32.968Z"
      },
      {
        "duration": 21,
        "start_time": "2023-04-28T12:34:33.016Z"
      },
      {
        "duration": 17,
        "start_time": "2023-04-28T12:34:33.039Z"
      },
      {
        "duration": 178,
        "start_time": "2023-04-28T12:34:33.058Z"
      },
      {
        "duration": 26,
        "start_time": "2023-04-28T12:34:33.238Z"
      },
      {
        "duration": 55,
        "start_time": "2023-04-28T12:34:33.265Z"
      },
      {
        "duration": 33,
        "start_time": "2023-04-28T12:34:33.322Z"
      },
      {
        "duration": 67,
        "start_time": "2023-04-28T12:34:33.357Z"
      },
      {
        "duration": 42,
        "start_time": "2023-04-28T12:34:33.427Z"
      },
      {
        "duration": 49,
        "start_time": "2023-04-28T12:34:33.470Z"
      },
      {
        "duration": 29,
        "start_time": "2023-04-28T12:34:33.520Z"
      },
      {
        "duration": 279,
        "start_time": "2023-04-28T12:34:33.551Z"
      },
      {
        "duration": 42,
        "start_time": "2023-04-28T12:34:33.833Z"
      },
      {
        "duration": 45,
        "start_time": "2023-04-28T12:34:33.877Z"
      },
      {
        "duration": 19,
        "start_time": "2023-04-28T12:34:33.923Z"
      },
      {
        "duration": 15,
        "start_time": "2023-04-28T12:34:33.946Z"
      },
      {
        "duration": 33,
        "start_time": "2023-04-28T12:34:33.962Z"
      },
      {
        "duration": 75,
        "start_time": "2023-04-28T12:34:33.997Z"
      },
      {
        "duration": 15,
        "start_time": "2023-04-28T12:34:34.073Z"
      },
      {
        "duration": 143,
        "start_time": "2023-04-28T12:34:34.090Z"
      },
      {
        "duration": 539,
        "start_time": "2023-04-28T12:34:34.234Z"
      },
      {
        "duration": 9,
        "start_time": "2023-04-28T12:34:34.775Z"
      },
      {
        "duration": 137,
        "start_time": "2023-04-28T12:34:34.786Z"
      },
      {
        "duration": 49,
        "start_time": "2023-04-28T12:34:34.924Z"
      },
      {
        "duration": 120,
        "start_time": "2023-04-28T12:34:34.975Z"
      },
      {
        "duration": 273,
        "start_time": "2023-04-28T12:35:05.681Z"
      },
      {
        "duration": 155,
        "start_time": "2023-04-28T13:08:27.030Z"
      },
      {
        "duration": 5,
        "start_time": "2023-04-29T09:24:56.039Z"
      },
      {
        "duration": 1613,
        "start_time": "2023-04-29T09:24:56.046Z"
      },
      {
        "duration": 1075,
        "start_time": "2023-04-29T09:24:57.660Z"
      },
      {
        "duration": 17,
        "start_time": "2023-04-29T09:24:58.737Z"
      },
      {
        "duration": 20,
        "start_time": "2023-04-29T09:24:58.756Z"
      },
      {
        "duration": 110,
        "start_time": "2023-04-29T09:24:58.777Z"
      },
      {
        "duration": 123,
        "start_time": "2023-04-29T09:24:58.889Z"
      },
      {
        "duration": 495,
        "start_time": "2023-04-29T09:24:59.014Z"
      },
      {
        "duration": 71,
        "start_time": "2023-04-29T09:24:59.510Z"
      },
      {
        "duration": 10,
        "start_time": "2023-04-29T09:24:59.583Z"
      },
      {
        "duration": 5,
        "start_time": "2023-04-29T09:24:59.596Z"
      },
      {
        "duration": 28,
        "start_time": "2023-04-29T09:24:59.603Z"
      },
      {
        "duration": 52,
        "start_time": "2023-04-29T09:24:59.633Z"
      },
      {
        "duration": 18,
        "start_time": "2023-04-29T09:24:59.686Z"
      },
      {
        "duration": 16,
        "start_time": "2023-04-29T09:24:59.706Z"
      },
      {
        "duration": 183,
        "start_time": "2023-04-29T09:24:59.725Z"
      },
      {
        "duration": 32,
        "start_time": "2023-04-29T09:24:59.910Z"
      },
      {
        "duration": 70,
        "start_time": "2023-04-29T09:24:59.945Z"
      },
      {
        "duration": 40,
        "start_time": "2023-04-29T09:25:00.017Z"
      },
      {
        "duration": 57,
        "start_time": "2023-04-29T09:25:00.059Z"
      },
      {
        "duration": 23,
        "start_time": "2023-04-29T09:25:00.118Z"
      },
      {
        "duration": 34,
        "start_time": "2023-04-29T09:25:00.143Z"
      },
      {
        "duration": 33,
        "start_time": "2023-04-29T09:25:00.179Z"
      },
      {
        "duration": 341,
        "start_time": "2023-04-29T09:25:00.214Z"
      },
      {
        "duration": 31,
        "start_time": "2023-04-29T09:25:00.557Z"
      },
      {
        "duration": 53,
        "start_time": "2023-04-29T09:25:00.602Z"
      },
      {
        "duration": 25,
        "start_time": "2023-04-29T09:25:00.656Z"
      },
      {
        "duration": 27,
        "start_time": "2023-04-29T09:25:00.685Z"
      },
      {
        "duration": 66,
        "start_time": "2023-04-29T09:25:00.714Z"
      },
      {
        "duration": 97,
        "start_time": "2023-04-29T09:25:00.781Z"
      },
      {
        "duration": 15,
        "start_time": "2023-04-29T09:25:00.880Z"
      },
      {
        "duration": 195,
        "start_time": "2023-04-29T09:25:00.897Z"
      },
      {
        "duration": 517,
        "start_time": "2023-04-29T09:25:01.093Z"
      },
      {
        "duration": 8,
        "start_time": "2023-04-29T09:25:01.611Z"
      },
      {
        "duration": 208,
        "start_time": "2023-04-29T09:25:01.621Z"
      },
      {
        "duration": 61,
        "start_time": "2023-04-29T09:25:01.831Z"
      },
      {
        "duration": 333,
        "start_time": "2023-04-29T09:25:01.894Z"
      },
      {
        "duration": 2,
        "start_time": "2023-04-29T09:45:22.160Z"
      },
      {
        "duration": 84,
        "start_time": "2023-04-29T09:46:07.689Z"
      },
      {
        "duration": 59,
        "start_time": "2023-04-29T09:46:37.615Z"
      },
      {
        "duration": 39,
        "start_time": "2023-04-29T09:47:03.243Z"
      },
      {
        "duration": 3,
        "start_time": "2023-04-29T09:47:57.489Z"
      },
      {
        "duration": 41,
        "start_time": "2023-04-29T09:49:12.625Z"
      },
      {
        "duration": 38,
        "start_time": "2023-04-29T09:49:24.722Z"
      },
      {
        "duration": 4,
        "start_time": "2023-04-29T09:49:25.126Z"
      },
      {
        "duration": 104,
        "start_time": "2023-04-29T09:49:35.203Z"
      },
      {
        "duration": 4,
        "start_time": "2023-04-29T09:49:41.751Z"
      },
      {
        "duration": 5,
        "start_time": "2023-04-29T09:50:51.102Z"
      },
      {
        "duration": 8,
        "start_time": "2023-04-29T09:52:00.841Z"
      },
      {
        "duration": 37,
        "start_time": "2023-04-29T09:52:02.463Z"
      },
      {
        "duration": 9,
        "start_time": "2023-04-29T09:52:02.914Z"
      },
      {
        "duration": 3,
        "start_time": "2023-04-29T09:52:07.338Z"
      },
      {
        "duration": 46,
        "start_time": "2023-04-29T09:53:37.878Z"
      },
      {
        "duration": 30,
        "start_time": "2023-04-29T09:53:54.936Z"
      },
      {
        "duration": 54,
        "start_time": "2023-04-29T09:59:52.902Z"
      },
      {
        "duration": 210,
        "start_time": "2023-04-29T10:00:28.767Z"
      },
      {
        "duration": 41,
        "start_time": "2023-04-29T10:00:45.010Z"
      },
      {
        "duration": 18,
        "start_time": "2023-04-29T10:00:45.563Z"
      },
      {
        "duration": 4,
        "start_time": "2023-04-29T10:00:46.316Z"
      },
      {
        "duration": 10,
        "start_time": "2023-04-29T10:11:25.049Z"
      },
      {
        "duration": 4,
        "start_time": "2023-04-29T10:12:41.892Z"
      },
      {
        "duration": 11,
        "start_time": "2023-04-29T10:12:56.990Z"
      },
      {
        "duration": 5,
        "start_time": "2023-04-29T10:13:18.657Z"
      },
      {
        "duration": 13,
        "start_time": "2023-04-29T10:13:25.212Z"
      },
      {
        "duration": 10,
        "start_time": "2023-04-29T10:13:36.992Z"
      },
      {
        "duration": 10,
        "start_time": "2023-04-29T10:13:49.183Z"
      },
      {
        "duration": 12,
        "start_time": "2023-04-29T10:13:59.544Z"
      },
      {
        "duration": 14,
        "start_time": "2023-04-29T10:14:23.432Z"
      },
      {
        "duration": 14,
        "start_time": "2023-04-29T10:14:50.637Z"
      },
      {
        "duration": 13,
        "start_time": "2023-04-29T10:14:55.440Z"
      },
      {
        "duration": 8,
        "start_time": "2023-04-29T10:15:43.675Z"
      },
      {
        "duration": 604558,
        "start_time": "2023-04-29T10:26:20.695Z"
      },
      {
        "duration": 140694,
        "start_time": "2023-04-29T10:42:08.720Z"
      },
      {
        "duration": 343849,
        "start_time": "2023-04-29T10:44:33.671Z"
      },
      {
        "duration": 786,
        "start_time": "2023-04-29T10:52:46.711Z"
      },
      {
        "duration": 984,
        "start_time": "2023-04-29T10:53:24.906Z"
      },
      {
        "duration": 268,
        "start_time": "2023-04-29T10:53:41.651Z"
      },
      {
        "duration": 4,
        "start_time": "2023-04-29T10:55:13.208Z"
      },
      {
        "duration": 75,
        "start_time": "2023-04-29T11:02:26.651Z"
      },
      {
        "duration": 4,
        "start_time": "2023-04-29T11:03:38.038Z"
      },
      {
        "duration": 83,
        "start_time": "2023-04-29T11:04:34.191Z"
      },
      {
        "duration": 932486,
        "start_time": "2023-04-29T11:05:09.339Z"
      },
      {
        "duration": 0,
        "start_time": "2023-04-29T11:20:41.826Z"
      },
      {
        "duration": 1066530,
        "start_time": "2023-04-29T11:25:23.557Z"
      },
      {
        "duration": 83,
        "start_time": "2023-04-29T11:43:10.089Z"
      },
      {
        "duration": 5442,
        "start_time": "2023-04-29T11:43:10.174Z"
      },
      {
        "duration": 86,
        "start_time": "2023-04-29T11:43:15.618Z"
      },
      {
        "duration": 45524,
        "start_time": "2023-04-29T11:43:48.124Z"
      },
      {
        "duration": 26,
        "start_time": "2023-04-29T11:44:33.650Z"
      },
      {
        "duration": 35617,
        "start_time": "2023-04-29T11:45:35.670Z"
      },
      {
        "duration": 8,
        "start_time": "2023-04-29T11:46:11.289Z"
      },
      {
        "duration": 4723,
        "start_time": "2023-04-29T11:47:59.567Z"
      },
      {
        "duration": 108100,
        "start_time": "2023-04-29T11:48:09.182Z"
      },
      {
        "duration": 82,
        "start_time": "2023-04-29T11:49:57.284Z"
      },
      {
        "duration": 46733,
        "start_time": "2023-04-29T11:50:15.658Z"
      },
      {
        "duration": 19,
        "start_time": "2023-04-29T11:51:02.393Z"
      },
      {
        "duration": 20,
        "start_time": "2023-04-29T11:51:48.571Z"
      },
      {
        "duration": 136052,
        "start_time": "2023-04-29T11:51:58.533Z"
      },
      {
        "duration": 96,
        "start_time": "2023-04-29T11:54:14.586Z"
      },
      {
        "duration": 23306,
        "start_time": "2023-04-29T11:54:20.158Z"
      },
      {
        "duration": 53114,
        "start_time": "2023-04-29T11:55:08.361Z"
      },
      {
        "duration": 114,
        "start_time": "2023-04-29T11:56:01.477Z"
      },
      {
        "duration": 98023,
        "start_time": "2023-04-29T11:56:27.524Z"
      },
      {
        "duration": 253797,
        "start_time": "2023-04-29T11:58:10.055Z"
      },
      {
        "duration": 1094936,
        "start_time": "2023-04-29T12:02:34.009Z"
      },
      {
        "duration": 3339,
        "start_time": "2023-04-29T12:20:48.947Z"
      },
      {
        "duration": 5922,
        "start_time": "2023-04-29T12:28:41.954Z"
      },
      {
        "duration": 12,
        "start_time": "2023-04-29T12:28:49.654Z"
      },
      {
        "duration": 46477,
        "start_time": "2023-04-29T12:28:54.334Z"
      },
      {
        "duration": 22,
        "start_time": "2023-04-29T12:29:40.813Z"
      },
      {
        "duration": 3165,
        "start_time": "2023-04-29T12:29:40.836Z"
      },
      {
        "duration": 9,
        "start_time": "2023-04-29T13:17:33.449Z"
      },
      {
        "duration": 4,
        "start_time": "2023-04-29T13:17:45.870Z"
      },
      {
        "duration": 10,
        "start_time": "2023-04-29T13:17:49.251Z"
      },
      {
        "duration": 8272,
        "start_time": "2023-04-29T13:17:55.310Z"
      },
      {
        "duration": 414808,
        "start_time": "2023-04-29T13:18:51.354Z"
      },
      {
        "duration": 5,
        "start_time": "2023-04-29T13:26:11.380Z"
      },
      {
        "duration": 15,
        "start_time": "2023-04-29T13:26:30.612Z"
      },
      {
        "duration": 8,
        "start_time": "2023-04-29T13:27:10.235Z"
      },
      {
        "duration": 4,
        "start_time": "2023-04-29T13:27:56.719Z"
      },
      {
        "duration": 13,
        "start_time": "2023-04-29T13:29:53.579Z"
      },
      {
        "duration": 4,
        "start_time": "2023-04-29T13:51:05.046Z"
      },
      {
        "duration": 10,
        "start_time": "2023-04-29T13:51:31.134Z"
      },
      {
        "duration": 51220,
        "start_time": "2023-04-29T13:51:42.530Z"
      },
      {
        "duration": 681937,
        "start_time": "2023-04-29T13:52:38.060Z"
      },
      {
        "duration": 45,
        "start_time": "2023-04-29T14:03:59.999Z"
      },
      {
        "duration": 3,
        "start_time": "2023-04-29T14:34:43.445Z"
      },
      {
        "duration": 3,
        "start_time": "2023-04-29T14:35:01.579Z"
      },
      {
        "duration": 7446966,
        "start_time": "2023-04-29T14:35:18.311Z"
      },
      {
        "duration": 7360,
        "start_time": "2023-04-29T16:39:35.517Z"
      },
      {
        "duration": 799,
        "start_time": "2023-04-29T16:40:01.287Z"
      },
      {
        "duration": 208641,
        "start_time": "2023-04-29T16:40:03.513Z"
      },
      {
        "duration": 94,
        "start_time": "2023-04-29T16:43:32.253Z"
      },
      {
        "duration": 77,
        "start_time": "2023-04-29T16:43:35.139Z"
      },
      {
        "duration": 137917,
        "start_time": "2023-04-29T16:43:46.047Z"
      },
      {
        "duration": 74,
        "start_time": "2023-04-29T16:46:03.966Z"
      },
      {
        "duration": 225403,
        "start_time": "2023-04-29T16:48:09.468Z"
      },
      {
        "duration": 600,
        "start_time": "2023-04-29T16:51:54.873Z"
      },
      {
        "duration": 5,
        "start_time": "2023-04-30T11:51:15.714Z"
      },
      {
        "duration": 2018,
        "start_time": "2023-04-30T11:51:15.721Z"
      },
      {
        "duration": 2155,
        "start_time": "2023-04-30T11:51:17.743Z"
      },
      {
        "duration": 20,
        "start_time": "2023-04-30T11:51:19.901Z"
      },
      {
        "duration": 24,
        "start_time": "2023-04-30T11:51:19.925Z"
      },
      {
        "duration": 144,
        "start_time": "2023-04-30T11:51:19.959Z"
      },
      {
        "duration": 151,
        "start_time": "2023-04-30T11:51:20.106Z"
      },
      {
        "duration": 709,
        "start_time": "2023-04-30T11:51:20.260Z"
      },
      {
        "duration": 94,
        "start_time": "2023-04-30T11:51:20.971Z"
      },
      {
        "duration": 9,
        "start_time": "2023-04-30T11:51:21.068Z"
      },
      {
        "duration": 13,
        "start_time": "2023-04-30T11:51:21.079Z"
      },
      {
        "duration": 57,
        "start_time": "2023-04-30T11:51:21.094Z"
      },
      {
        "duration": 52,
        "start_time": "2023-04-30T11:51:21.155Z"
      },
      {
        "duration": 39,
        "start_time": "2023-04-30T11:51:21.213Z"
      },
      {
        "duration": 64,
        "start_time": "2023-04-30T11:51:21.255Z"
      },
      {
        "duration": 184,
        "start_time": "2023-04-30T11:51:21.321Z"
      },
      {
        "duration": 45,
        "start_time": "2023-04-30T11:51:21.507Z"
      },
      {
        "duration": 47,
        "start_time": "2023-04-30T11:51:21.554Z"
      },
      {
        "duration": 49,
        "start_time": "2023-04-30T11:51:21.603Z"
      },
      {
        "duration": 43,
        "start_time": "2023-04-30T11:51:21.653Z"
      },
      {
        "duration": 54,
        "start_time": "2023-04-30T11:51:21.701Z"
      },
      {
        "duration": 49,
        "start_time": "2023-04-30T11:51:21.757Z"
      },
      {
        "duration": 27,
        "start_time": "2023-04-30T11:51:21.808Z"
      },
      {
        "duration": 319,
        "start_time": "2023-04-30T11:51:21.837Z"
      },
      {
        "duration": 28,
        "start_time": "2023-04-30T11:51:22.159Z"
      },
      {
        "duration": 46,
        "start_time": "2023-04-30T11:51:22.189Z"
      },
      {
        "duration": 35,
        "start_time": "2023-04-30T11:51:22.237Z"
      },
      {
        "duration": 22,
        "start_time": "2023-04-30T11:51:22.274Z"
      },
      {
        "duration": 21,
        "start_time": "2023-04-30T11:51:22.298Z"
      },
      {
        "duration": 92,
        "start_time": "2023-04-30T11:51:22.321Z"
      },
      {
        "duration": 22,
        "start_time": "2023-04-30T11:51:22.427Z"
      },
      {
        "duration": 173,
        "start_time": "2023-04-30T11:51:22.451Z"
      },
      {
        "duration": 622,
        "start_time": "2023-04-30T11:51:22.627Z"
      },
      {
        "duration": 12,
        "start_time": "2023-04-30T11:51:23.259Z"
      },
      {
        "duration": 182,
        "start_time": "2023-04-30T11:51:23.274Z"
      },
      {
        "duration": 98,
        "start_time": "2023-04-30T11:51:23.459Z"
      },
      {
        "duration": 319,
        "start_time": "2023-04-30T11:51:23.560Z"
      },
      {
        "duration": 81,
        "start_time": "2023-04-30T11:51:23.880Z"
      },
      {
        "duration": 88,
        "start_time": "2023-04-30T11:51:23.963Z"
      },
      {
        "duration": 110,
        "start_time": "2023-04-30T11:51:24.053Z"
      },
      {
        "duration": 1563010,
        "start_time": "2023-04-30T11:51:24.168Z"
      },
      {
        "duration": 4752,
        "start_time": "2023-04-30T12:17:27.181Z"
      },
      {
        "duration": 62699,
        "start_time": "2023-04-30T12:17:31.935Z"
      },
      {
        "duration": 31,
        "start_time": "2023-04-30T12:18:34.636Z"
      },
      {
        "duration": 346831,
        "start_time": "2023-04-30T12:18:34.669Z"
      },
      {
        "duration": 101,
        "start_time": "2023-04-30T12:24:21.502Z"
      },
      {
        "duration": 2932388,
        "start_time": "2023-04-30T12:24:21.605Z"
      },
      {
        "duration": 189,
        "start_time": "2023-04-30T13:13:13.995Z"
      },
      {
        "duration": 1631,
        "start_time": "2023-05-01T08:24:03.422Z"
      },
      {
        "duration": 5,
        "start_time": "2023-05-01T08:25:14.836Z"
      },
      {
        "duration": 2147,
        "start_time": "2023-05-01T08:26:01.941Z"
      },
      {
        "duration": 26,
        "start_time": "2023-05-01T08:26:04.090Z"
      },
      {
        "duration": 2,
        "start_time": "2023-05-01T08:26:04.125Z"
      },
      {
        "duration": 122,
        "start_time": "2023-05-01T08:26:04.972Z"
      },
      {
        "duration": 140,
        "start_time": "2023-05-01T08:26:06.124Z"
      },
      {
        "duration": 682,
        "start_time": "2023-05-01T08:26:07.817Z"
      },
      {
        "duration": 312,
        "start_time": "2023-05-01T08:26:24.413Z"
      },
      {
        "duration": 2218,
        "start_time": "2023-05-01T08:26:30.764Z"
      },
      {
        "duration": 17,
        "start_time": "2023-05-01T08:26:33.688Z"
      },
      {
        "duration": 3,
        "start_time": "2023-05-01T08:26:33.957Z"
      },
      {
        "duration": 133,
        "start_time": "2023-05-01T08:26:34.332Z"
      },
      {
        "duration": 106,
        "start_time": "2023-05-01T08:33:09.005Z"
      },
      {
        "duration": 518,
        "start_time": "2023-05-01T08:33:11.072Z"
      },
      {
        "duration": 136,
        "start_time": "2023-05-01T08:33:28.904Z"
      },
      {
        "duration": 12,
        "start_time": "2023-05-01T08:33:37.042Z"
      },
      {
        "duration": 6,
        "start_time": "2023-05-01T08:33:39.904Z"
      },
      {
        "duration": 39,
        "start_time": "2023-05-01T08:33:40.330Z"
      },
      {
        "duration": 47,
        "start_time": "2023-05-01T08:33:51.020Z"
      },
      {
        "duration": 31,
        "start_time": "2023-05-01T08:33:51.628Z"
      },
      {
        "duration": 21,
        "start_time": "2023-05-01T08:33:54.480Z"
      },
      {
        "duration": 1542,
        "start_time": "2023-05-01T08:35:08.968Z"
      },
      {
        "duration": 14,
        "start_time": "2023-05-01T08:35:11.091Z"
      },
      {
        "duration": 3,
        "start_time": "2023-05-01T08:35:11.284Z"
      },
      {
        "duration": 126,
        "start_time": "2023-05-01T08:35:11.479Z"
      },
      {
        "duration": 141,
        "start_time": "2023-05-01T08:35:12.006Z"
      },
      {
        "duration": 528,
        "start_time": "2023-05-01T08:35:14.659Z"
      },
      {
        "duration": 89,
        "start_time": "2023-05-01T08:35:16.321Z"
      },
      {
        "duration": 6,
        "start_time": "2023-05-01T08:35:17.608Z"
      },
      {
        "duration": 6,
        "start_time": "2023-05-01T08:35:17.936Z"
      },
      {
        "duration": 29,
        "start_time": "2023-05-01T08:35:18.190Z"
      },
      {
        "duration": 30,
        "start_time": "2023-05-01T08:35:20.477Z"
      },
      {
        "duration": 22,
        "start_time": "2023-05-01T08:35:21.305Z"
      },
      {
        "duration": 52,
        "start_time": "2023-05-01T08:35:57.982Z"
      },
      {
        "duration": 30,
        "start_time": "2023-05-01T08:36:30.419Z"
      },
      {
        "duration": 65,
        "start_time": "2023-05-01T08:36:30.879Z"
      },
      {
        "duration": 227,
        "start_time": "2023-05-01T08:37:45.103Z"
      },
      {
        "duration": 223,
        "start_time": "2023-05-01T09:05:44.588Z"
      },
      {
        "duration": 80,
        "start_time": "2023-05-01T09:06:04.513Z"
      },
      {
        "duration": 5,
        "start_time": "2023-05-01T09:06:19.337Z"
      },
      {
        "duration": 12,
        "start_time": "2023-05-01T09:06:24.846Z"
      },
      {
        "duration": 5,
        "start_time": "2023-05-01T09:06:39.632Z"
      },
      {
        "duration": 55,
        "start_time": "2023-05-01T09:06:41.269Z"
      },
      {
        "duration": 2342,
        "start_time": "2023-05-01T09:07:04.069Z"
      },
      {
        "duration": 11,
        "start_time": "2023-05-01T09:09:38.283Z"
      },
      {
        "duration": 213,
        "start_time": "2023-05-01T09:09:42.437Z"
      },
      {
        "duration": 12,
        "start_time": "2023-05-01T09:09:54.911Z"
      },
      {
        "duration": 15,
        "start_time": "2023-05-01T09:09:58.128Z"
      },
      {
        "duration": 12,
        "start_time": "2023-05-01T09:10:04.704Z"
      },
      {
        "duration": 8,
        "start_time": "2023-05-01T09:10:09.053Z"
      },
      {
        "duration": 171,
        "start_time": "2023-05-01T09:10:13.585Z"
      },
      {
        "duration": 60,
        "start_time": "2023-05-01T09:10:21.689Z"
      },
      {
        "duration": 101,
        "start_time": "2023-05-01T09:10:22.768Z"
      },
      {
        "duration": 7,
        "start_time": "2023-05-01T09:10:29.317Z"
      },
      {
        "duration": 8,
        "start_time": "2023-05-01T09:11:46.332Z"
      },
      {
        "duration": 5,
        "start_time": "2023-05-01T09:11:49.125Z"
      },
      {
        "duration": 8,
        "start_time": "2023-05-01T09:11:51.338Z"
      },
      {
        "duration": 390,
        "start_time": "2023-05-01T09:12:19.944Z"
      },
      {
        "duration": 2069,
        "start_time": "2023-05-01T09:14:57.134Z"
      },
      {
        "duration": 430,
        "start_time": "2023-05-01T09:15:05.755Z"
      },
      {
        "duration": 63,
        "start_time": "2023-05-01T09:18:40.385Z"
      },
      {
        "duration": 8,
        "start_time": "2023-05-01T09:18:48.699Z"
      },
      {
        "duration": 7,
        "start_time": "2023-05-01T09:18:50.985Z"
      },
      {
        "duration": 2105,
        "start_time": "2023-05-01T09:25:06.420Z"
      },
      {
        "duration": 96,
        "start_time": "2023-05-01T09:25:31.757Z"
      },
      {
        "duration": 7,
        "start_time": "2023-05-01T09:25:32.519Z"
      },
      {
        "duration": 46,
        "start_time": "2023-05-01T09:26:00.318Z"
      },
      {
        "duration": 52,
        "start_time": "2023-05-01T09:27:58.210Z"
      },
      {
        "duration": 42,
        "start_time": "2023-05-01T09:28:10.419Z"
      },
      {
        "duration": 8,
        "start_time": "2023-05-01T09:28:19.507Z"
      },
      {
        "duration": 87,
        "start_time": "2023-05-01T09:28:20.958Z"
      },
      {
        "duration": 34,
        "start_time": "2023-05-01T09:28:43.817Z"
      },
      {
        "duration": 4,
        "start_time": "2023-05-01T09:29:34.915Z"
      },
      {
        "duration": 1806,
        "start_time": "2023-05-01T09:29:36.360Z"
      },
      {
        "duration": 19,
        "start_time": "2023-05-01T09:29:38.753Z"
      },
      {
        "duration": 3,
        "start_time": "2023-05-01T09:29:39.120Z"
      },
      {
        "duration": 130,
        "start_time": "2023-05-01T09:29:39.511Z"
      },
      {
        "duration": 106,
        "start_time": "2023-05-01T09:29:40.329Z"
      },
      {
        "duration": 586,
        "start_time": "2023-05-01T09:29:41.611Z"
      },
      {
        "duration": 104,
        "start_time": "2023-05-01T09:29:42.456Z"
      },
      {
        "duration": 6,
        "start_time": "2023-05-01T09:29:44.044Z"
      },
      {
        "duration": 7,
        "start_time": "2023-05-01T09:29:44.332Z"
      },
      {
        "duration": 33,
        "start_time": "2023-05-01T09:29:44.761Z"
      },
      {
        "duration": 39,
        "start_time": "2023-05-01T09:29:51.696Z"
      },
      {
        "duration": 27,
        "start_time": "2023-05-01T09:29:52.365Z"
      },
      {
        "duration": 23,
        "start_time": "2023-05-01T09:29:54.115Z"
      },
      {
        "duration": 203,
        "start_time": "2023-05-01T09:29:56.331Z"
      },
      {
        "duration": 30,
        "start_time": "2023-05-01T09:29:58.315Z"
      },
      {
        "duration": 44,
        "start_time": "2023-05-01T09:30:01.234Z"
      },
      {
        "duration": 375,
        "start_time": "2023-05-01T09:41:55.532Z"
      },
      {
        "duration": 5,
        "start_time": "2023-05-01T09:43:24.404Z"
      },
      {
        "duration": 1985,
        "start_time": "2023-05-01T09:43:25.912Z"
      },
      {
        "duration": 20,
        "start_time": "2023-05-01T09:43:28.649Z"
      },
      {
        "duration": 2,
        "start_time": "2023-05-01T09:43:29.044Z"
      },
      {
        "duration": 146,
        "start_time": "2023-05-01T09:43:29.365Z"
      },
      {
        "duration": 108,
        "start_time": "2023-05-01T09:43:30.292Z"
      },
      {
        "duration": 564,
        "start_time": "2023-05-01T09:43:32.521Z"
      },
      {
        "duration": 145,
        "start_time": "2023-05-01T09:43:34.365Z"
      },
      {
        "duration": 9,
        "start_time": "2023-05-01T09:43:35.792Z"
      },
      {
        "duration": 7,
        "start_time": "2023-05-01T09:43:36.196Z"
      },
      {
        "duration": 36,
        "start_time": "2023-05-01T09:43:36.927Z"
      },
      {
        "duration": 44,
        "start_time": "2023-05-01T09:43:39.343Z"
      },
      {
        "duration": 25,
        "start_time": "2023-05-01T09:43:39.792Z"
      },
      {
        "duration": 21,
        "start_time": "2023-05-01T09:43:41.230Z"
      },
      {
        "duration": 146,
        "start_time": "2023-05-01T09:43:43.332Z"
      },
      {
        "duration": 36,
        "start_time": "2023-05-01T09:43:47.185Z"
      },
      {
        "duration": 51,
        "start_time": "2023-05-01T09:43:47.648Z"
      },
      {
        "duration": 57,
        "start_time": "2023-05-01T09:57:19.224Z"
      },
      {
        "duration": 62,
        "start_time": "2023-05-01T09:57:25.148Z"
      },
      {
        "duration": 54,
        "start_time": "2023-05-01T09:57:25.901Z"
      },
      {
        "duration": 20,
        "start_time": "2023-05-01T09:57:27.237Z"
      },
      {
        "duration": 9,
        "start_time": "2023-05-01T09:57:46.931Z"
      },
      {
        "duration": 4,
        "start_time": "2023-05-01T09:58:21.827Z"
      },
      {
        "duration": 7,
        "start_time": "2023-05-01T09:58:22.126Z"
      },
      {
        "duration": 1694,
        "start_time": "2023-05-01T09:58:23.027Z"
      },
      {
        "duration": 14,
        "start_time": "2023-05-01T09:58:24.723Z"
      },
      {
        "duration": 9,
        "start_time": "2023-05-01T09:58:24.738Z"
      },
      {
        "duration": 121,
        "start_time": "2023-05-01T09:58:24.749Z"
      },
      {
        "duration": 103,
        "start_time": "2023-05-01T09:58:24.872Z"
      },
      {
        "duration": 565,
        "start_time": "2023-05-01T09:58:24.977Z"
      },
      {
        "duration": 92,
        "start_time": "2023-05-01T09:58:27.558Z"
      },
      {
        "duration": 6,
        "start_time": "2023-05-01T09:58:29.639Z"
      },
      {
        "duration": 8,
        "start_time": "2023-05-01T09:58:30.036Z"
      },
      {
        "duration": 37,
        "start_time": "2023-05-01T09:58:30.362Z"
      },
      {
        "duration": 32,
        "start_time": "2023-05-01T09:58:34.257Z"
      },
      {
        "duration": 29,
        "start_time": "2023-05-01T09:58:36.108Z"
      },
      {
        "duration": 23,
        "start_time": "2023-05-01T09:58:36.759Z"
      },
      {
        "duration": 196,
        "start_time": "2023-05-01T09:58:38.649Z"
      },
      {
        "duration": 35,
        "start_time": "2023-05-01T09:58:41.838Z"
      },
      {
        "duration": 60,
        "start_time": "2023-05-01T09:58:42.362Z"
      },
      {
        "duration": 64,
        "start_time": "2023-05-01T09:58:45.532Z"
      },
      {
        "duration": 6,
        "start_time": "2023-05-01T09:58:56.202Z"
      },
      {
        "duration": 31,
        "start_time": "2023-05-01T09:58:59.060Z"
      },
      {
        "duration": 41,
        "start_time": "2023-05-01T09:59:06.352Z"
      },
      {
        "duration": 22,
        "start_time": "2023-05-01T09:59:08.632Z"
      },
      {
        "duration": 7,
        "start_time": "2023-05-01T09:59:13.040Z"
      },
      {
        "duration": 1310,
        "start_time": "2023-05-01T09:59:29.105Z"
      },
      {
        "duration": 73,
        "start_time": "2023-05-01T09:59:39.136Z"
      },
      {
        "duration": 25,
        "start_time": "2023-05-01T09:59:40.223Z"
      },
      {
        "duration": 42,
        "start_time": "2023-05-01T09:59:53.453Z"
      },
      {
        "duration": 7,
        "start_time": "2023-05-01T09:59:54.045Z"
      },
      {
        "duration": 5,
        "start_time": "2023-05-01T09:59:57.249Z"
      },
      {
        "duration": 5,
        "start_time": "2023-05-01T10:01:20.730Z"
      },
      {
        "duration": 1508,
        "start_time": "2023-05-01T10:01:21.745Z"
      },
      {
        "duration": 18,
        "start_time": "2023-05-01T10:01:23.264Z"
      },
      {
        "duration": 3,
        "start_time": "2023-05-01T10:01:23.285Z"
      },
      {
        "duration": 142,
        "start_time": "2023-05-01T10:01:23.294Z"
      },
      {
        "duration": 203,
        "start_time": "2023-05-01T10:01:24.617Z"
      },
      {
        "duration": 551,
        "start_time": "2023-05-01T10:01:27.779Z"
      },
      {
        "duration": 92,
        "start_time": "2023-05-01T10:01:31.332Z"
      },
      {
        "duration": 121,
        "start_time": "2023-05-01T10:01:33.416Z"
      },
      {
        "duration": 97,
        "start_time": "2023-05-01T10:02:50.368Z"
      },
      {
        "duration": 1861,
        "start_time": "2023-05-01T10:03:24.410Z"
      },
      {
        "duration": 15,
        "start_time": "2023-05-01T10:03:26.273Z"
      },
      {
        "duration": 5,
        "start_time": "2023-05-01T10:03:26.294Z"
      },
      {
        "duration": 184,
        "start_time": "2023-05-01T10:03:26.301Z"
      },
      {
        "duration": 111,
        "start_time": "2023-05-01T10:03:26.487Z"
      },
      {
        "duration": 516,
        "start_time": "2023-05-01T10:03:29.448Z"
      },
      {
        "duration": 134,
        "start_time": "2023-05-01T10:03:30.509Z"
      },
      {
        "duration": 96,
        "start_time": "2023-05-01T10:03:32.645Z"
      },
      {
        "duration": 62,
        "start_time": "2023-05-01T10:03:34.455Z"
      },
      {
        "duration": 27,
        "start_time": "2023-05-01T10:03:57.454Z"
      },
      {
        "duration": 104,
        "start_time": "2023-05-01T10:03:58.602Z"
      },
      {
        "duration": 31,
        "start_time": "2023-05-01T10:04:51.638Z"
      },
      {
        "duration": 8,
        "start_time": "2023-05-01T10:04:58.401Z"
      },
      {
        "duration": 6,
        "start_time": "2023-05-01T10:04:58.914Z"
      },
      {
        "duration": 23,
        "start_time": "2023-05-01T10:04:59.360Z"
      },
      {
        "duration": 27,
        "start_time": "2023-05-01T10:05:03.132Z"
      },
      {
        "duration": 17,
        "start_time": "2023-05-01T10:05:04.002Z"
      },
      {
        "duration": 20,
        "start_time": "2023-05-01T10:05:11.949Z"
      },
      {
        "duration": 157,
        "start_time": "2023-05-01T10:05:12.538Z"
      },
      {
        "duration": 10,
        "start_time": "2023-05-01T10:05:14.511Z"
      },
      {
        "duration": 34,
        "start_time": "2023-05-01T10:05:15.465Z"
      },
      {
        "duration": 28,
        "start_time": "2023-05-01T10:05:42.911Z"
      },
      {
        "duration": 48,
        "start_time": "2023-05-01T10:05:43.403Z"
      },
      {
        "duration": 27,
        "start_time": "2023-05-01T10:05:44.443Z"
      },
      {
        "duration": 35,
        "start_time": "2023-05-01T10:05:46.550Z"
      },
      {
        "duration": 34,
        "start_time": "2023-05-01T10:05:47.219Z"
      },
      {
        "duration": 284,
        "start_time": "2023-05-01T10:05:47.609Z"
      },
      {
        "duration": 28,
        "start_time": "2023-05-01T10:06:44.616Z"
      },
      {
        "duration": 27,
        "start_time": "2023-05-01T10:06:46.857Z"
      },
      {
        "duration": 15,
        "start_time": "2023-05-01T10:06:47.318Z"
      },
      {
        "duration": 11,
        "start_time": "2023-05-01T10:06:49.839Z"
      },
      {
        "duration": 18,
        "start_time": "2023-05-01T10:06:50.325Z"
      },
      {
        "duration": 71,
        "start_time": "2023-05-01T10:06:51.986Z"
      },
      {
        "duration": 19,
        "start_time": "2023-05-01T10:07:10.828Z"
      },
      {
        "duration": 19,
        "start_time": "2023-05-01T10:12:01.733Z"
      },
      {
        "duration": 235,
        "start_time": "2023-05-01T10:12:38.052Z"
      },
      {
        "duration": 12,
        "start_time": "2023-05-01T10:13:21.615Z"
      },
      {
        "duration": 572,
        "start_time": "2023-05-01T10:14:24.944Z"
      },
      {
        "duration": 37,
        "start_time": "2023-05-01T10:14:47.109Z"
      },
      {
        "duration": 614,
        "start_time": "2023-05-01T10:14:52.554Z"
      },
      {
        "duration": 12950,
        "start_time": "2023-05-01T10:15:42.728Z"
      },
      {
        "duration": 14344,
        "start_time": "2023-05-01T10:15:59.437Z"
      },
      {
        "duration": 14392,
        "start_time": "2023-05-01T10:16:36.599Z"
      },
      {
        "duration": 48,
        "start_time": "2023-05-01T10:17:21.155Z"
      },
      {
        "duration": 38,
        "start_time": "2023-05-01T10:17:31.430Z"
      },
      {
        "duration": 134,
        "start_time": "2023-05-01T10:18:16.338Z"
      },
      {
        "duration": 153,
        "start_time": "2023-05-01T10:19:12.240Z"
      },
      {
        "duration": 293,
        "start_time": "2023-05-01T10:19:17.200Z"
      },
      {
        "duration": 203,
        "start_time": "2023-05-01T10:19:22.708Z"
      },
      {
        "duration": 5472,
        "start_time": "2023-05-01T10:19:52.134Z"
      },
      {
        "duration": 1989,
        "start_time": "2023-05-01T10:20:02.860Z"
      },
      {
        "duration": 43,
        "start_time": "2023-05-01T10:20:21.409Z"
      },
      {
        "duration": 226,
        "start_time": "2023-05-01T10:21:16.064Z"
      },
      {
        "duration": 224,
        "start_time": "2023-05-01T10:21:21.151Z"
      },
      {
        "duration": 218,
        "start_time": "2023-05-01T10:21:26.017Z"
      },
      {
        "duration": 205,
        "start_time": "2023-05-01T10:21:38.089Z"
      },
      {
        "duration": 177,
        "start_time": "2023-05-01T10:22:14.141Z"
      },
      {
        "duration": 187,
        "start_time": "2023-05-01T10:26:54.964Z"
      },
      {
        "duration": 247,
        "start_time": "2023-05-01T10:27:00.405Z"
      },
      {
        "duration": 250,
        "start_time": "2023-05-01T10:27:05.607Z"
      },
      {
        "duration": 138,
        "start_time": "2023-05-01T10:28:21.820Z"
      },
      {
        "duration": 79,
        "start_time": "2023-05-01T10:36:04.723Z"
      },
      {
        "duration": 362,
        "start_time": "2023-05-01T10:37:20.011Z"
      },
      {
        "duration": 12,
        "start_time": "2023-05-01T10:37:21.714Z"
      },
      {
        "duration": 49,
        "start_time": "2023-05-01T10:38:21.897Z"
      },
      {
        "duration": 16,
        "start_time": "2023-05-01T10:38:45.010Z"
      },
      {
        "duration": 132,
        "start_time": "2023-05-01T10:38:49.536Z"
      },
      {
        "duration": 72,
        "start_time": "2023-05-01T10:38:51.157Z"
      },
      {
        "duration": 375,
        "start_time": "2023-05-01T10:38:52.027Z"
      },
      {
        "duration": 33,
        "start_time": "2023-05-01T10:38:52.840Z"
      },
      {
        "duration": 35,
        "start_time": "2023-05-01T10:39:12.743Z"
      },
      {
        "duration": 101,
        "start_time": "2023-05-01T10:39:27.561Z"
      },
      {
        "duration": 72,
        "start_time": "2023-05-01T10:39:28.402Z"
      },
      {
        "duration": 348,
        "start_time": "2023-05-01T10:39:28.850Z"
      },
      {
        "duration": 33,
        "start_time": "2023-05-01T10:39:29.344Z"
      },
      {
        "duration": 149,
        "start_time": "2023-05-01T10:43:01.006Z"
      },
      {
        "duration": 16,
        "start_time": "2023-05-01T10:43:30.748Z"
      },
      {
        "duration": 98,
        "start_time": "2023-05-01T10:43:34.323Z"
      },
      {
        "duration": 71,
        "start_time": "2023-05-01T10:43:35.452Z"
      },
      {
        "duration": 358,
        "start_time": "2023-05-01T10:43:36.498Z"
      },
      {
        "duration": 147,
        "start_time": "2023-05-01T10:43:37.360Z"
      },
      {
        "duration": 136,
        "start_time": "2023-05-01T10:44:58.535Z"
      },
      {
        "duration": 140,
        "start_time": "2023-05-01T10:45:13.105Z"
      },
      {
        "duration": 134,
        "start_time": "2023-05-01T10:45:25.136Z"
      },
      {
        "duration": 130,
        "start_time": "2023-05-01T10:47:53.550Z"
      },
      {
        "duration": 129,
        "start_time": "2023-05-01T10:48:02.413Z"
      },
      {
        "duration": 108,
        "start_time": "2023-05-01T10:48:07.498Z"
      },
      {
        "duration": 71,
        "start_time": "2023-05-01T10:48:08.364Z"
      },
      {
        "duration": 351,
        "start_time": "2023-05-01T10:48:08.817Z"
      },
      {
        "duration": 3,
        "start_time": "2023-05-01T10:48:09.862Z"
      },
      {
        "duration": 35,
        "start_time": "2023-05-01T10:48:10.220Z"
      },
      {
        "duration": 2,
        "start_time": "2023-05-01T10:48:15.921Z"
      },
      {
        "duration": 102,
        "start_time": "2023-05-01T10:49:25.684Z"
      },
      {
        "duration": 72,
        "start_time": "2023-05-01T10:49:26.313Z"
      },
      {
        "duration": 366,
        "start_time": "2023-05-01T10:49:27.533Z"
      },
      {
        "duration": 2,
        "start_time": "2023-05-01T10:49:28.605Z"
      },
      {
        "duration": 119,
        "start_time": "2023-05-01T10:49:29.056Z"
      },
      {
        "duration": 152,
        "start_time": "2023-05-01T10:49:34.737Z"
      },
      {
        "duration": 150,
        "start_time": "2023-05-01T10:49:43.745Z"
      },
      {
        "duration": 13,
        "start_time": "2023-05-01T10:49:49.533Z"
      },
      {
        "duration": 719,
        "start_time": "2023-05-01T10:53:06.613Z"
      },
      {
        "duration": 6,
        "start_time": "2023-05-01T10:53:12.556Z"
      },
      {
        "duration": 178,
        "start_time": "2023-05-01T10:53:18.055Z"
      },
      {
        "duration": 11,
        "start_time": "2023-05-01T10:54:36.241Z"
      },
      {
        "duration": 211,
        "start_time": "2023-05-01T10:55:04.039Z"
      },
      {
        "duration": 79,
        "start_time": "2023-05-01T11:09:07.111Z"
      },
      {
        "duration": 255,
        "start_time": "2023-05-01T11:09:08.256Z"
      },
      {
        "duration": 8,
        "start_time": "2023-05-01T11:10:27.816Z"
      },
      {
        "duration": 2474,
        "start_time": "2023-05-01T11:10:28.732Z"
      },
      {
        "duration": 34,
        "start_time": "2023-05-01T11:10:31.214Z"
      },
      {
        "duration": 7,
        "start_time": "2023-05-01T11:10:31.251Z"
      },
      {
        "duration": 231,
        "start_time": "2023-05-01T11:10:31.260Z"
      },
      {
        "duration": 130,
        "start_time": "2023-05-01T11:10:31.497Z"
      },
      {
        "duration": 676,
        "start_time": "2023-05-01T11:10:31.629Z"
      },
      {
        "duration": 160,
        "start_time": "2023-05-01T11:10:32.309Z"
      },
      {
        "duration": 109,
        "start_time": "2023-05-01T11:10:32.472Z"
      },
      {
        "duration": 37,
        "start_time": "2023-05-01T11:10:32.583Z"
      },
      {
        "duration": 29,
        "start_time": "2023-05-01T11:10:32.622Z"
      },
      {
        "duration": 52,
        "start_time": "2023-05-01T11:10:32.653Z"
      },
      {
        "duration": 8,
        "start_time": "2023-05-01T11:10:33.060Z"
      },
      {
        "duration": 12,
        "start_time": "2023-05-01T11:10:33.255Z"
      },
      {
        "duration": 29,
        "start_time": "2023-05-01T11:10:33.457Z"
      },
      {
        "duration": 25,
        "start_time": "2023-05-01T11:10:33.822Z"
      },
      {
        "duration": 45,
        "start_time": "2023-05-01T11:10:34.406Z"
      },
      {
        "duration": 27,
        "start_time": "2023-05-01T11:10:34.560Z"
      },
      {
        "duration": 21,
        "start_time": "2023-05-01T11:10:35.150Z"
      },
      {
        "duration": 231,
        "start_time": "2023-05-01T11:10:35.337Z"
      },
      {
        "duration": 26,
        "start_time": "2023-05-01T11:10:35.571Z"
      },
      {
        "duration": 41,
        "start_time": "2023-05-01T11:10:35.740Z"
      },
      {
        "duration": 44,
        "start_time": "2023-05-01T11:10:39.164Z"
      },
      {
        "duration": 51,
        "start_time": "2023-05-01T11:10:39.485Z"
      },
      {
        "duration": 71,
        "start_time": "2023-05-01T11:10:40.237Z"
      },
      {
        "duration": 55,
        "start_time": "2023-05-01T11:10:40.430Z"
      },
      {
        "duration": 42,
        "start_time": "2023-05-01T11:10:40.919Z"
      },
      {
        "duration": 391,
        "start_time": "2023-05-01T11:10:41.119Z"
      },
      {
        "duration": 43,
        "start_time": "2023-05-01T11:10:41.740Z"
      },
      {
        "duration": 40,
        "start_time": "2023-05-01T11:10:42.129Z"
      },
      {
        "duration": 24,
        "start_time": "2023-05-01T11:10:42.661Z"
      },
      {
        "duration": 15,
        "start_time": "2023-05-01T11:10:43.322Z"
      },
      {
        "duration": 19,
        "start_time": "2023-05-01T11:10:43.540Z"
      },
      {
        "duration": 80,
        "start_time": "2023-05-01T11:10:43.756Z"
      },
      {
        "duration": 24,
        "start_time": "2023-05-01T11:10:44.309Z"
      },
      {
        "duration": 17,
        "start_time": "2023-05-01T11:10:45.244Z"
      },
      {
        "duration": 756,
        "start_time": "2023-05-01T11:10:45.622Z"
      },
      {
        "duration": 46,
        "start_time": "2023-05-01T11:10:46.381Z"
      },
      {
        "duration": 223,
        "start_time": "2023-05-01T11:10:46.430Z"
      },
      {
        "duration": 225,
        "start_time": "2023-05-01T11:10:46.656Z"
      },
      {
        "duration": 225,
        "start_time": "2023-05-01T11:10:46.892Z"
      },
      {
        "duration": 127,
        "start_time": "2023-05-01T11:10:50.424Z"
      },
      {
        "duration": 67,
        "start_time": "2023-05-01T11:10:51.425Z"
      },
      {
        "duration": 418,
        "start_time": "2023-05-01T11:10:52.715Z"
      },
      {
        "duration": 157,
        "start_time": "2023-05-01T11:10:54.456Z"
      },
      {
        "duration": 193,
        "start_time": "2023-05-01T11:10:55.106Z"
      },
      {
        "duration": 19,
        "start_time": "2023-05-01T11:10:55.634Z"
      },
      {
        "duration": 72,
        "start_time": "2023-05-01T11:10:58.014Z"
      },
      {
        "duration": 325,
        "start_time": "2023-05-01T11:10:59.515Z"
      },
      {
        "duration": 142,
        "start_time": "2023-05-01T11:12:48.742Z"
      },
      {
        "duration": 49,
        "start_time": "2023-05-01T11:12:49.852Z"
      },
      {
        "duration": 149,
        "start_time": "2023-05-01T11:14:11.556Z"
      },
      {
        "duration": 34,
        "start_time": "2023-05-01T11:14:12.334Z"
      },
      {
        "duration": 31,
        "start_time": "2023-05-01T11:14:25.930Z"
      },
      {
        "duration": 118,
        "start_time": "2023-05-01T11:14:33.369Z"
      },
      {
        "duration": 531,
        "start_time": "2023-05-01T11:14:37.949Z"
      },
      {
        "duration": 230,
        "start_time": "2023-05-01T11:14:39.230Z"
      },
      {
        "duration": 225,
        "start_time": "2023-05-01T11:14:39.837Z"
      },
      {
        "duration": 43,
        "start_time": "2023-05-01T11:14:42.520Z"
      },
      {
        "duration": 61,
        "start_time": "2023-05-01T11:14:48.335Z"
      },
      {
        "duration": 36,
        "start_time": "2023-05-01T11:14:55.453Z"
      },
      {
        "duration": 172,
        "start_time": "2023-05-01T11:17:06.818Z"
      },
      {
        "duration": 94,
        "start_time": "2023-05-01T11:17:07.655Z"
      },
      {
        "duration": 128,
        "start_time": "2023-05-01T11:17:19.156Z"
      },
      {
        "duration": 531,
        "start_time": "2023-05-01T11:17:20.465Z"
      },
      {
        "duration": 195,
        "start_time": "2023-05-01T11:17:21.021Z"
      },
      {
        "duration": 184,
        "start_time": "2023-05-01T11:17:21.650Z"
      },
      {
        "duration": 36,
        "start_time": "2023-05-01T11:17:22.731Z"
      },
      {
        "duration": 32,
        "start_time": "2023-05-01T11:17:24.750Z"
      },
      {
        "duration": 153,
        "start_time": "2023-05-01T11:19:05.945Z"
      },
      {
        "duration": 123,
        "start_time": "2023-05-01T11:19:06.927Z"
      },
      {
        "duration": 523,
        "start_time": "2023-05-01T11:19:07.527Z"
      },
      {
        "duration": 216,
        "start_time": "2023-05-01T11:19:08.230Z"
      },
      {
        "duration": 214,
        "start_time": "2023-05-01T11:19:08.844Z"
      },
      {
        "duration": 43,
        "start_time": "2023-05-01T11:19:09.434Z"
      },
      {
        "duration": 36,
        "start_time": "2023-05-01T11:19:11.941Z"
      },
      {
        "duration": 185,
        "start_time": "2023-05-01T11:19:16.044Z"
      },
      {
        "duration": 121,
        "start_time": "2023-05-01T11:19:17.169Z"
      },
      {
        "duration": 523,
        "start_time": "2023-05-01T11:19:17.525Z"
      },
      {
        "duration": 229,
        "start_time": "2023-05-01T11:19:18.051Z"
      },
      {
        "duration": 200,
        "start_time": "2023-05-01T11:19:18.287Z"
      },
      {
        "duration": 44,
        "start_time": "2023-05-01T11:19:18.718Z"
      },
      {
        "duration": 37,
        "start_time": "2023-05-01T11:19:22.147Z"
      },
      {
        "duration": 201,
        "start_time": "2023-05-01T11:19:52.160Z"
      },
      {
        "duration": 118,
        "start_time": "2023-05-01T11:19:55.423Z"
      },
      {
        "duration": 198,
        "start_time": "2023-05-01T11:20:40.079Z"
      },
      {
        "duration": 125,
        "start_time": "2023-05-01T11:20:41.015Z"
      },
      {
        "duration": 505,
        "start_time": "2023-05-01T11:20:41.550Z"
      },
      {
        "duration": 228,
        "start_time": "2023-05-01T11:20:42.505Z"
      },
      {
        "duration": 229,
        "start_time": "2023-05-01T11:20:43.121Z"
      },
      {
        "duration": 41,
        "start_time": "2023-05-01T11:20:44.358Z"
      },
      {
        "duration": 57,
        "start_time": "2023-05-01T11:20:48.565Z"
      },
      {
        "duration": 160,
        "start_time": "2023-05-01T11:21:23.871Z"
      },
      {
        "duration": 106,
        "start_time": "2023-05-01T11:21:24.733Z"
      },
      {
        "duration": 482,
        "start_time": "2023-05-01T11:21:25.314Z"
      },
      {
        "duration": 33,
        "start_time": "2023-05-01T11:21:29.099Z"
      },
      {
        "duration": 157,
        "start_time": "2023-05-01T11:21:59.254Z"
      },
      {
        "duration": 128,
        "start_time": "2023-05-01T11:22:00.100Z"
      },
      {
        "duration": 477,
        "start_time": "2023-05-01T11:22:00.420Z"
      },
      {
        "duration": 195,
        "start_time": "2023-05-01T11:22:00.901Z"
      },
      {
        "duration": 149,
        "start_time": "2023-05-01T11:22:01.226Z"
      },
      {
        "duration": 24,
        "start_time": "2023-05-01T11:22:02.292Z"
      },
      {
        "duration": 23,
        "start_time": "2023-05-01T11:22:05.509Z"
      },
      {
        "duration": 12,
        "start_time": "2023-05-01T11:22:24.746Z"
      },
      {
        "duration": 84,
        "start_time": "2023-05-01T11:23:15.963Z"
      },
      {
        "duration": 455,
        "start_time": "2023-05-01T11:23:19.850Z"
      },
      {
        "duration": 8,
        "start_time": "2023-05-01T11:24:24.921Z"
      },
      {
        "duration": 58,
        "start_time": "2023-05-01T11:25:35.025Z"
      },
      {
        "duration": 9,
        "start_time": "2023-05-01T11:26:46.750Z"
      },
      {
        "duration": 739870,
        "start_time": "2023-05-01T11:28:55.805Z"
      },
      {
        "duration": 3815,
        "start_time": "2023-05-01T11:45:46.975Z"
      },
      {
        "duration": 64,
        "start_time": "2023-05-01T11:47:40.791Z"
      },
      {
        "duration": 8673,
        "start_time": "2023-05-01T11:48:10.578Z"
      },
      {
        "duration": 5,
        "start_time": "2023-05-01T11:48:19.254Z"
      },
      {
        "duration": 5,
        "start_time": "2023-05-01T11:48:22.464Z"
      },
      {
        "duration": 59,
        "start_time": "2023-05-01T11:52:18.546Z"
      },
      {
        "duration": 3,
        "start_time": "2023-05-01T11:52:48.946Z"
      },
      {
        "duration": 2117,
        "start_time": "2023-05-01T11:52:48.951Z"
      },
      {
        "duration": 5095,
        "start_time": "2023-05-01T11:52:51.072Z"
      },
      {
        "duration": 18,
        "start_time": "2023-05-01T11:52:56.170Z"
      },
      {
        "duration": 6,
        "start_time": "2023-05-01T11:52:56.198Z"
      },
      {
        "duration": 247,
        "start_time": "2023-05-01T11:52:56.213Z"
      },
      {
        "duration": 157,
        "start_time": "2023-05-01T11:52:56.463Z"
      },
      {
        "duration": 908,
        "start_time": "2023-05-01T11:52:56.627Z"
      },
      {
        "duration": 159,
        "start_time": "2023-05-01T11:52:57.540Z"
      },
      {
        "duration": 139,
        "start_time": "2023-05-01T11:52:57.701Z"
      },
      {
        "duration": 51,
        "start_time": "2023-05-01T11:52:57.849Z"
      },
      {
        "duration": 38,
        "start_time": "2023-05-01T11:52:57.908Z"
      },
      {
        "duration": 62,
        "start_time": "2023-05-01T11:52:57.950Z"
      },
      {
        "duration": 9,
        "start_time": "2023-05-01T11:52:58.015Z"
      },
      {
        "duration": 10,
        "start_time": "2023-05-01T11:52:58.027Z"
      },
      {
        "duration": 37,
        "start_time": "2023-05-01T11:52:58.039Z"
      },
      {
        "duration": 48,
        "start_time": "2023-05-01T11:52:58.078Z"
      },
      {
        "duration": 75,
        "start_time": "2023-05-01T11:52:58.133Z"
      },
      {
        "duration": 33,
        "start_time": "2023-05-01T11:52:58.210Z"
      },
      {
        "duration": 23,
        "start_time": "2023-05-01T11:52:58.246Z"
      },
      {
        "duration": 259,
        "start_time": "2023-05-01T11:52:58.272Z"
      },
      {
        "duration": 16,
        "start_time": "2023-05-01T11:52:58.533Z"
      },
      {
        "duration": 59,
        "start_time": "2023-05-01T11:52:58.552Z"
      },
      {
        "duration": 46,
        "start_time": "2023-05-01T11:52:58.614Z"
      },
      {
        "duration": 86,
        "start_time": "2023-05-01T11:52:58.663Z"
      },
      {
        "duration": 77,
        "start_time": "2023-05-01T11:52:58.752Z"
      },
      {
        "duration": 43,
        "start_time": "2023-05-01T11:52:58.832Z"
      },
      {
        "duration": 49,
        "start_time": "2023-05-01T11:52:58.878Z"
      },
      {
        "duration": 426,
        "start_time": "2023-05-01T11:52:58.935Z"
      },
      {
        "duration": 48,
        "start_time": "2023-05-01T11:52:59.363Z"
      },
      {
        "duration": 78,
        "start_time": "2023-05-01T11:52:59.414Z"
      },
      {
        "duration": 26,
        "start_time": "2023-05-01T11:52:59.503Z"
      },
      {
        "duration": 17,
        "start_time": "2023-05-01T11:52:59.531Z"
      },
      {
        "duration": 26,
        "start_time": "2023-05-01T11:52:59.550Z"
      },
      {
        "duration": 103,
        "start_time": "2023-05-01T11:52:59.578Z"
      },
      {
        "duration": 23,
        "start_time": "2023-05-01T11:52:59.684Z"
      },
      {
        "duration": 18,
        "start_time": "2023-05-01T11:52:59.709Z"
      },
      {
        "duration": 763,
        "start_time": "2023-05-01T11:52:59.730Z"
      },
      {
        "duration": 39,
        "start_time": "2023-05-01T11:53:00.501Z"
      },
      {
        "duration": 241,
        "start_time": "2023-05-01T11:53:00.543Z"
      },
      {
        "duration": 248,
        "start_time": "2023-05-01T11:53:00.786Z"
      },
      {
        "duration": 209,
        "start_time": "2023-05-01T11:53:01.036Z"
      },
      {
        "duration": 188,
        "start_time": "2023-05-01T11:53:01.248Z"
      },
      {
        "duration": 120,
        "start_time": "2023-05-01T11:53:01.438Z"
      },
      {
        "duration": 543,
        "start_time": "2023-05-01T11:53:01.560Z"
      },
      {
        "duration": 309,
        "start_time": "2023-05-01T11:53:02.105Z"
      },
      {
        "duration": 212,
        "start_time": "2023-05-01T11:53:02.416Z"
      },
      {
        "duration": 14,
        "start_time": "2023-05-01T11:53:02.630Z"
      },
      {
        "duration": 158,
        "start_time": "2023-05-01T11:53:02.645Z"
      },
      {
        "duration": 452,
        "start_time": "2023-05-01T11:53:02.810Z"
      },
      {
        "duration": 7,
        "start_time": "2023-05-01T11:53:03.265Z"
      },
      {
        "duration": 764362,
        "start_time": "2023-05-01T11:53:03.274Z"
      },
      {
        "duration": 206,
        "start_time": "2023-05-01T12:06:32.172Z"
      },
      {
        "duration": 52,
        "start_time": "2023-05-01T12:06:38.839Z"
      },
      {
        "duration": 5,
        "start_time": "2023-05-01T12:06:41.148Z"
      },
      {
        "duration": 19732,
        "start_time": "2023-05-01T12:06:43.356Z"
      },
      {
        "duration": 5,
        "start_time": "2023-05-01T12:08:40.543Z"
      },
      {
        "duration": 82,
        "start_time": "2023-05-01T12:08:51.118Z"
      },
      {
        "duration": 8,
        "start_time": "2023-05-01T12:09:00.865Z"
      },
      {
        "duration": 4405,
        "start_time": "2023-05-01T12:09:09.333Z"
      },
      {
        "duration": 9,
        "start_time": "2023-05-01T12:09:41.290Z"
      },
      {
        "duration": 66886,
        "start_time": "2023-05-01T12:09:41.777Z"
      },
      {
        "duration": 49702,
        "start_time": "2023-05-01T12:11:12.925Z"
      },
      {
        "duration": 4194,
        "start_time": "2023-05-01T12:12:06.237Z"
      },
      {
        "duration": 5,
        "start_time": "2023-05-01T12:12:34.787Z"
      },
      {
        "duration": 134,
        "start_time": "2023-05-01T12:14:06.935Z"
      },
      {
        "duration": 125,
        "start_time": "2023-05-01T12:14:18.659Z"
      },
      {
        "duration": 877,
        "start_time": "2023-05-01T12:14:22.901Z"
      },
      {
        "duration": 36,
        "start_time": "2023-05-01T12:14:28.586Z"
      },
      {
        "duration": 7,
        "start_time": "2023-05-01T12:34:11.880Z"
      },
      {
        "duration": 19,
        "start_time": "2023-05-01T12:34:44.546Z"
      },
      {
        "duration": 16678,
        "start_time": "2023-05-01T12:34:59.449Z"
      },
      {
        "duration": 13,
        "start_time": "2023-05-01T12:36:50.335Z"
      },
      {
        "duration": 1921,
        "start_time": "2023-05-01T12:45:54.748Z"
      },
      {
        "duration": 1908,
        "start_time": "2023-05-01T12:48:25.113Z"
      },
      {
        "duration": 1961,
        "start_time": "2023-05-01T12:48:45.521Z"
      },
      {
        "duration": 10,
        "start_time": "2023-05-01T12:51:36.210Z"
      },
      {
        "duration": 103,
        "start_time": "2023-05-01T12:51:41.396Z"
      },
      {
        "duration": 40,
        "start_time": "2023-05-01T12:53:29.325Z"
      },
      {
        "duration": 116,
        "start_time": "2023-05-01T12:53:59.211Z"
      },
      {
        "duration": 32,
        "start_time": "2023-05-01T12:54:00.837Z"
      },
      {
        "duration": 34,
        "start_time": "2023-05-01T12:54:45.396Z"
      },
      {
        "duration": 13,
        "start_time": "2023-05-01T12:55:09.738Z"
      },
      {
        "duration": 121,
        "start_time": "2023-05-01T12:55:10.192Z"
      },
      {
        "duration": 29,
        "start_time": "2023-05-01T12:55:13.514Z"
      },
      {
        "duration": 31,
        "start_time": "2023-05-01T12:56:40.516Z"
      },
      {
        "duration": 31,
        "start_time": "2023-05-01T12:56:48.636Z"
      },
      {
        "duration": 119,
        "start_time": "2023-05-01T12:56:57.824Z"
      },
      {
        "duration": 52,
        "start_time": "2023-05-01T12:56:58.692Z"
      },
      {
        "duration": 20,
        "start_time": "2023-05-01T12:56:59.333Z"
      },
      {
        "duration": 2501,
        "start_time": "2023-05-01T12:57:06.341Z"
      },
      {
        "duration": 6,
        "start_time": "2023-05-01T13:01:23.390Z"
      },
      {
        "duration": 24,
        "start_time": "2023-05-01T13:03:26.214Z"
      },
      {
        "duration": 29,
        "start_time": "2023-05-01T13:03:57.354Z"
      },
      {
        "duration": 356811,
        "start_time": "2023-05-01T13:04:21.134Z"
      },
      {
        "duration": 8,
        "start_time": "2023-05-01T13:10:24.232Z"
      },
      {
        "duration": 40581,
        "start_time": "2023-05-01T13:10:56.136Z"
      },
      {
        "duration": 156,
        "start_time": "2023-05-01T13:11:59.649Z"
      },
      {
        "duration": 117,
        "start_time": "2023-05-01T13:14:22.291Z"
      },
      {
        "duration": 18,
        "start_time": "2023-05-01T13:14:55.837Z"
      },
      {
        "duration": 112,
        "start_time": "2023-05-01T13:15:13.096Z"
      },
      {
        "duration": 2595,
        "start_time": "2023-05-01T13:15:13.548Z"
      },
      {
        "duration": 23,
        "start_time": "2023-05-01T13:16:40.043Z"
      },
      {
        "duration": 12,
        "start_time": "2023-05-01T13:20:51.276Z"
      },
      {
        "duration": 16,
        "start_time": "2023-05-01T13:21:38.050Z"
      },
      {
        "duration": 6,
        "start_time": "2023-05-01T13:21:41.093Z"
      },
      {
        "duration": 96110,
        "start_time": "2023-05-01T13:21:41.439Z"
      },
      {
        "duration": 4,
        "start_time": "2023-05-01T13:23:49.186Z"
      },
      {
        "duration": 7,
        "start_time": "2023-05-01T13:24:01.989Z"
      },
      {
        "duration": 16,
        "start_time": "2023-05-01T13:24:18.584Z"
      },
      {
        "duration": 12,
        "start_time": "2023-05-01T13:24:23.298Z"
      },
      {
        "duration": 5,
        "start_time": "2023-05-01T13:25:09.446Z"
      },
      {
        "duration": 6408,
        "start_time": "2023-05-01T13:25:20.843Z"
      },
      {
        "duration": 5575,
        "start_time": "2023-05-01T13:25:42.232Z"
      },
      {
        "duration": 6,
        "start_time": "2023-05-01T13:25:52.769Z"
      },
      {
        "duration": 16,
        "start_time": "2023-05-01T13:25:53.227Z"
      },
      {
        "duration": 12,
        "start_time": "2023-05-01T13:25:53.593Z"
      },
      {
        "duration": 3998,
        "start_time": "2023-05-01T13:25:54.825Z"
      },
      {
        "duration": 8,
        "start_time": "2023-05-01T13:26:06.912Z"
      },
      {
        "duration": 2587,
        "start_time": "2023-05-01T13:26:07.358Z"
      },
      {
        "duration": 8,
        "start_time": "2023-05-01T13:29:26.593Z"
      },
      {
        "duration": 6,
        "start_time": "2023-05-01T13:29:27.033Z"
      },
      {
        "duration": 2800,
        "start_time": "2023-05-01T13:29:27.635Z"
      },
      {
        "duration": 29,
        "start_time": "2023-05-01T13:29:32.254Z"
      },
      {
        "duration": 7,
        "start_time": "2023-05-01T13:30:15.820Z"
      },
      {
        "duration": 5,
        "start_time": "2023-05-01T13:30:20.170Z"
      },
      {
        "duration": 3,
        "start_time": "2023-05-01T13:40:46.883Z"
      },
      {
        "duration": 9,
        "start_time": "2023-05-01T13:40:47.517Z"
      },
      {
        "duration": 14,
        "start_time": "2023-05-01T13:40:48.039Z"
      },
      {
        "duration": 4,
        "start_time": "2023-05-01T13:41:04.334Z"
      },
      {
        "duration": 4,
        "start_time": "2023-05-01T13:49:39.353Z"
      },
      {
        "duration": 4,
        "start_time": "2023-05-01T13:50:40.040Z"
      },
      {
        "duration": 12,
        "start_time": "2023-05-01T13:50:40.485Z"
      },
      {
        "duration": 4,
        "start_time": "2023-05-01T13:50:55.755Z"
      },
      {
        "duration": 3,
        "start_time": "2023-05-01T13:50:56.142Z"
      },
      {
        "duration": 2994,
        "start_time": "2023-05-01T13:50:58.432Z"
      },
      {
        "duration": 15,
        "start_time": "2023-05-01T13:51:28.837Z"
      },
      {
        "duration": 4,
        "start_time": "2023-05-01T13:51:57.451Z"
      },
      {
        "duration": 3256,
        "start_time": "2023-05-01T13:52:00.055Z"
      },
      {
        "duration": 23,
        "start_time": "2023-05-01T13:52:04.922Z"
      },
      {
        "duration": 6,
        "start_time": "2023-05-01T13:52:37.321Z"
      },
      {
        "duration": 2818,
        "start_time": "2023-05-01T13:52:38.333Z"
      },
      {
        "duration": 15,
        "start_time": "2023-05-01T13:52:44.251Z"
      },
      {
        "duration": 3,
        "start_time": "2023-05-01T13:53:16.535Z"
      },
      {
        "duration": 1589,
        "start_time": "2023-05-01T13:53:16.854Z"
      },
      {
        "duration": 13,
        "start_time": "2023-05-01T13:53:20.236Z"
      },
      {
        "duration": 3,
        "start_time": "2023-05-01T13:54:01.436Z"
      },
      {
        "duration": 3,
        "start_time": "2023-05-01T13:54:01.734Z"
      },
      {
        "duration": 6,
        "start_time": "2023-05-01T13:54:02.063Z"
      },
      {
        "duration": 3,
        "start_time": "2023-05-01T13:54:02.486Z"
      },
      {
        "duration": 14314,
        "start_time": "2023-05-01T13:54:03.482Z"
      },
      {
        "duration": 28,
        "start_time": "2023-05-01T13:54:31.312Z"
      },
      {
        "duration": 3,
        "start_time": "2023-05-01T13:54:45.862Z"
      },
      {
        "duration": 10594,
        "start_time": "2023-05-01T13:54:46.507Z"
      },
      {
        "duration": 40,
        "start_time": "2023-05-01T13:54:57.111Z"
      },
      {
        "duration": 3,
        "start_time": "2023-05-01T13:55:03.945Z"
      },
      {
        "duration": 18485,
        "start_time": "2023-05-01T13:55:04.519Z"
      },
      {
        "duration": 31,
        "start_time": "2023-05-01T13:55:23.010Z"
      },
      {
        "duration": 7,
        "start_time": "2023-05-01T13:55:36.909Z"
      },
      {
        "duration": 5,
        "start_time": "2023-05-01T13:55:37.342Z"
      },
      {
        "duration": 15194,
        "start_time": "2023-05-01T13:55:37.738Z"
      },
      {
        "duration": 15,
        "start_time": "2023-05-01T13:55:52.939Z"
      },
      {
        "duration": 105,
        "start_time": "2023-05-01T13:56:34.706Z"
      },
      {
        "duration": 4,
        "start_time": "2023-05-01T13:56:35.545Z"
      },
      {
        "duration": 3,
        "start_time": "2023-05-01T13:56:39.458Z"
      },
      {
        "duration": 10,
        "start_time": "2023-05-01T13:56:39.906Z"
      },
      {
        "duration": 3,
        "start_time": "2023-05-01T13:56:40.358Z"
      },
      {
        "duration": 75,
        "start_time": "2023-05-01T13:56:40.912Z"
      },
      {
        "duration": 3,
        "start_time": "2023-05-01T13:57:10.529Z"
      },
      {
        "duration": 8,
        "start_time": "2023-05-01T13:57:11.213Z"
      },
      {
        "duration": 5,
        "start_time": "2023-05-01T13:57:11.606Z"
      },
      {
        "duration": 101,
        "start_time": "2023-05-01T13:57:11.922Z"
      },
      {
        "duration": 2123,
        "start_time": "2023-05-01T13:59:35.108Z"
      },
      {
        "duration": 4,
        "start_time": "2023-05-01T13:59:57.240Z"
      },
      {
        "duration": 114,
        "start_time": "2023-05-01T14:00:31.646Z"
      },
      {
        "duration": 81,
        "start_time": "2023-05-01T14:00:32.489Z"
      },
      {
        "duration": 343,
        "start_time": "2023-05-01T14:00:32.838Z"
      },
      {
        "duration": 138,
        "start_time": "2023-05-01T14:00:33.331Z"
      },
      {
        "duration": 144,
        "start_time": "2023-05-01T14:00:33.757Z"
      },
      {
        "duration": 9,
        "start_time": "2023-05-01T14:00:36.536Z"
      },
      {
        "duration": 56,
        "start_time": "2023-05-01T14:00:37.611Z"
      },
      {
        "duration": 283,
        "start_time": "2023-05-01T14:00:38.319Z"
      },
      {
        "duration": 31618,
        "start_time": "2023-05-01T14:00:49.536Z"
      },
      {
        "duration": 333950,
        "start_time": "2023-05-01T14:01:34.358Z"
      },
      {
        "duration": 11,
        "start_time": "2023-05-01T14:07:08.310Z"
      },
      {
        "duration": 3096,
        "start_time": "2023-05-01T14:07:08.323Z"
      },
      {
        "duration": 106,
        "start_time": "2023-05-01T14:07:11.426Z"
      },
      {
        "duration": 7040,
        "start_time": "2023-05-01T14:07:51.559Z"
      },
      {
        "duration": 403,
        "start_time": "2023-05-01T14:08:00.738Z"
      },
      {
        "duration": 3543,
        "start_time": "2023-05-01T14:09:49.658Z"
      },
      {
        "duration": 107,
        "start_time": "2023-05-01T14:14:57.162Z"
      },
      {
        "duration": 3,
        "start_time": "2023-05-01T14:21:12.587Z"
      },
      {
        "duration": 13,
        "start_time": "2023-05-01T14:21:13.136Z"
      }
    ],
    "kernelspec": {
      "display_name": "Python 3 (ipykernel)",
      "language": "python",
      "name": "python3"
    },
    "language_info": {
      "codemirror_mode": {
        "name": "ipython",
        "version": 3
      },
      "file_extension": ".py",
      "mimetype": "text/x-python",
      "name": "python",
      "nbconvert_exporter": "python",
      "pygments_lexer": "ipython3",
      "version": "3.9.15"
    },
    "toc": {
      "base_numbering": 1,
      "nav_menu": {},
      "number_sections": true,
      "sideBar": true,
      "skip_h1_title": true,
      "title_cell": "Table of Contents",
      "title_sidebar": "Contents",
      "toc_cell": false,
      "toc_position": {},
      "toc_section_display": true,
      "toc_window_display": false
    },
    "colab": {
      "provenance": []
    }
  },
  "nbformat": 4,
  "nbformat_minor": 0
}